{
  "nbformat": 4,
  "nbformat_minor": 0,
  "metadata": {
    "colab": {
      "name": "Thống kê suy diễn.ipynb",
      "provenance": [],
      "authorship_tag": "ABX9TyOx7lvdLRaP4neIzolqfl7k",
      "include_colab_link": true
    },
    "kernelspec": {
      "name": "python3",
      "display_name": "Python 3"
    },
    "language_info": {
      "name": "python"
    }
  },
  "cells": [
    {
      "cell_type": "markdown",
      "metadata": {
        "id": "view-in-github",
        "colab_type": "text"
      },
      "source": [
        "<a href=\"https://colab.research.google.com/github/khoa2210/Do-an-/blob/main/Th%E1%BB%91ng_k%C3%AA_suy_di%E1%BB%85n.ipynb\" target=\"_parent\"><img src=\"https://colab.research.google.com/assets/colab-badge.svg\" alt=\"Open In Colab\"/></a>"
      ]
    },
    {
      "cell_type": "code",
      "metadata": {
        "id": "8KE0Owe4fpht"
      },
      "source": [
        "import numpy as np\n",
        "import pandas as pd\n",
        "import matplotlib.pyplot as plt \n",
        "import seaborn as sns\n",
        "import statsmodels\n",
        "import statsmodels.api as sm\n",
        "from statsmodels.formula.api import ols\n",
        "from scipy import stats\n",
        "from statsmodels.stats.multicomp import pairwise_tukeyhsd\n",
        "from pingouin import ancova"
      ],
      "execution_count": 91,
      "outputs": []
    },
    {
      "cell_type": "code",
      "metadata": {
        "colab": {
          "resources": {
            "http://localhost:8080/nbextensions/google.colab/files.js": {
              "data": "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",
              "ok": true,
              "headers": [
                [
                  "content-type",
                  "application/javascript"
                ]
              ],
              "status": 200,
              "status_text": ""
            }
          },
          "base_uri": "https://localhost:8080/",
          "height": 73
        },
        "id": "xCB-upHsf0p9",
        "outputId": "0ad7bf2e-7d1c-4ab2-823c-d29b80ae1f99"
      },
      "source": [
        "from google.colab import files\n",
        "uploaded = files.upload()"
      ],
      "execution_count": 3,
      "outputs": [
        {
          "output_type": "display_data",
          "data": {
            "text/html": [
              "\n",
              "     <input type=\"file\" id=\"files-54c0460d-9399-48c3-b2ef-be90a9e5ff4e\" name=\"files[]\" multiple disabled\n",
              "        style=\"border:none\" />\n",
              "     <output id=\"result-54c0460d-9399-48c3-b2ef-be90a9e5ff4e\">\n",
              "      Upload widget is only available when the cell has been executed in the\n",
              "      current browser session. Please rerun this cell to enable.\n",
              "      </output>\n",
              "      <script src=\"/nbextensions/google.colab/files.js\"></script> "
            ],
            "text/plain": [
              "<IPython.core.display.HTML object>"
            ]
          },
          "metadata": {
            "tags": []
          }
        },
        {
          "output_type": "stream",
          "text": [
            "Saving Diet_R.csv to Diet_R.csv\n"
          ],
          "name": "stdout"
        }
      ]
    },
    {
      "cell_type": "code",
      "metadata": {
        "colab": {
          "base_uri": "https://localhost:8080/",
          "height": 417
        },
        "id": "KWa9OITef8eL",
        "outputId": "dbb88369-bbe8-44ed-e006-ff7b834bfe46"
      },
      "source": [
        "df = pd.read_csv(\"Diet_R.csv\")\n",
        "df"
      ],
      "execution_count": 5,
      "outputs": [
        {
          "output_type": "execute_result",
          "data": {
            "text/html": [
              "<div>\n",
              "<style scoped>\n",
              "    .dataframe tbody tr th:only-of-type {\n",
              "        vertical-align: middle;\n",
              "    }\n",
              "\n",
              "    .dataframe tbody tr th {\n",
              "        vertical-align: top;\n",
              "    }\n",
              "\n",
              "    .dataframe thead th {\n",
              "        text-align: right;\n",
              "    }\n",
              "</style>\n",
              "<table border=\"1\" class=\"dataframe\">\n",
              "  <thead>\n",
              "    <tr style=\"text-align: right;\">\n",
              "      <th></th>\n",
              "      <th>Person</th>\n",
              "      <th>gender</th>\n",
              "      <th>Age</th>\n",
              "      <th>Height</th>\n",
              "      <th>pre.weight</th>\n",
              "      <th>Diet</th>\n",
              "      <th>weight6weeks</th>\n",
              "    </tr>\n",
              "  </thead>\n",
              "  <tbody>\n",
              "    <tr>\n",
              "      <th>0</th>\n",
              "      <td>25</td>\n",
              "      <td></td>\n",
              "      <td>41</td>\n",
              "      <td>171</td>\n",
              "      <td>60</td>\n",
              "      <td>2</td>\n",
              "      <td>60.0</td>\n",
              "    </tr>\n",
              "    <tr>\n",
              "      <th>1</th>\n",
              "      <td>26</td>\n",
              "      <td></td>\n",
              "      <td>32</td>\n",
              "      <td>174</td>\n",
              "      <td>103</td>\n",
              "      <td>2</td>\n",
              "      <td>103.0</td>\n",
              "    </tr>\n",
              "    <tr>\n",
              "      <th>2</th>\n",
              "      <td>1</td>\n",
              "      <td>0</td>\n",
              "      <td>22</td>\n",
              "      <td>159</td>\n",
              "      <td>58</td>\n",
              "      <td>1</td>\n",
              "      <td>54.2</td>\n",
              "    </tr>\n",
              "    <tr>\n",
              "      <th>3</th>\n",
              "      <td>2</td>\n",
              "      <td>0</td>\n",
              "      <td>46</td>\n",
              "      <td>192</td>\n",
              "      <td>60</td>\n",
              "      <td>1</td>\n",
              "      <td>54.0</td>\n",
              "    </tr>\n",
              "    <tr>\n",
              "      <th>4</th>\n",
              "      <td>3</td>\n",
              "      <td>0</td>\n",
              "      <td>55</td>\n",
              "      <td>170</td>\n",
              "      <td>64</td>\n",
              "      <td>1</td>\n",
              "      <td>63.3</td>\n",
              "    </tr>\n",
              "    <tr>\n",
              "      <th>...</th>\n",
              "      <td>...</td>\n",
              "      <td>...</td>\n",
              "      <td>...</td>\n",
              "      <td>...</td>\n",
              "      <td>...</td>\n",
              "      <td>...</td>\n",
              "      <td>...</td>\n",
              "    </tr>\n",
              "    <tr>\n",
              "      <th>73</th>\n",
              "      <td>74</td>\n",
              "      <td>1</td>\n",
              "      <td>35</td>\n",
              "      <td>183</td>\n",
              "      <td>83</td>\n",
              "      <td>3</td>\n",
              "      <td>80.2</td>\n",
              "    </tr>\n",
              "    <tr>\n",
              "      <th>74</th>\n",
              "      <td>75</td>\n",
              "      <td>1</td>\n",
              "      <td>49</td>\n",
              "      <td>177</td>\n",
              "      <td>84</td>\n",
              "      <td>3</td>\n",
              "      <td>79.9</td>\n",
              "    </tr>\n",
              "    <tr>\n",
              "      <th>75</th>\n",
              "      <td>76</td>\n",
              "      <td>1</td>\n",
              "      <td>28</td>\n",
              "      <td>164</td>\n",
              "      <td>85</td>\n",
              "      <td>3</td>\n",
              "      <td>79.7</td>\n",
              "    </tr>\n",
              "    <tr>\n",
              "      <th>76</th>\n",
              "      <td>77</td>\n",
              "      <td>1</td>\n",
              "      <td>40</td>\n",
              "      <td>167</td>\n",
              "      <td>87</td>\n",
              "      <td>3</td>\n",
              "      <td>77.8</td>\n",
              "    </tr>\n",
              "    <tr>\n",
              "      <th>77</th>\n",
              "      <td>78</td>\n",
              "      <td>1</td>\n",
              "      <td>51</td>\n",
              "      <td>175</td>\n",
              "      <td>88</td>\n",
              "      <td>3</td>\n",
              "      <td>81.9</td>\n",
              "    </tr>\n",
              "  </tbody>\n",
              "</table>\n",
              "<p>78 rows × 7 columns</p>\n",
              "</div>"
            ],
            "text/plain": [
              "    Person gender  Age  Height  pre.weight  Diet  weight6weeks\n",
              "0       25          41     171          60     2          60.0\n",
              "1       26          32     174         103     2         103.0\n",
              "2        1      0   22     159          58     1          54.2\n",
              "3        2      0   46     192          60     1          54.0\n",
              "4        3      0   55     170          64     1          63.3\n",
              "..     ...    ...  ...     ...         ...   ...           ...\n",
              "73      74      1   35     183          83     3          80.2\n",
              "74      75      1   49     177          84     3          79.9\n",
              "75      76      1   28     164          85     3          79.7\n",
              "76      77      1   40     167          87     3          77.8\n",
              "77      78      1   51     175          88     3          81.9\n",
              "\n",
              "[78 rows x 7 columns]"
            ]
          },
          "metadata": {
            "tags": []
          },
          "execution_count": 5
        }
      ]
    },
    {
      "cell_type": "code",
      "metadata": {
        "colab": {
          "base_uri": "https://localhost:8080/",
          "height": 417
        },
        "id": "VK9Eh6aGgE5-",
        "outputId": "73ee1aec-a9a8-414e-d0f4-0e886f651812"
      },
      "source": [
        "df = df.drop([0, 1])\n",
        "df"
      ],
      "execution_count": 7,
      "outputs": [
        {
          "output_type": "execute_result",
          "data": {
            "text/html": [
              "<div>\n",
              "<style scoped>\n",
              "    .dataframe tbody tr th:only-of-type {\n",
              "        vertical-align: middle;\n",
              "    }\n",
              "\n",
              "    .dataframe tbody tr th {\n",
              "        vertical-align: top;\n",
              "    }\n",
              "\n",
              "    .dataframe thead th {\n",
              "        text-align: right;\n",
              "    }\n",
              "</style>\n",
              "<table border=\"1\" class=\"dataframe\">\n",
              "  <thead>\n",
              "    <tr style=\"text-align: right;\">\n",
              "      <th></th>\n",
              "      <th>Person</th>\n",
              "      <th>gender</th>\n",
              "      <th>Age</th>\n",
              "      <th>Height</th>\n",
              "      <th>pre.weight</th>\n",
              "      <th>Diet</th>\n",
              "      <th>weight6weeks</th>\n",
              "    </tr>\n",
              "  </thead>\n",
              "  <tbody>\n",
              "    <tr>\n",
              "      <th>2</th>\n",
              "      <td>1</td>\n",
              "      <td>0</td>\n",
              "      <td>22</td>\n",
              "      <td>159</td>\n",
              "      <td>58</td>\n",
              "      <td>1</td>\n",
              "      <td>54.2</td>\n",
              "    </tr>\n",
              "    <tr>\n",
              "      <th>3</th>\n",
              "      <td>2</td>\n",
              "      <td>0</td>\n",
              "      <td>46</td>\n",
              "      <td>192</td>\n",
              "      <td>60</td>\n",
              "      <td>1</td>\n",
              "      <td>54.0</td>\n",
              "    </tr>\n",
              "    <tr>\n",
              "      <th>4</th>\n",
              "      <td>3</td>\n",
              "      <td>0</td>\n",
              "      <td>55</td>\n",
              "      <td>170</td>\n",
              "      <td>64</td>\n",
              "      <td>1</td>\n",
              "      <td>63.3</td>\n",
              "    </tr>\n",
              "    <tr>\n",
              "      <th>5</th>\n",
              "      <td>4</td>\n",
              "      <td>0</td>\n",
              "      <td>33</td>\n",
              "      <td>171</td>\n",
              "      <td>64</td>\n",
              "      <td>1</td>\n",
              "      <td>61.1</td>\n",
              "    </tr>\n",
              "    <tr>\n",
              "      <th>6</th>\n",
              "      <td>5</td>\n",
              "      <td>0</td>\n",
              "      <td>50</td>\n",
              "      <td>170</td>\n",
              "      <td>65</td>\n",
              "      <td>1</td>\n",
              "      <td>62.2</td>\n",
              "    </tr>\n",
              "    <tr>\n",
              "      <th>...</th>\n",
              "      <td>...</td>\n",
              "      <td>...</td>\n",
              "      <td>...</td>\n",
              "      <td>...</td>\n",
              "      <td>...</td>\n",
              "      <td>...</td>\n",
              "      <td>...</td>\n",
              "    </tr>\n",
              "    <tr>\n",
              "      <th>73</th>\n",
              "      <td>74</td>\n",
              "      <td>1</td>\n",
              "      <td>35</td>\n",
              "      <td>183</td>\n",
              "      <td>83</td>\n",
              "      <td>3</td>\n",
              "      <td>80.2</td>\n",
              "    </tr>\n",
              "    <tr>\n",
              "      <th>74</th>\n",
              "      <td>75</td>\n",
              "      <td>1</td>\n",
              "      <td>49</td>\n",
              "      <td>177</td>\n",
              "      <td>84</td>\n",
              "      <td>3</td>\n",
              "      <td>79.9</td>\n",
              "    </tr>\n",
              "    <tr>\n",
              "      <th>75</th>\n",
              "      <td>76</td>\n",
              "      <td>1</td>\n",
              "      <td>28</td>\n",
              "      <td>164</td>\n",
              "      <td>85</td>\n",
              "      <td>3</td>\n",
              "      <td>79.7</td>\n",
              "    </tr>\n",
              "    <tr>\n",
              "      <th>76</th>\n",
              "      <td>77</td>\n",
              "      <td>1</td>\n",
              "      <td>40</td>\n",
              "      <td>167</td>\n",
              "      <td>87</td>\n",
              "      <td>3</td>\n",
              "      <td>77.8</td>\n",
              "    </tr>\n",
              "    <tr>\n",
              "      <th>77</th>\n",
              "      <td>78</td>\n",
              "      <td>1</td>\n",
              "      <td>51</td>\n",
              "      <td>175</td>\n",
              "      <td>88</td>\n",
              "      <td>3</td>\n",
              "      <td>81.9</td>\n",
              "    </tr>\n",
              "  </tbody>\n",
              "</table>\n",
              "<p>76 rows × 7 columns</p>\n",
              "</div>"
            ],
            "text/plain": [
              "    Person gender  Age  Height  pre.weight  Diet  weight6weeks\n",
              "2        1      0   22     159          58     1          54.2\n",
              "3        2      0   46     192          60     1          54.0\n",
              "4        3      0   55     170          64     1          63.3\n",
              "5        4      0   33     171          64     1          61.1\n",
              "6        5      0   50     170          65     1          62.2\n",
              "..     ...    ...  ...     ...         ...   ...           ...\n",
              "73      74      1   35     183          83     3          80.2\n",
              "74      75      1   49     177          84     3          79.9\n",
              "75      76      1   28     164          85     3          79.7\n",
              "76      77      1   40     167          87     3          77.8\n",
              "77      78      1   51     175          88     3          81.9\n",
              "\n",
              "[76 rows x 7 columns]"
            ]
          },
          "metadata": {
            "tags": []
          },
          "execution_count": 7
        }
      ]
    },
    {
      "cell_type": "code",
      "metadata": {
        "colab": {
          "base_uri": "https://localhost:8080/",
          "height": 447
        },
        "id": "F8bpNo0-gKfc",
        "outputId": "7958a359-5056-49ce-b089-c42860229b54"
      },
      "source": [
        "df = df.set_index('Person')\n",
        "df = df.sort_index()\n",
        "df"
      ],
      "execution_count": 8,
      "outputs": [
        {
          "output_type": "execute_result",
          "data": {
            "text/html": [
              "<div>\n",
              "<style scoped>\n",
              "    .dataframe tbody tr th:only-of-type {\n",
              "        vertical-align: middle;\n",
              "    }\n",
              "\n",
              "    .dataframe tbody tr th {\n",
              "        vertical-align: top;\n",
              "    }\n",
              "\n",
              "    .dataframe thead th {\n",
              "        text-align: right;\n",
              "    }\n",
              "</style>\n",
              "<table border=\"1\" class=\"dataframe\">\n",
              "  <thead>\n",
              "    <tr style=\"text-align: right;\">\n",
              "      <th></th>\n",
              "      <th>gender</th>\n",
              "      <th>Age</th>\n",
              "      <th>Height</th>\n",
              "      <th>pre.weight</th>\n",
              "      <th>Diet</th>\n",
              "      <th>weight6weeks</th>\n",
              "    </tr>\n",
              "    <tr>\n",
              "      <th>Person</th>\n",
              "      <th></th>\n",
              "      <th></th>\n",
              "      <th></th>\n",
              "      <th></th>\n",
              "      <th></th>\n",
              "      <th></th>\n",
              "    </tr>\n",
              "  </thead>\n",
              "  <tbody>\n",
              "    <tr>\n",
              "      <th>1</th>\n",
              "      <td>0</td>\n",
              "      <td>22</td>\n",
              "      <td>159</td>\n",
              "      <td>58</td>\n",
              "      <td>1</td>\n",
              "      <td>54.2</td>\n",
              "    </tr>\n",
              "    <tr>\n",
              "      <th>2</th>\n",
              "      <td>0</td>\n",
              "      <td>46</td>\n",
              "      <td>192</td>\n",
              "      <td>60</td>\n",
              "      <td>1</td>\n",
              "      <td>54.0</td>\n",
              "    </tr>\n",
              "    <tr>\n",
              "      <th>3</th>\n",
              "      <td>0</td>\n",
              "      <td>55</td>\n",
              "      <td>170</td>\n",
              "      <td>64</td>\n",
              "      <td>1</td>\n",
              "      <td>63.3</td>\n",
              "    </tr>\n",
              "    <tr>\n",
              "      <th>4</th>\n",
              "      <td>0</td>\n",
              "      <td>33</td>\n",
              "      <td>171</td>\n",
              "      <td>64</td>\n",
              "      <td>1</td>\n",
              "      <td>61.1</td>\n",
              "    </tr>\n",
              "    <tr>\n",
              "      <th>5</th>\n",
              "      <td>0</td>\n",
              "      <td>50</td>\n",
              "      <td>170</td>\n",
              "      <td>65</td>\n",
              "      <td>1</td>\n",
              "      <td>62.2</td>\n",
              "    </tr>\n",
              "    <tr>\n",
              "      <th>...</th>\n",
              "      <td>...</td>\n",
              "      <td>...</td>\n",
              "      <td>...</td>\n",
              "      <td>...</td>\n",
              "      <td>...</td>\n",
              "      <td>...</td>\n",
              "    </tr>\n",
              "    <tr>\n",
              "      <th>74</th>\n",
              "      <td>1</td>\n",
              "      <td>35</td>\n",
              "      <td>183</td>\n",
              "      <td>83</td>\n",
              "      <td>3</td>\n",
              "      <td>80.2</td>\n",
              "    </tr>\n",
              "    <tr>\n",
              "      <th>75</th>\n",
              "      <td>1</td>\n",
              "      <td>49</td>\n",
              "      <td>177</td>\n",
              "      <td>84</td>\n",
              "      <td>3</td>\n",
              "      <td>79.9</td>\n",
              "    </tr>\n",
              "    <tr>\n",
              "      <th>76</th>\n",
              "      <td>1</td>\n",
              "      <td>28</td>\n",
              "      <td>164</td>\n",
              "      <td>85</td>\n",
              "      <td>3</td>\n",
              "      <td>79.7</td>\n",
              "    </tr>\n",
              "    <tr>\n",
              "      <th>77</th>\n",
              "      <td>1</td>\n",
              "      <td>40</td>\n",
              "      <td>167</td>\n",
              "      <td>87</td>\n",
              "      <td>3</td>\n",
              "      <td>77.8</td>\n",
              "    </tr>\n",
              "    <tr>\n",
              "      <th>78</th>\n",
              "      <td>1</td>\n",
              "      <td>51</td>\n",
              "      <td>175</td>\n",
              "      <td>88</td>\n",
              "      <td>3</td>\n",
              "      <td>81.9</td>\n",
              "    </tr>\n",
              "  </tbody>\n",
              "</table>\n",
              "<p>76 rows × 6 columns</p>\n",
              "</div>"
            ],
            "text/plain": [
              "       gender  Age  Height  pre.weight  Diet  weight6weeks\n",
              "Person                                                    \n",
              "1           0   22     159          58     1          54.2\n",
              "2           0   46     192          60     1          54.0\n",
              "3           0   55     170          64     1          63.3\n",
              "4           0   33     171          64     1          61.1\n",
              "5           0   50     170          65     1          62.2\n",
              "...       ...  ...     ...         ...   ...           ...\n",
              "74          1   35     183          83     3          80.2\n",
              "75          1   49     177          84     3          79.9\n",
              "76          1   28     164          85     3          79.7\n",
              "77          1   40     167          87     3          77.8\n",
              "78          1   51     175          88     3          81.9\n",
              "\n",
              "[76 rows x 6 columns]"
            ]
          },
          "metadata": {
            "tags": []
          },
          "execution_count": 8
        }
      ]
    },
    {
      "cell_type": "code",
      "metadata": {
        "colab": {
          "base_uri": "https://localhost:8080/"
        },
        "id": "_-M5B7zogM5t",
        "outputId": "2e2d72d8-a750-4b54-9892-e9b051ebf8aa"
      },
      "source": [
        "df.info()"
      ],
      "execution_count": 9,
      "outputs": [
        {
          "output_type": "stream",
          "text": [
            "<class 'pandas.core.frame.DataFrame'>\n",
            "Int64Index: 76 entries, 1 to 78\n",
            "Data columns (total 6 columns):\n",
            " #   Column        Non-Null Count  Dtype  \n",
            "---  ------        --------------  -----  \n",
            " 0   gender        76 non-null     object \n",
            " 1   Age           76 non-null     int64  \n",
            " 2   Height        76 non-null     int64  \n",
            " 3   pre.weight    76 non-null     int64  \n",
            " 4   Diet          76 non-null     int64  \n",
            " 5   weight6weeks  76 non-null     float64\n",
            "dtypes: float64(1), int64(4), object(1)\n",
            "memory usage: 4.2+ KB\n"
          ],
          "name": "stdout"
        }
      ]
    },
    {
      "cell_type": "code",
      "metadata": {
        "colab": {
          "base_uri": "https://localhost:8080/"
        },
        "id": "zfB2nZzbgOz8",
        "outputId": "9053b63f-606d-4dd4-b2f1-41d4adc2f23f"
      },
      "source": [
        "df.isna().any()"
      ],
      "execution_count": 10,
      "outputs": [
        {
          "output_type": "execute_result",
          "data": {
            "text/plain": [
              "gender          False\n",
              "Age             False\n",
              "Height          False\n",
              "pre.weight      False\n",
              "Diet            False\n",
              "weight6weeks    False\n",
              "dtype: bool"
            ]
          },
          "metadata": {
            "tags": []
          },
          "execution_count": 10
        }
      ]
    },
    {
      "cell_type": "code",
      "metadata": {
        "colab": {
          "base_uri": "https://localhost:8080/",
          "height": 203
        },
        "id": "oWNTREE2gRQ9",
        "outputId": "c5af7856-863b-42ad-9f18-c0abdb7315a7"
      },
      "source": [
        "df.describe().T"
      ],
      "execution_count": 11,
      "outputs": [
        {
          "output_type": "execute_result",
          "data": {
            "text/html": [
              "<div>\n",
              "<style scoped>\n",
              "    .dataframe tbody tr th:only-of-type {\n",
              "        vertical-align: middle;\n",
              "    }\n",
              "\n",
              "    .dataframe tbody tr th {\n",
              "        vertical-align: top;\n",
              "    }\n",
              "\n",
              "    .dataframe thead th {\n",
              "        text-align: right;\n",
              "    }\n",
              "</style>\n",
              "<table border=\"1\" class=\"dataframe\">\n",
              "  <thead>\n",
              "    <tr style=\"text-align: right;\">\n",
              "      <th></th>\n",
              "      <th>count</th>\n",
              "      <th>mean</th>\n",
              "      <th>std</th>\n",
              "      <th>min</th>\n",
              "      <th>25%</th>\n",
              "      <th>50%</th>\n",
              "      <th>75%</th>\n",
              "      <th>max</th>\n",
              "    </tr>\n",
              "  </thead>\n",
              "  <tbody>\n",
              "    <tr>\n",
              "      <th>Age</th>\n",
              "      <td>76.0</td>\n",
              "      <td>39.223684</td>\n",
              "      <td>9.908379</td>\n",
              "      <td>16.0</td>\n",
              "      <td>32.50</td>\n",
              "      <td>39.00</td>\n",
              "      <td>47.250</td>\n",
              "      <td>60.0</td>\n",
              "    </tr>\n",
              "    <tr>\n",
              "      <th>Height</th>\n",
              "      <td>76.0</td>\n",
              "      <td>170.776316</td>\n",
              "      <td>11.419981</td>\n",
              "      <td>141.0</td>\n",
              "      <td>163.75</td>\n",
              "      <td>169.00</td>\n",
              "      <td>175.250</td>\n",
              "      <td>201.0</td>\n",
              "    </tr>\n",
              "    <tr>\n",
              "      <th>pre.weight</th>\n",
              "      <td>76.0</td>\n",
              "      <td>72.289474</td>\n",
              "      <td>7.974653</td>\n",
              "      <td>58.0</td>\n",
              "      <td>66.00</td>\n",
              "      <td>72.00</td>\n",
              "      <td>78.000</td>\n",
              "      <td>88.0</td>\n",
              "    </tr>\n",
              "    <tr>\n",
              "      <th>Diet</th>\n",
              "      <td>76.0</td>\n",
              "      <td>2.039474</td>\n",
              "      <td>0.823663</td>\n",
              "      <td>1.0</td>\n",
              "      <td>1.00</td>\n",
              "      <td>2.00</td>\n",
              "      <td>3.000</td>\n",
              "      <td>3.0</td>\n",
              "    </tr>\n",
              "    <tr>\n",
              "      <th>weight6weeks</th>\n",
              "      <td>76.0</td>\n",
              "      <td>68.343421</td>\n",
              "      <td>8.058938</td>\n",
              "      <td>53.0</td>\n",
              "      <td>61.95</td>\n",
              "      <td>68.95</td>\n",
              "      <td>73.675</td>\n",
              "      <td>84.5</td>\n",
              "    </tr>\n",
              "  </tbody>\n",
              "</table>\n",
              "</div>"
            ],
            "text/plain": [
              "              count        mean        std  ...     50%      75%    max\n",
              "Age            76.0   39.223684   9.908379  ...   39.00   47.250   60.0\n",
              "Height         76.0  170.776316  11.419981  ...  169.00  175.250  201.0\n",
              "pre.weight     76.0   72.289474   7.974653  ...   72.00   78.000   88.0\n",
              "Diet           76.0    2.039474   0.823663  ...    2.00    3.000    3.0\n",
              "weight6weeks   76.0   68.343421   8.058938  ...   68.95   73.675   84.5\n",
              "\n",
              "[5 rows x 8 columns]"
            ]
          },
          "metadata": {
            "tags": []
          },
          "execution_count": 11
        }
      ]
    },
    {
      "cell_type": "markdown",
      "metadata": {
        "id": "iYpI4RC8gVJE"
      },
      "source": [
        "Câu 1\n",
        "\n",
        "Bỏ qua chế độ ăn kiêng và kiểm tra xem đã giảm cân chưa\"\n",
        "\n",
        "$H_0: u_0 = u_1$. Cân nặng trung bình của trước và sau khi giảm cân là như nhau \n",
        "\n",
        "$H_1: u_0 \\# u_1$. Cân nặng trung bình của trước và sau khi giảm cân khác nhau"
      ]
    },
    {
      "cell_type": "code",
      "metadata": {
        "colab": {
          "base_uri": "https://localhost:8080/",
          "height": 110
        },
        "id": "l3zdDAZqgaTP",
        "outputId": "539840e4-0edb-440e-f91a-0fa437ba8a49"
      },
      "source": [
        "df[['pre.weight','weight6weeks']].describe().T"
      ],
      "execution_count": 12,
      "outputs": [
        {
          "output_type": "execute_result",
          "data": {
            "text/html": [
              "<div>\n",
              "<style scoped>\n",
              "    .dataframe tbody tr th:only-of-type {\n",
              "        vertical-align: middle;\n",
              "    }\n",
              "\n",
              "    .dataframe tbody tr th {\n",
              "        vertical-align: top;\n",
              "    }\n",
              "\n",
              "    .dataframe thead th {\n",
              "        text-align: right;\n",
              "    }\n",
              "</style>\n",
              "<table border=\"1\" class=\"dataframe\">\n",
              "  <thead>\n",
              "    <tr style=\"text-align: right;\">\n",
              "      <th></th>\n",
              "      <th>count</th>\n",
              "      <th>mean</th>\n",
              "      <th>std</th>\n",
              "      <th>min</th>\n",
              "      <th>25%</th>\n",
              "      <th>50%</th>\n",
              "      <th>75%</th>\n",
              "      <th>max</th>\n",
              "    </tr>\n",
              "  </thead>\n",
              "  <tbody>\n",
              "    <tr>\n",
              "      <th>pre.weight</th>\n",
              "      <td>76.0</td>\n",
              "      <td>72.289474</td>\n",
              "      <td>7.974653</td>\n",
              "      <td>58.0</td>\n",
              "      <td>66.00</td>\n",
              "      <td>72.00</td>\n",
              "      <td>78.000</td>\n",
              "      <td>88.0</td>\n",
              "    </tr>\n",
              "    <tr>\n",
              "      <th>weight6weeks</th>\n",
              "      <td>76.0</td>\n",
              "      <td>68.343421</td>\n",
              "      <td>8.058938</td>\n",
              "      <td>53.0</td>\n",
              "      <td>61.95</td>\n",
              "      <td>68.95</td>\n",
              "      <td>73.675</td>\n",
              "      <td>84.5</td>\n",
              "    </tr>\n",
              "  </tbody>\n",
              "</table>\n",
              "</div>"
            ],
            "text/plain": [
              "              count       mean       std   min    25%    50%     75%   max\n",
              "pre.weight     76.0  72.289474  7.974653  58.0  66.00  72.00  78.000  88.0\n",
              "weight6weeks   76.0  68.343421  8.058938  53.0  61.95  68.95  73.675  84.5"
            ]
          },
          "metadata": {
            "tags": []
          },
          "execution_count": 12
        }
      ]
    },
    {
      "cell_type": "code",
      "metadata": {
        "colab": {
          "base_uri": "https://localhost:8080/"
        },
        "id": "4l8slpJ7ge4F",
        "outputId": "f985e4bf-4ecc-4528-db61-d9df99ed44ef"
      },
      "source": [
        "st,p = stats.ttest_ind(df['pre.weight'], df['weight6weeks'])\n",
        "if p < 0.05:\n",
        "  print(\"Có đủ bằng chứng để bác bỏ giả thuyết H0. Điều này ngụ ý rằng cân nặng trước và sau khi giảm cân là có sự khác biệt.\")\n",
        "else:\n",
        "  print(\"Không đủ bằng chứng để bác bỏ giả thiết H0. Điều này ngụ ý rằng cân nặng trước và sau khi giảm cân không có sự khác biệt\")"
      ],
      "execution_count": 21,
      "outputs": [
        {
          "output_type": "stream",
          "text": [
            "Có đủ bằng chứng để bác bỏ giả thuyết H0. Điều này ngụ ý rằng cân nặng trước và sau khi giảm cân là có sự khác biệt.\n"
          ],
          "name": "stdout"
        }
      ]
    },
    {
      "cell_type": "markdown",
      "metadata": {
        "id": "_bcZ_Nnhi-aN"
      },
      "source": [
        "Câu 2 \n",
        "\n",
        "Loại bỏ trọng lượng đã mất và yêu cầu học sinh tính toán nó bằng cách sử dụng trọng lượng trước trừ sau"
      ]
    },
    {
      "cell_type": "code",
      "metadata": {
        "colab": {
          "base_uri": "https://localhost:8080/",
          "height": 447
        },
        "id": "OKPGk4AhjBSJ",
        "outputId": "1da5a033-5fb9-414a-ea19-23cbc6ffeaa1"
      },
      "source": [
        "df['weightlost'] = df['pre.weight'] - df['weight6weeks']\n",
        "df"
      ],
      "execution_count": 23,
      "outputs": [
        {
          "output_type": "execute_result",
          "data": {
            "text/html": [
              "<div>\n",
              "<style scoped>\n",
              "    .dataframe tbody tr th:only-of-type {\n",
              "        vertical-align: middle;\n",
              "    }\n",
              "\n",
              "    .dataframe tbody tr th {\n",
              "        vertical-align: top;\n",
              "    }\n",
              "\n",
              "    .dataframe thead th {\n",
              "        text-align: right;\n",
              "    }\n",
              "</style>\n",
              "<table border=\"1\" class=\"dataframe\">\n",
              "  <thead>\n",
              "    <tr style=\"text-align: right;\">\n",
              "      <th></th>\n",
              "      <th>gender</th>\n",
              "      <th>Age</th>\n",
              "      <th>Height</th>\n",
              "      <th>pre.weight</th>\n",
              "      <th>Diet</th>\n",
              "      <th>weight6weeks</th>\n",
              "      <th>weightlost</th>\n",
              "    </tr>\n",
              "    <tr>\n",
              "      <th>Person</th>\n",
              "      <th></th>\n",
              "      <th></th>\n",
              "      <th></th>\n",
              "      <th></th>\n",
              "      <th></th>\n",
              "      <th></th>\n",
              "      <th></th>\n",
              "    </tr>\n",
              "  </thead>\n",
              "  <tbody>\n",
              "    <tr>\n",
              "      <th>1</th>\n",
              "      <td>0</td>\n",
              "      <td>22</td>\n",
              "      <td>159</td>\n",
              "      <td>58</td>\n",
              "      <td>1</td>\n",
              "      <td>54.2</td>\n",
              "      <td>3.8</td>\n",
              "    </tr>\n",
              "    <tr>\n",
              "      <th>2</th>\n",
              "      <td>0</td>\n",
              "      <td>46</td>\n",
              "      <td>192</td>\n",
              "      <td>60</td>\n",
              "      <td>1</td>\n",
              "      <td>54.0</td>\n",
              "      <td>6.0</td>\n",
              "    </tr>\n",
              "    <tr>\n",
              "      <th>3</th>\n",
              "      <td>0</td>\n",
              "      <td>55</td>\n",
              "      <td>170</td>\n",
              "      <td>64</td>\n",
              "      <td>1</td>\n",
              "      <td>63.3</td>\n",
              "      <td>0.7</td>\n",
              "    </tr>\n",
              "    <tr>\n",
              "      <th>4</th>\n",
              "      <td>0</td>\n",
              "      <td>33</td>\n",
              "      <td>171</td>\n",
              "      <td>64</td>\n",
              "      <td>1</td>\n",
              "      <td>61.1</td>\n",
              "      <td>2.9</td>\n",
              "    </tr>\n",
              "    <tr>\n",
              "      <th>5</th>\n",
              "      <td>0</td>\n",
              "      <td>50</td>\n",
              "      <td>170</td>\n",
              "      <td>65</td>\n",
              "      <td>1</td>\n",
              "      <td>62.2</td>\n",
              "      <td>2.8</td>\n",
              "    </tr>\n",
              "    <tr>\n",
              "      <th>...</th>\n",
              "      <td>...</td>\n",
              "      <td>...</td>\n",
              "      <td>...</td>\n",
              "      <td>...</td>\n",
              "      <td>...</td>\n",
              "      <td>...</td>\n",
              "      <td>...</td>\n",
              "    </tr>\n",
              "    <tr>\n",
              "      <th>74</th>\n",
              "      <td>1</td>\n",
              "      <td>35</td>\n",
              "      <td>183</td>\n",
              "      <td>83</td>\n",
              "      <td>3</td>\n",
              "      <td>80.2</td>\n",
              "      <td>2.8</td>\n",
              "    </tr>\n",
              "    <tr>\n",
              "      <th>75</th>\n",
              "      <td>1</td>\n",
              "      <td>49</td>\n",
              "      <td>177</td>\n",
              "      <td>84</td>\n",
              "      <td>3</td>\n",
              "      <td>79.9</td>\n",
              "      <td>4.1</td>\n",
              "    </tr>\n",
              "    <tr>\n",
              "      <th>76</th>\n",
              "      <td>1</td>\n",
              "      <td>28</td>\n",
              "      <td>164</td>\n",
              "      <td>85</td>\n",
              "      <td>3</td>\n",
              "      <td>79.7</td>\n",
              "      <td>5.3</td>\n",
              "    </tr>\n",
              "    <tr>\n",
              "      <th>77</th>\n",
              "      <td>1</td>\n",
              "      <td>40</td>\n",
              "      <td>167</td>\n",
              "      <td>87</td>\n",
              "      <td>3</td>\n",
              "      <td>77.8</td>\n",
              "      <td>9.2</td>\n",
              "    </tr>\n",
              "    <tr>\n",
              "      <th>78</th>\n",
              "      <td>1</td>\n",
              "      <td>51</td>\n",
              "      <td>175</td>\n",
              "      <td>88</td>\n",
              "      <td>3</td>\n",
              "      <td>81.9</td>\n",
              "      <td>6.1</td>\n",
              "    </tr>\n",
              "  </tbody>\n",
              "</table>\n",
              "<p>76 rows × 7 columns</p>\n",
              "</div>"
            ],
            "text/plain": [
              "       gender  Age  Height  pre.weight  Diet  weight6weeks  weightlost\n",
              "Person                                                                \n",
              "1           0   22     159          58     1          54.2         3.8\n",
              "2           0   46     192          60     1          54.0         6.0\n",
              "3           0   55     170          64     1          63.3         0.7\n",
              "4           0   33     171          64     1          61.1         2.9\n",
              "5           0   50     170          65     1          62.2         2.8\n",
              "...       ...  ...     ...         ...   ...           ...         ...\n",
              "74          1   35     183          83     3          80.2         2.8\n",
              "75          1   49     177          84     3          79.9         4.1\n",
              "76          1   28     164          85     3          79.7         5.3\n",
              "77          1   40     167          87     3          77.8         9.2\n",
              "78          1   51     175          88     3          81.9         6.1\n",
              "\n",
              "[76 rows x 7 columns]"
            ]
          },
          "metadata": {
            "tags": []
          },
          "execution_count": 23
        }
      ]
    },
    {
      "cell_type": "markdown",
      "metadata": {
        "id": "d1rJ4fbZjHKS"
      },
      "source": [
        "Câu 3\n",
        "\n",
        "Thống kê tóm tắt theo chế độ ăn uống"
      ]
    },
    {
      "cell_type": "code",
      "metadata": {
        "colab": {
          "base_uri": "https://localhost:8080/",
          "height": 295
        },
        "id": "zrNhjO6OjH4j",
        "outputId": "c9395dd7-a672-41c9-a670-14c607681f05"
      },
      "source": [
        "pd.DataFrame(df['Diet'].describe().T)"
      ],
      "execution_count": 24,
      "outputs": [
        {
          "output_type": "execute_result",
          "data": {
            "text/html": [
              "<div>\n",
              "<style scoped>\n",
              "    .dataframe tbody tr th:only-of-type {\n",
              "        vertical-align: middle;\n",
              "    }\n",
              "\n",
              "    .dataframe tbody tr th {\n",
              "        vertical-align: top;\n",
              "    }\n",
              "\n",
              "    .dataframe thead th {\n",
              "        text-align: right;\n",
              "    }\n",
              "</style>\n",
              "<table border=\"1\" class=\"dataframe\">\n",
              "  <thead>\n",
              "    <tr style=\"text-align: right;\">\n",
              "      <th></th>\n",
              "      <th>Diet</th>\n",
              "    </tr>\n",
              "  </thead>\n",
              "  <tbody>\n",
              "    <tr>\n",
              "      <th>count</th>\n",
              "      <td>76.000000</td>\n",
              "    </tr>\n",
              "    <tr>\n",
              "      <th>mean</th>\n",
              "      <td>2.039474</td>\n",
              "    </tr>\n",
              "    <tr>\n",
              "      <th>std</th>\n",
              "      <td>0.823663</td>\n",
              "    </tr>\n",
              "    <tr>\n",
              "      <th>min</th>\n",
              "      <td>1.000000</td>\n",
              "    </tr>\n",
              "    <tr>\n",
              "      <th>25%</th>\n",
              "      <td>1.000000</td>\n",
              "    </tr>\n",
              "    <tr>\n",
              "      <th>50%</th>\n",
              "      <td>2.000000</td>\n",
              "    </tr>\n",
              "    <tr>\n",
              "      <th>75%</th>\n",
              "      <td>3.000000</td>\n",
              "    </tr>\n",
              "    <tr>\n",
              "      <th>max</th>\n",
              "      <td>3.000000</td>\n",
              "    </tr>\n",
              "  </tbody>\n",
              "</table>\n",
              "</div>"
            ],
            "text/plain": [
              "            Diet\n",
              "count  76.000000\n",
              "mean    2.039474\n",
              "std     0.823663\n",
              "min     1.000000\n",
              "25%     1.000000\n",
              "50%     2.000000\n",
              "75%     3.000000\n",
              "max     3.000000"
            ]
          },
          "metadata": {
            "tags": []
          },
          "execution_count": 24
        }
      ]
    },
    {
      "cell_type": "code",
      "metadata": {
        "colab": {
          "base_uri": "https://localhost:8080/",
          "height": 172
        },
        "id": "AyitK6RgjMZI",
        "outputId": "d4ae46d6-e4e8-4a05-a87d-ab85e9cd72b0"
      },
      "source": [
        "z = df.groupby('Diet')['Diet'].count()\n",
        "z = pd.DataFrame(z)\n",
        "z.columns = ['Frequency']\n",
        "z['Percent'] = z/sum(z['Frequency'])*100\n",
        "z"
      ],
      "execution_count": 25,
      "outputs": [
        {
          "output_type": "execute_result",
          "data": {
            "text/html": [
              "<div>\n",
              "<style scoped>\n",
              "    .dataframe tbody tr th:only-of-type {\n",
              "        vertical-align: middle;\n",
              "    }\n",
              "\n",
              "    .dataframe tbody tr th {\n",
              "        vertical-align: top;\n",
              "    }\n",
              "\n",
              "    .dataframe thead th {\n",
              "        text-align: right;\n",
              "    }\n",
              "</style>\n",
              "<table border=\"1\" class=\"dataframe\">\n",
              "  <thead>\n",
              "    <tr style=\"text-align: right;\">\n",
              "      <th></th>\n",
              "      <th>Frequency</th>\n",
              "      <th>Percent</th>\n",
              "    </tr>\n",
              "    <tr>\n",
              "      <th>Diet</th>\n",
              "      <th></th>\n",
              "      <th></th>\n",
              "    </tr>\n",
              "  </thead>\n",
              "  <tbody>\n",
              "    <tr>\n",
              "      <th>1</th>\n",
              "      <td>24</td>\n",
              "      <td>31.578947</td>\n",
              "    </tr>\n",
              "    <tr>\n",
              "      <th>2</th>\n",
              "      <td>25</td>\n",
              "      <td>32.894737</td>\n",
              "    </tr>\n",
              "    <tr>\n",
              "      <th>3</th>\n",
              "      <td>27</td>\n",
              "      <td>35.526316</td>\n",
              "    </tr>\n",
              "  </tbody>\n",
              "</table>\n",
              "</div>"
            ],
            "text/plain": [
              "      Frequency    Percent\n",
              "Diet                      \n",
              "1            24  31.578947\n",
              "2            25  32.894737\n",
              "3            27  35.526316"
            ]
          },
          "metadata": {
            "tags": []
          },
          "execution_count": 25
        }
      ]
    },
    {
      "cell_type": "code",
      "metadata": {
        "colab": {
          "base_uri": "https://localhost:8080/",
          "height": 279
        },
        "id": "8LwjbETKjNHv",
        "outputId": "6cc8e388-d8a9-41e0-8800-97b1c21b2c55"
      },
      "source": [
        "z.reset_index(inplace=True)\n",
        "\n",
        "sns.barplot(x = 'Diet',\n",
        "            y = 'Percent',\n",
        "            data = z)\n",
        "plt.show()"
      ],
      "execution_count": 26,
      "outputs": [
        {
          "output_type": "display_data",
          "data": {
            "image/png": "[encoded data removed]",
            "text/plain": [
              "<Figure size 432x288 with 1 Axes>"
            ]
          },
          "metadata": {
            "tags": [],
            "needs_background": "light"
          }
        }
      ]
    },
    {
      "cell_type": "markdown",
      "metadata": {
        "id": "Qw4wE47jjaGB"
      },
      "source": [
        "Câu 4 \n",
        "\n",
        "Phương pháp giảm cân nhiều nhất \n",
        "\n",
        "Xây dựng giả thiết \n",
        "\n",
        "- $H_0: \\mu_1 = \\mu_2 = \\mu_3$\n",
        "\n",
        "- $H_1: \\mu_i \\neq \\mu_j$ (i $\\neq$ j ,  i, j $\\in \\overline{1,3}$)"
      ]
    },
    {
      "cell_type": "code",
      "metadata": {
        "colab": {
          "base_uri": "https://localhost:8080/",
          "height": 447
        },
        "id": "d4gISti2jbDW",
        "outputId": "09336ca3-75a7-46c7-d1fb-ddc1f1dca9af"
      },
      "source": [
        "task4 = df[['Diet', 'weightlost']]\n",
        "task4"
      ],
      "execution_count": 27,
      "outputs": [
        {
          "output_type": "execute_result",
          "data": {
            "text/html": [
              "<div>\n",
              "<style scoped>\n",
              "    .dataframe tbody tr th:only-of-type {\n",
              "        vertical-align: middle;\n",
              "    }\n",
              "\n",
              "    .dataframe tbody tr th {\n",
              "        vertical-align: top;\n",
              "    }\n",
              "\n",
              "    .dataframe thead th {\n",
              "        text-align: right;\n",
              "    }\n",
              "</style>\n",
              "<table border=\"1\" class=\"dataframe\">\n",
              "  <thead>\n",
              "    <tr style=\"text-align: right;\">\n",
              "      <th></th>\n",
              "      <th>Diet</th>\n",
              "      <th>weightlost</th>\n",
              "    </tr>\n",
              "    <tr>\n",
              "      <th>Person</th>\n",
              "      <th></th>\n",
              "      <th></th>\n",
              "    </tr>\n",
              "  </thead>\n",
              "  <tbody>\n",
              "    <tr>\n",
              "      <th>1</th>\n",
              "      <td>1</td>\n",
              "      <td>3.8</td>\n",
              "    </tr>\n",
              "    <tr>\n",
              "      <th>2</th>\n",
              "      <td>1</td>\n",
              "      <td>6.0</td>\n",
              "    </tr>\n",
              "    <tr>\n",
              "      <th>3</th>\n",
              "      <td>1</td>\n",
              "      <td>0.7</td>\n",
              "    </tr>\n",
              "    <tr>\n",
              "      <th>4</th>\n",
              "      <td>1</td>\n",
              "      <td>2.9</td>\n",
              "    </tr>\n",
              "    <tr>\n",
              "      <th>5</th>\n",
              "      <td>1</td>\n",
              "      <td>2.8</td>\n",
              "    </tr>\n",
              "    <tr>\n",
              "      <th>...</th>\n",
              "      <td>...</td>\n",
              "      <td>...</td>\n",
              "    </tr>\n",
              "    <tr>\n",
              "      <th>74</th>\n",
              "      <td>3</td>\n",
              "      <td>2.8</td>\n",
              "    </tr>\n",
              "    <tr>\n",
              "      <th>75</th>\n",
              "      <td>3</td>\n",
              "      <td>4.1</td>\n",
              "    </tr>\n",
              "    <tr>\n",
              "      <th>76</th>\n",
              "      <td>3</td>\n",
              "      <td>5.3</td>\n",
              "    </tr>\n",
              "    <tr>\n",
              "      <th>77</th>\n",
              "      <td>3</td>\n",
              "      <td>9.2</td>\n",
              "    </tr>\n",
              "    <tr>\n",
              "      <th>78</th>\n",
              "      <td>3</td>\n",
              "      <td>6.1</td>\n",
              "    </tr>\n",
              "  </tbody>\n",
              "</table>\n",
              "<p>76 rows × 2 columns</p>\n",
              "</div>"
            ],
            "text/plain": [
              "        Diet  weightlost\n",
              "Person                  \n",
              "1          1         3.8\n",
              "2          1         6.0\n",
              "3          1         0.7\n",
              "4          1         2.9\n",
              "5          1         2.8\n",
              "...      ...         ...\n",
              "74         3         2.8\n",
              "75         3         4.1\n",
              "76         3         5.3\n",
              "77         3         9.2\n",
              "78         3         6.1\n",
              "\n",
              "[76 rows x 2 columns]"
            ]
          },
          "metadata": {
            "tags": []
          },
          "execution_count": 27
        }
      ]
    },
    {
      "cell_type": "code",
      "metadata": {
        "id": "SUEOCxpejdGc"
      },
      "source": [
        "diet = task4.groupby('Diet').groups\n",
        "# Lấy giá trị tương ứng ở cột des_weight \n",
        "type_1 = df['weightlost'][diet[1]]\n",
        "type_2 = df['weightlost'][diet[2]]\n",
        "type_3 = df['weightlost'][diet[3]]"
      ],
      "execution_count": 30,
      "outputs": []
    },
    {
      "cell_type": "markdown",
      "metadata": {
        "id": "E52BmTNRjqHK"
      },
      "source": [
        "Phát biểu giả thiết:\n",
        "Kiểm tra mỗi nhóm có thuộc phân phối chuẩn chưa\n",
        "\n",
        "Sử dụng Shapiro-Wilk test \n",
        "\n",
        "$H_0$: Phân phối của feature là chuẩn\n",
        "\n",
        "$H_1$: Phân phối của feature là không chuẩn"
      ]
    },
    {
      "cell_type": "code",
      "metadata": {
        "colab": {
          "base_uri": "https://localhost:8080/"
        },
        "id": "LuyF0nIcjqnj",
        "outputId": "84e7aa42-cd8a-4548-9168-89bede86a78c"
      },
      "source": [
        "st,p = stats.shapiro(type_1)\n",
        "if p < 0.05:\n",
        "  print(\"Phân phối của feature là không chuẩn\")\n",
        "else:\n",
        "  print(\"Phân phối của diet loại 1 là chuẩn\")"
      ],
      "execution_count": 38,
      "outputs": [
        {
          "output_type": "stream",
          "text": [
            "Phân phối của diet loại 1 là chuẩn\n"
          ],
          "name": "stdout"
        }
      ]
    },
    {
      "cell_type": "code",
      "metadata": {
        "colab": {
          "base_uri": "https://localhost:8080/"
        },
        "id": "BklSbg04j9uv",
        "outputId": "6742eb40-a45c-49e6-dd5f-7dd64b45da3b"
      },
      "source": [
        "st,p = stats.shapiro(type_2)\n",
        "if p < 0.05:\n",
        "  print(\"Phân phối của feature là không chuẩn\")\n",
        "else:\n",
        "  print(\"Phân phối của diet loại 2 là chuẩn\")"
      ],
      "execution_count": 36,
      "outputs": [
        {
          "output_type": "stream",
          "text": [
            "Phân phối của diet loại 2 là chuẩn\n"
          ],
          "name": "stdout"
        }
      ]
    },
    {
      "cell_type": "code",
      "metadata": {
        "colab": {
          "base_uri": "https://localhost:8080/"
        },
        "id": "tP-iruT5j-KR",
        "outputId": "1f9305eb-0214-43ec-8a3d-cbae76fd4235"
      },
      "source": [
        "st,p = stats.shapiro(type_3)\n",
        "if p < 0.05:\n",
        "  print(\"Phân phối của feature là không chuẩn\")\n",
        "else:\n",
        "  print(\"Phân phối của diet loại 3 là chuẩn\")"
      ],
      "execution_count": 37,
      "outputs": [
        {
          "output_type": "stream",
          "text": [
            "Phân phối của diet loại 3 là chuẩn\n"
          ],
          "name": "stdout"
        }
      ]
    },
    {
      "cell_type": "markdown",
      "metadata": {
        "id": "p7SivFRhk_5z"
      },
      "source": [
        "## Kiểm định tính thuần nhất phương sai (homogeneity of variance)\n",
        "\n",
        "### Bartlett’s Test\n",
        "\n",
        "Phát biểu các giả thiết:\n",
        "\n",
        "\n",
        "$H_0$: Các feature đều có phương sai đồng nhất \n",
        "\n",
        "$H_1$: Có ít nhất 2 feature có phương sai khác nhau (lớn)\n",
        "\n",
        "Chú ý: Nếu p < 0.05 = $\\alpha$ thì loại giả thiết $H_0$. Tức là các feature không đồng nhất về phương sai."
      ]
    },
    {
      "cell_type": "code",
      "metadata": {
        "colab": {
          "base_uri": "https://localhost:8080/"
        },
        "id": "jkX3KSpZlKsX",
        "outputId": "4c2a22cc-2f52-47c6-f18c-e9657f8c4081"
      },
      "source": [
        "st,p = stats.bartlett(type_1,type_2,type_3)\n",
        "if p < 0.05:\n",
        "  print(\"Loại giả thiết H_0. Tức là các feature không đồng nhất về phương sai. \")\n",
        "else:\n",
        "  print(\"Các loại diet đều có phương sai đồng nhất\")"
      ],
      "execution_count": 41,
      "outputs": [
        {
          "output_type": "stream",
          "text": [
            "Các loại diet đều có phương sai đồng nhất\n"
          ],
          "name": "stdout"
        }
      ]
    },
    {
      "cell_type": "markdown",
      "metadata": {
        "id": "XNt5DOYfl9eH"
      },
      "source": [
        "#Phân tích Anova"
      ]
    },
    {
      "cell_type": "code",
      "metadata": {
        "colab": {
          "base_uri": "https://localhost:8080/"
        },
        "id": "V8fJFEvJmCi3",
        "outputId": "78483462-62d7-410b-911f-6777d7ae496f"
      },
      "source": [
        "st,p = stats.f_oneway(type_1, type_2, type_3)\n",
        "if p < 0.05:\n",
        "    print('Có bằng chứng bác bỏ giả thuyết H0. Điều này ngụ ý rằng hiệu quả giữa các phương pháp có sự khác biệt')\n",
        "else:\n",
        "    print('Không đủ bằng chứng bác bỏ giả thuyết H0. Điều này ngụ ý rằng hiệu quả giữa các phương pháp không có sự khác biệt.')"
      ],
      "execution_count": 44,
      "outputs": [
        {
          "output_type": "stream",
          "text": [
            "Có bằng chứng bác bỏ giả thuyết H0. Điều này ngụ ý rằng hiệu quả giữa các phương pháp có sự khác biệt\n"
          ],
          "name": "stdout"
        }
      ]
    },
    {
      "cell_type": "markdown",
      "metadata": {
        "id": "U8P_NLNwmtez"
      },
      "source": [
        "#Hậu kiểm anova"
      ]
    },
    {
      "cell_type": "code",
      "metadata": {
        "colab": {
          "base_uri": "https://localhost:8080/",
          "height": 134
        },
        "id": "UbDEflw2msi0",
        "outputId": "d11c6c4e-287f-4449-9d12-52355d5e9bc6"
      },
      "source": [
        "tukey = pairwise_tukeyhsd(df['weightlost'],\n",
        "                          df['Diet'],\n",
        "                          alpha=0.05)\n",
        "tukey.summary()"
      ],
      "execution_count": 50,
      "outputs": [
        {
          "output_type": "execute_result",
          "data": {
            "text/html": [
              "<table class=\"simpletable\">\n",
              "<caption>Multiple Comparison of Means - Tukey HSD, FWER=0.05</caption>\n",
              "<tr>\n",
              "  <th>group1</th> <th>group2</th> <th>meandiff</th>  <th>p-adj</th>  <th>lower</th>   <th>upper</th> <th>reject</th>\n",
              "</tr>\n",
              "<tr>\n",
              "     <td>1</td>      <td>2</td>    <td>-0.032</td>    <td>0.9</td>  <td>-1.6531</td> <td>1.5891</td>  <td>False</td>\n",
              "</tr>\n",
              "<tr>\n",
              "     <td>1</td>      <td>3</td>    <td>1.8481</td>  <td>0.0188</td> <td>0.2567</td>  <td>3.4396</td>  <td>True</td> \n",
              "</tr>\n",
              "<tr>\n",
              "     <td>2</td>      <td>3</td>    <td>1.8801</td>  <td>0.0152</td> <td>0.3057</td>  <td>3.4546</td>  <td>True</td> \n",
              "</tr>\n",
              "</table>"
            ],
            "text/plain": [
              "<class 'statsmodels.iolib.table.SimpleTable'>"
            ]
          },
          "metadata": {
            "tags": []
          },
          "execution_count": 50
        }
      ]
    },
    {
      "cell_type": "markdown",
      "metadata": {
        "id": "1zJu0_1HnYhv"
      },
      "source": [
        "4.2 Có sự khác biệt về giới tính đối với việc giảm cân?\n",
        "\n",
        "- Xây dựng giả thuyết \n",
        "\n",
        "$H_0:$ Khả năng giảm cân phụ thuộc vào giới tính\n",
        "\n",
        "$H_0:$ Khả năng giảm cân không phụ thuộc vào giới tính"
      ]
    },
    {
      "cell_type": "code",
      "metadata": {
        "colab": {
          "base_uri": "https://localhost:8080/",
          "height": 447
        },
        "id": "MesMlmO3ntt5",
        "outputId": "77f81183-98b9-41b2-870f-94cc9a8f22e1"
      },
      "source": [
        "data = df[['gender', 'weightlost']]\n",
        "data"
      ],
      "execution_count": 51,
      "outputs": [
        {
          "output_type": "execute_result",
          "data": {
            "text/html": [
              "<div>\n",
              "<style scoped>\n",
              "    .dataframe tbody tr th:only-of-type {\n",
              "        vertical-align: middle;\n",
              "    }\n",
              "\n",
              "    .dataframe tbody tr th {\n",
              "        vertical-align: top;\n",
              "    }\n",
              "\n",
              "    .dataframe thead th {\n",
              "        text-align: right;\n",
              "    }\n",
              "</style>\n",
              "<table border=\"1\" class=\"dataframe\">\n",
              "  <thead>\n",
              "    <tr style=\"text-align: right;\">\n",
              "      <th></th>\n",
              "      <th>gender</th>\n",
              "      <th>weightlost</th>\n",
              "    </tr>\n",
              "    <tr>\n",
              "      <th>Person</th>\n",
              "      <th></th>\n",
              "      <th></th>\n",
              "    </tr>\n",
              "  </thead>\n",
              "  <tbody>\n",
              "    <tr>\n",
              "      <th>1</th>\n",
              "      <td>0</td>\n",
              "      <td>3.8</td>\n",
              "    </tr>\n",
              "    <tr>\n",
              "      <th>2</th>\n",
              "      <td>0</td>\n",
              "      <td>6.0</td>\n",
              "    </tr>\n",
              "    <tr>\n",
              "      <th>3</th>\n",
              "      <td>0</td>\n",
              "      <td>0.7</td>\n",
              "    </tr>\n",
              "    <tr>\n",
              "      <th>4</th>\n",
              "      <td>0</td>\n",
              "      <td>2.9</td>\n",
              "    </tr>\n",
              "    <tr>\n",
              "      <th>5</th>\n",
              "      <td>0</td>\n",
              "      <td>2.8</td>\n",
              "    </tr>\n",
              "    <tr>\n",
              "      <th>...</th>\n",
              "      <td>...</td>\n",
              "      <td>...</td>\n",
              "    </tr>\n",
              "    <tr>\n",
              "      <th>74</th>\n",
              "      <td>1</td>\n",
              "      <td>2.8</td>\n",
              "    </tr>\n",
              "    <tr>\n",
              "      <th>75</th>\n",
              "      <td>1</td>\n",
              "      <td>4.1</td>\n",
              "    </tr>\n",
              "    <tr>\n",
              "      <th>76</th>\n",
              "      <td>1</td>\n",
              "      <td>5.3</td>\n",
              "    </tr>\n",
              "    <tr>\n",
              "      <th>77</th>\n",
              "      <td>1</td>\n",
              "      <td>9.2</td>\n",
              "    </tr>\n",
              "    <tr>\n",
              "      <th>78</th>\n",
              "      <td>1</td>\n",
              "      <td>6.1</td>\n",
              "    </tr>\n",
              "  </tbody>\n",
              "</table>\n",
              "<p>76 rows × 2 columns</p>\n",
              "</div>"
            ],
            "text/plain": [
              "       gender  weightlost\n",
              "Person                   \n",
              "1           0         3.8\n",
              "2           0         6.0\n",
              "3           0         0.7\n",
              "4           0         2.9\n",
              "5           0         2.8\n",
              "...       ...         ...\n",
              "74          1         2.8\n",
              "75          1         4.1\n",
              "76          1         5.3\n",
              "77          1         9.2\n",
              "78          1         6.1\n",
              "\n",
              "[76 rows x 2 columns]"
            ]
          },
          "metadata": {
            "tags": []
          },
          "execution_count": 51
        }
      ]
    },
    {
      "cell_type": "code",
      "metadata": {
        "colab": {
          "base_uri": "https://localhost:8080/",
          "height": 142
        },
        "id": "37itb2X7nzOR",
        "outputId": "c5a00892-8416-4988-f164-03baf65b7471"
      },
      "source": [
        "gender = df.groupby('gender')['gender'].count()\n",
        "gender = pd.DataFrame(gender)\n",
        "gender.columns = ['Frequency']\n",
        "gender['Percent'] = gender/sum(gender['Frequency'])*100\n",
        "gender"
      ],
      "execution_count": 52,
      "outputs": [
        {
          "output_type": "execute_result",
          "data": {
            "text/html": [
              "<div>\n",
              "<style scoped>\n",
              "    .dataframe tbody tr th:only-of-type {\n",
              "        vertical-align: middle;\n",
              "    }\n",
              "\n",
              "    .dataframe tbody tr th {\n",
              "        vertical-align: top;\n",
              "    }\n",
              "\n",
              "    .dataframe thead th {\n",
              "        text-align: right;\n",
              "    }\n",
              "</style>\n",
              "<table border=\"1\" class=\"dataframe\">\n",
              "  <thead>\n",
              "    <tr style=\"text-align: right;\">\n",
              "      <th></th>\n",
              "      <th>Frequency</th>\n",
              "      <th>Percent</th>\n",
              "    </tr>\n",
              "    <tr>\n",
              "      <th>gender</th>\n",
              "      <th></th>\n",
              "      <th></th>\n",
              "    </tr>\n",
              "  </thead>\n",
              "  <tbody>\n",
              "    <tr>\n",
              "      <th>0</th>\n",
              "      <td>43</td>\n",
              "      <td>56.578947</td>\n",
              "    </tr>\n",
              "    <tr>\n",
              "      <th>1</th>\n",
              "      <td>33</td>\n",
              "      <td>43.421053</td>\n",
              "    </tr>\n",
              "  </tbody>\n",
              "</table>\n",
              "</div>"
            ],
            "text/plain": [
              "        Frequency    Percent\n",
              "gender                      \n",
              "0              43  56.578947\n",
              "1              33  43.421053"
            ]
          },
          "metadata": {
            "tags": []
          },
          "execution_count": 52
        }
      ]
    },
    {
      "cell_type": "code",
      "metadata": {
        "id": "1aS7uLSPn31Q"
      },
      "source": [
        "gr = data.groupby('gender').groups\n",
        "female = data['weightlost'][gr['0']]\n",
        "male = data['weightlost'][gr['1']]"
      ],
      "execution_count": 55,
      "outputs": []
    },
    {
      "cell_type": "markdown",
      "metadata": {
        "id": "Sm-PEC9uocOd"
      },
      "source": [
        "## Kiểm tra mỗi nhóm có thuộc phân phối chuẩn chưa\n",
        "\n",
        "### Sử dụng Shapiro-Wilk test \n",
        "\n",
        "Phát biểu giả thiết:\n",
        "\n",
        "$H_0$: Phân phối của feature là chuẩn\n",
        "\n",
        "$H_1$: Phân phối của feature là không chuẩn"
      ]
    },
    {
      "cell_type": "code",
      "metadata": {
        "colab": {
          "base_uri": "https://localhost:8080/"
        },
        "id": "0jzQk3PIodeV",
        "outputId": "b35dfa87-ef43-4b88-9d76-6b354ad00ad2"
      },
      "source": [
        "stat, p = stats.shapiro(male)\n",
        "if p < 0.05:\n",
        "  print(\"Phân phối của nam là không chuẩn\")\n",
        "else:\n",
        "  print(\"Phân phối của nam là chuẩn\")"
      ],
      "execution_count": 60,
      "outputs": [
        {
          "output_type": "stream",
          "text": [
            "Phân phối của nam là chuẩn\n"
          ],
          "name": "stdout"
        }
      ]
    },
    {
      "cell_type": "code",
      "metadata": {
        "colab": {
          "base_uri": "https://localhost:8080/"
        },
        "id": "nHsyVdXAo399",
        "outputId": "d616fa46-1f2c-4f6f-a80f-cf1f800b1abe"
      },
      "source": [
        "stat, p = stats.shapiro(female)\n",
        "if p < 0.05:\n",
        "  print(\"Phân phối của nữ là không chuẩn\")\n",
        "else:\n",
        "  print(\"Phân phối của nữ là chuẩn\")"
      ],
      "execution_count": 62,
      "outputs": [
        {
          "output_type": "stream",
          "text": [
            "Phân phối của nữ là chuẩn\n"
          ],
          "name": "stdout"
        }
      ]
    },
    {
      "cell_type": "markdown",
      "metadata": {
        "id": "izh7p8B4pDAG"
      },
      "source": [
        "Kiểm định tính thuần nhất phương sai (homogeneity of variance) \n",
        "\n",
        "Bartlett’s Test\n",
        "\n",
        "Phát biểu các giả thiết:\n",
        "\n",
        "H0 : Các feature đều có phương sai đồng nhất\n",
        "\n",
        "H1 : Có ít nhất 2 feature có phương sai khác nhau (lớn)\n",
        "\n",
        "Chú ý: Nếu p < 0.05 =  α  thì loại giả thiết  H0 . Tức là các feature không đồng nhất về phương sai."
      ]
    },
    {
      "cell_type": "code",
      "metadata": {
        "colab": {
          "base_uri": "https://localhost:8080/"
        },
        "id": "d1kV6ID5pG9T",
        "outputId": "7a83664e-824e-4db8-f185-e39b5e26fdd6"
      },
      "source": [
        "st,p = stats.bartlett(male,female)\n",
        "if p < 0.05:\n",
        "  print(\"Loại giả thiết H_0. Tức là các feature không đồng nhất về phương sai. \")\n",
        "else:\n",
        "  print(\"Các loại diet đều có phương sai đồng nhất\")"
      ],
      "execution_count": 68,
      "outputs": [
        {
          "output_type": "stream",
          "text": [
            "Các loại diet đều có phương sai đồng nhất\n"
          ],
          "name": "stdout"
        }
      ]
    },
    {
      "cell_type": "markdown",
      "metadata": {
        "id": "jl0IkjuLpjKc"
      },
      "source": [
        "#Phân tích Anova"
      ]
    },
    {
      "cell_type": "code",
      "metadata": {
        "colab": {
          "base_uri": "https://localhost:8080/"
        },
        "id": "czG9PMNXpYZk",
        "outputId": "429279be-916c-4365-da43-36ed5c0512d2"
      },
      "source": [
        "st,p = stats.f_oneway(male,female)\n",
        "if p < 0.05:\n",
        "    print('Có bằng chứng bác bỏ giả thuyết H0. Điều này ngụ ý rằng hiệu quả giữa các phương pháp có ảnh hưởng bởi giới tính')\n",
        "else:\n",
        "    print('Không đủ bằng chứng bác bỏ giả thuyết H0. Điều này ngụ ý rằng hiệu quả giữa các phương pháp không ảnh hưởng bởi giới tính.')"
      ],
      "execution_count": 69,
      "outputs": [
        {
          "output_type": "execute_result",
          "data": {
            "text/plain": [
              "0.8348273886348012"
            ]
          },
          "metadata": {
            "tags": []
          },
          "execution_count": 69
        }
      ]
    },
    {
      "cell_type": "markdown",
      "metadata": {
        "id": "Hr_LK6zzp1RZ"
      },
      "source": [
        "#Hậu Anova"
      ]
    },
    {
      "cell_type": "code",
      "metadata": {
        "colab": {
          "base_uri": "https://localhost:8080/",
          "height": 146
        },
        "id": "Hc2Zp7uAqEbJ",
        "outputId": "ca8de873-f4a0-48d7-ec5d-169407ea3ade"
      },
      "source": [
        "tukey = pairwise_tukeyhsd(endog=df['weightlost'],\n",
        "                          groups=df['gender'],\n",
        "                          alpha=0.05)\n",
        "tukey.summary()"
      ],
      "execution_count": 70,
      "outputs": [
        {
          "output_type": "stream",
          "text": [
            "/usr/local/lib/python3.7/dist-packages/numpy/core/fromnumeric.py:87: VisibleDeprecationWarning: Creating an ndarray from ragged nested sequences (which is a list-or-tuple of lists-or-tuples-or ndarrays with different lengths or shapes) is deprecated. If you meant to do this, you must specify 'dtype=object' when creating the ndarray\n",
            "  return ufunc.reduce(obj, axis, dtype, out, **passkwargs)\n"
          ],
          "name": "stderr"
        },
        {
          "output_type": "execute_result",
          "data": {
            "text/html": [
              "<table class=\"simpletable\">\n",
              "<caption>Multiple Comparison of Means - Tukey HSD, FWER=0.05</caption>\n",
              "<tr>\n",
              "  <th>group1</th> <th>group2</th> <th>meandiff</th>  <th>p-adj</th>  <th>lower</th>   <th>upper</th> <th>reject</th>\n",
              "</tr>\n",
              "<tr>\n",
              "     <td>0</td>      <td>1</td>    <td>0.1221</td>  <td>0.8397</td> <td>-1.0408</td> <td>1.2851</td>  <td>False</td>\n",
              "</tr>\n",
              "</table>"
            ],
            "text/plain": [
              "<class 'statsmodels.iolib.table.SimpleTable'>"
            ]
          },
          "metadata": {
            "tags": []
          },
          "execution_count": 70
        }
      ]
    },
    {
      "cell_type": "markdown",
      "metadata": {
        "id": "G2cRRQtFqV59"
      },
      "source": [
        "#Câu 5\n",
        "### Ảnh hưởng của chế độ ăn kiêng và giới tính đến việc giảm cân"
      ]
    },
    {
      "cell_type": "code",
      "metadata": {
        "colab": {
          "base_uri": "https://localhost:8080/",
          "height": 172
        },
        "id": "faY9koVeqodd",
        "outputId": "8eb5e635-8c77-4a27-8d3f-3f858531e668"
      },
      "source": [
        "model = ols('weightlost ~ C(Diet) + C(gender) + C(Diet):C(gender)', data=df).fit()\n",
        "sm.stats.anova_lm(model, typ=2)"
      ],
      "execution_count": 71,
      "outputs": [
        {
          "output_type": "execute_result",
          "data": {
            "text/html": [
              "<div>\n",
              "<style scoped>\n",
              "    .dataframe tbody tr th:only-of-type {\n",
              "        vertical-align: middle;\n",
              "    }\n",
              "\n",
              "    .dataframe tbody tr th {\n",
              "        vertical-align: top;\n",
              "    }\n",
              "\n",
              "    .dataframe thead th {\n",
              "        text-align: right;\n",
              "    }\n",
              "</style>\n",
              "<table border=\"1\" class=\"dataframe\">\n",
              "  <thead>\n",
              "    <tr style=\"text-align: right;\">\n",
              "      <th></th>\n",
              "      <th>sum_sq</th>\n",
              "      <th>df</th>\n",
              "      <th>F</th>\n",
              "      <th>PR(&gt;F)</th>\n",
              "    </tr>\n",
              "  </thead>\n",
              "  <tbody>\n",
              "    <tr>\n",
              "      <th>C(Diet)</th>\n",
              "      <td>60.417220</td>\n",
              "      <td>2.0</td>\n",
              "      <td>5.619026</td>\n",
              "      <td>0.005456</td>\n",
              "    </tr>\n",
              "    <tr>\n",
              "      <th>C(gender)</th>\n",
              "      <td>0.168696</td>\n",
              "      <td>1.0</td>\n",
              "      <td>0.031379</td>\n",
              "      <td>0.859910</td>\n",
              "    </tr>\n",
              "    <tr>\n",
              "      <th>C(Diet):C(gender)</th>\n",
              "      <td>33.904068</td>\n",
              "      <td>2.0</td>\n",
              "      <td>3.153204</td>\n",
              "      <td>0.048842</td>\n",
              "    </tr>\n",
              "    <tr>\n",
              "      <th>Residual</th>\n",
              "      <td>376.329043</td>\n",
              "      <td>70.0</td>\n",
              "      <td>NaN</td>\n",
              "      <td>NaN</td>\n",
              "    </tr>\n",
              "  </tbody>\n",
              "</table>\n",
              "</div>"
            ],
            "text/plain": [
              "                       sum_sq    df         F    PR(>F)\n",
              "C(Diet)             60.417220   2.0  5.619026  0.005456\n",
              "C(gender)            0.168696   1.0  0.031379  0.859910\n",
              "C(Diet):C(gender)   33.904068   2.0  3.153204  0.048842\n",
              "Residual           376.329043  70.0       NaN       NaN"
            ]
          },
          "metadata": {
            "tags": []
          },
          "execution_count": 71
        }
      ]
    },
    {
      "cell_type": "markdown",
      "metadata": {
        "id": "7tPiCKYPq46e"
      },
      "source": [
        "#Câu 6 \n",
        "\n",
        "##Tương tác\n",
        "###Biểu đồ giảm cân theo chế độ ăn uống và giới tính"
      ]
    },
    {
      "cell_type": "code",
      "metadata": {
        "colab": {
          "base_uri": "https://localhost:8080/",
          "height": 489
        },
        "id": "L5yCCXlXsPQy",
        "outputId": "602ae27c-1711-4a37-dbec-49cf6c04d32a"
      },
      "source": [
        "cau6 = df[['gender','Diet','weightlost']]\n",
        "cau6['gender'] = cau6['gender'].replace(to_replace =['0' ,'1'], \n",
        "                            value =['Female','Male'])\n",
        "cau6.sample(10)"
      ],
      "execution_count": 76,
      "outputs": [
        {
          "output_type": "stream",
          "text": [
            "/usr/local/lib/python3.7/dist-packages/ipykernel_launcher.py:3: SettingWithCopyWarning: \n",
            "A value is trying to be set on a copy of a slice from a DataFrame.\n",
            "Try using .loc[row_indexer,col_indexer] = value instead\n",
            "\n",
            "See the caveats in the documentation: https://pandas.pydata.org/pandas-docs/stable/user_guide/indexing.html#returning-a-view-versus-a-copy\n",
            "  This is separate from the ipykernel package so we can avoid doing imports until\n"
          ],
          "name": "stderr"
        },
        {
          "output_type": "execute_result",
          "data": {
            "text/html": [
              "<div>\n",
              "<style scoped>\n",
              "    .dataframe tbody tr th:only-of-type {\n",
              "        vertical-align: middle;\n",
              "    }\n",
              "\n",
              "    .dataframe tbody tr th {\n",
              "        vertical-align: top;\n",
              "    }\n",
              "\n",
              "    .dataframe thead th {\n",
              "        text-align: right;\n",
              "    }\n",
              "</style>\n",
              "<table border=\"1\" class=\"dataframe\">\n",
              "  <thead>\n",
              "    <tr style=\"text-align: right;\">\n",
              "      <th></th>\n",
              "      <th>gender</th>\n",
              "      <th>Diet</th>\n",
              "      <th>weightlost</th>\n",
              "    </tr>\n",
              "    <tr>\n",
              "      <th>Person</th>\n",
              "      <th></th>\n",
              "      <th></th>\n",
              "      <th></th>\n",
              "    </tr>\n",
              "  </thead>\n",
              "  <tbody>\n",
              "    <tr>\n",
              "      <th>57</th>\n",
              "      <td>Female</td>\n",
              "      <td>3</td>\n",
              "      <td>5.4</td>\n",
              "    </tr>\n",
              "    <tr>\n",
              "      <th>30</th>\n",
              "      <td>Female</td>\n",
              "      <td>2</td>\n",
              "      <td>4.3</td>\n",
              "    </tr>\n",
              "    <tr>\n",
              "      <th>67</th>\n",
              "      <td>Male</td>\n",
              "      <td>3</td>\n",
              "      <td>2.5</td>\n",
              "    </tr>\n",
              "    <tr>\n",
              "      <th>18</th>\n",
              "      <td>Male</td>\n",
              "      <td>1</td>\n",
              "      <td>4.1</td>\n",
              "    </tr>\n",
              "    <tr>\n",
              "      <th>31</th>\n",
              "      <td>Female</td>\n",
              "      <td>2</td>\n",
              "      <td>7.0</td>\n",
              "    </tr>\n",
              "    <tr>\n",
              "      <th>41</th>\n",
              "      <td>Male</td>\n",
              "      <td>2</td>\n",
              "      <td>4.2</td>\n",
              "    </tr>\n",
              "    <tr>\n",
              "      <th>15</th>\n",
              "      <td>Male</td>\n",
              "      <td>1</td>\n",
              "      <td>-0.6</td>\n",
              "    </tr>\n",
              "    <tr>\n",
              "      <th>27</th>\n",
              "      <td>Female</td>\n",
              "      <td>2</td>\n",
              "      <td>-2.1</td>\n",
              "    </tr>\n",
              "    <tr>\n",
              "      <th>28</th>\n",
              "      <td>Female</td>\n",
              "      <td>2</td>\n",
              "      <td>2.0</td>\n",
              "    </tr>\n",
              "    <tr>\n",
              "      <th>54</th>\n",
              "      <td>Female</td>\n",
              "      <td>3</td>\n",
              "      <td>3.4</td>\n",
              "    </tr>\n",
              "  </tbody>\n",
              "</table>\n",
              "</div>"
            ],
            "text/plain": [
              "        gender  Diet  weightlost\n",
              "Person                          \n",
              "57      Female     3         5.4\n",
              "30      Female     2         4.3\n",
              "67        Male     3         2.5\n",
              "18        Male     1         4.1\n",
              "31      Female     2         7.0\n",
              "41        Male     2         4.2\n",
              "15        Male     1        -0.6\n",
              "27      Female     2        -2.1\n",
              "28      Female     2         2.0\n",
              "54      Female     3         3.4"
            ]
          },
          "metadata": {
            "tags": []
          },
          "execution_count": 76
        }
      ]
    },
    {
      "cell_type": "code",
      "metadata": {
        "colab": {
          "base_uri": "https://localhost:8080/",
          "height": 327
        },
        "id": "xW1labnMsnJ_",
        "outputId": "1bc217d3-f3fc-4b01-c294-82a9c14dcae4"
      },
      "source": [
        "g=sns.barplot(x=\"Diet\", y=\"weightlost\", hue=\"gender\", data=cau6, palette=['r','c'])\n",
        "g.set_xticklabels([\"Loại 1\", \"Loại 2\", \"Loại 3\"])\n",
        "g.set(ylim=(0, 8))\n",
        "plt.ylabel('Weight Lost',size=15)\n",
        "plt.xlabel('Diet', size=15)\n",
        "plt.title('Biểu đồ thể hiện loại ăn kiêng và số cân giảm theo giới tính', size=20)"
      ],
      "execution_count": 83,
      "outputs": [
        {
          "output_type": "execute_result",
          "data": {
            "text/plain": [
              "Text(0.5, 1.0, 'Biểu đồ thể hiện loại ăn kiêng và số cân giảm theo giới tính')"
            ]
          },
          "metadata": {
            "tags": []
          },
          "execution_count": 83
        },
        {
          "output_type": "display_data",
          "data": {
            "image/png": "[encoded data removed]",
            "text/plain": [
              "<Figure size 432x288 with 1 Axes>"
            ]
          },
          "metadata": {
            "tags": []
          }
        }
      ]
    },
    {
      "cell_type": "markdown",
      "metadata": {
        "id": "4LGvLTz5tPFc"
      },
      "source": [
        "#Câu 7: Ancova"
      ]
    },
    {
      "cell_type": "code",
      "metadata": {
        "colab": {
          "base_uri": "https://localhost:8080/",
          "height": 142
        },
        "id": "0x5qaIWOtY2I",
        "outputId": "7f720e74-3522-4442-b35c-3763b4c6513b"
      },
      "source": [
        "df['gender']=pd.to_numeric(df['gender'])\n",
        "ancova(data=df, dv='weightlost', covar='Height', between='Diet')"
      ],
      "execution_count": 95,
      "outputs": [
        {
          "output_type": "execute_result",
          "data": {
            "text/html": [
              "<div>\n",
              "<style scoped>\n",
              "    .dataframe tbody tr th:only-of-type {\n",
              "        vertical-align: middle;\n",
              "    }\n",
              "\n",
              "    .dataframe tbody tr th {\n",
              "        vertical-align: top;\n",
              "    }\n",
              "\n",
              "    .dataframe thead th {\n",
              "        text-align: right;\n",
              "    }\n",
              "</style>\n",
              "<table border=\"1\" class=\"dataframe\">\n",
              "  <thead>\n",
              "    <tr style=\"text-align: right;\">\n",
              "      <th></th>\n",
              "      <th>Source</th>\n",
              "      <th>SS</th>\n",
              "      <th>DF</th>\n",
              "      <th>F</th>\n",
              "      <th>p-unc</th>\n",
              "      <th>np2</th>\n",
              "    </tr>\n",
              "  </thead>\n",
              "  <tbody>\n",
              "    <tr>\n",
              "      <th>0</th>\n",
              "      <td>Diet</td>\n",
              "      <td>54.939344</td>\n",
              "      <td>2</td>\n",
              "      <td>4.824629</td>\n",
              "      <td>0.010807</td>\n",
              "      <td>0.118179</td>\n",
              "    </tr>\n",
              "    <tr>\n",
              "      <th>1</th>\n",
              "      <td>Height</td>\n",
              "      <td>0.460119</td>\n",
              "      <td>1</td>\n",
              "      <td>0.080813</td>\n",
              "      <td>0.777015</td>\n",
              "      <td>0.001121</td>\n",
              "    </tr>\n",
              "    <tr>\n",
              "      <th>2</th>\n",
              "      <td>Residual</td>\n",
              "      <td>409.941688</td>\n",
              "      <td>72</td>\n",
              "      <td>NaN</td>\n",
              "      <td>NaN</td>\n",
              "      <td>NaN</td>\n",
              "    </tr>\n",
              "  </tbody>\n",
              "</table>\n",
              "</div>"
            ],
            "text/plain": [
              "     Source          SS  DF         F     p-unc       np2\n",
              "0      Diet   54.939344   2  4.824629  0.010807  0.118179\n",
              "1    Height    0.460119   1  0.080813  0.777015  0.001121\n",
              "2  Residual  409.941688  72       NaN       NaN       NaN"
            ]
          },
          "metadata": {
            "tags": []
          },
          "execution_count": 95
        }
      ]
    }
  ]
}