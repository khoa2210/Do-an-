{
  "nbformat": 4,
  "nbformat_minor": 0,
  "metadata": {
    "colab": {
      "name": "Thống kê mô tả.ipynb",
      "provenance": [],
      "authorship_tag": "ABX9TyPCLlCqjeDwRLrQn4LMRHap",
      "include_colab_link": true
    },
    "kernelspec": {
      "name": "python3",
      "display_name": "Python 3"
    },
    "language_info": {
      "name": "python"
    }
  },
  "cells": [
    {
      "cell_type": "markdown",
      "metadata": {
        "id": "view-in-github",
        "colab_type": "text"
      },
      "source": [
        "<a href=\"https://colab.research.google.com/github/khoa2210/Do-an-/blob/main/Th%E1%BB%91ng_k%C3%AA_m%C3%B4_t%E1%BA%A3.ipynb\" target=\"_parent\"><img src=\"https://colab.research.google.com/assets/colab-badge.svg\" alt=\"Open In Colab\"/></a>"
      ]
    },
    {
      "cell_type": "markdown",
      "metadata": {
        "id": "5eOXXauCXkgH"
      },
      "source": [
        "THỐNG KÊ MÔ TẢ\n"
      ]
    },
    {
      "cell_type": "markdown",
      "metadata": {
        "id": "C3tcjCNMTCuL"
      },
      "source": [
        "Import các thư viện cần dùng:"
      ]
    },
    {
      "cell_type": "code",
      "metadata": {
        "id": "4LSEsUkYuQ6q"
      },
      "source": [
        "import pandas as pd\n",
        "import matplotlib.pyplot as plt\n",
        "%matplotlib inline\n",
        "from scipy import stats\n",
        "import statistics as st\n",
        "import numpy as np\n",
        "import seaborn as sns\n",
        "from sklearn import linear_model"
      ],
      "execution_count": 1,
      "outputs": []
    },
    {
      "cell_type": "markdown",
      "metadata": {
        "id": "PUV7y2yJTTe-"
      },
      "source": [
        "Import file IncExpData để thống kê:"
      ]
    },
    {
      "cell_type": "code",
      "metadata": {
        "colab": {
          "resources": {
            "http://localhost:8080/nbextensions/google.colab/files.js": {
              "data": "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",
              "ok": true,
              "headers": [
                [
                  "content-type",
                  "application/javascript"
                ]
              ],
              "status": 200,
              "status_text": ""
            }
          },
          "base_uri": "https://localhost:8080/",
          "height": 73
        },
        "id": "ieTTfr9S72Nu",
        "outputId": "6c1f4666-a1de-4d29-8ebf-98c1b55e41a4"
      },
      "source": [
        "from google.colab import files\n",
        "uploaded = files.upload()"
      ],
      "execution_count": 3,
      "outputs": [
        {
          "output_type": "display_data",
          "data": {
            "text/html": [
              "\n",
              "     <input type=\"file\" id=\"files-4487abde-02bc-49dd-a84c-6249d9f15f2f\" name=\"files[]\" multiple disabled\n",
              "        style=\"border:none\" />\n",
              "     <output id=\"result-4487abde-02bc-49dd-a84c-6249d9f15f2f\">\n",
              "      Upload widget is only available when the cell has been executed in the\n",
              "      current browser session. Please rerun this cell to enable.\n",
              "      </output>\n",
              "      <script src=\"/nbextensions/google.colab/files.js\"></script> "
            ],
            "text/plain": [
              "<IPython.core.display.HTML object>"
            ]
          },
          "metadata": {
            "tags": []
          }
        },
        {
          "output_type": "stream",
          "text": [
            "Saving Inc_Exp_Data.csv to Inc_Exp_Data.csv\n"
          ],
          "name": "stdout"
        }
      ]
    },
    {
      "cell_type": "markdown",
      "metadata": {
        "id": "Wj5X7HfGUFNz"
      },
      "source": [
        "1: Thu thập và làm sạch dữ liệu\n",
        "\n"
      ]
    },
    {
      "cell_type": "markdown",
      "metadata": {
        "id": "hd4_lMxcXtDY"
      },
      "source": [
        "In file và đổi tên cột\n"
      ]
    },
    {
      "cell_type": "code",
      "metadata": {
        "colab": {
          "base_uri": "https://localhost:8080/",
          "height": 1000
        },
        "id": "K6txP4mVzuAB",
        "outputId": "bbc91557-835f-4973-8d9d-ae7647c04da0"
      },
      "source": [
        "df = pd.read_csv(\"Inc_Exp_Data.csv\")\n",
        "df = df.rename(columns={\"Mthly_HH_Income\": \"Thu nhập hàng tháng\", \"Mthly_HH_Expense\": \"Chi phí hằng tháng\", \"No_of_Fly_Members\": \"Số thành viên\", \"Emi_or_Rent_Amt\": \"Tiền thuê hằng tháng\", \"Annual_HH_Income\": \"Thu nhập hằng năm\", \"Highest_Qualified_Member\": \"Học vị cao nhất\", \"No_of_Earning_Members\": \"Số người kiếm tiền\"})\n",
        "df "
      ],
      "execution_count": 4,
      "outputs": [
        {
          "output_type": "execute_result",
          "data": {
            "text/html": [
              "<div>\n",
              "<style scoped>\n",
              "    .dataframe tbody tr th:only-of-type {\n",
              "        vertical-align: middle;\n",
              "    }\n",
              "\n",
              "    .dataframe tbody tr th {\n",
              "        vertical-align: top;\n",
              "    }\n",
              "\n",
              "    .dataframe thead th {\n",
              "        text-align: right;\n",
              "    }\n",
              "</style>\n",
              "<table border=\"1\" class=\"dataframe\">\n",
              "  <thead>\n",
              "    <tr style=\"text-align: right;\">\n",
              "      <th></th>\n",
              "      <th>Thu nhập hàng tháng</th>\n",
              "      <th>Chi phí hằng tháng</th>\n",
              "      <th>Số thành viên</th>\n",
              "      <th>Tiền thuê hằng tháng</th>\n",
              "      <th>Thu nhập hằng năm</th>\n",
              "      <th>Học vị cao nhất</th>\n",
              "      <th>Số người kiếm tiền</th>\n",
              "    </tr>\n",
              "  </thead>\n",
              "  <tbody>\n",
              "    <tr>\n",
              "      <th>0</th>\n",
              "      <td>5000</td>\n",
              "      <td>8000</td>\n",
              "      <td>3</td>\n",
              "      <td>2000</td>\n",
              "      <td>64200</td>\n",
              "      <td>Under-Graduate</td>\n",
              "      <td>1</td>\n",
              "    </tr>\n",
              "    <tr>\n",
              "      <th>1</th>\n",
              "      <td>6000</td>\n",
              "      <td>7000</td>\n",
              "      <td>2</td>\n",
              "      <td>3000</td>\n",
              "      <td>79920</td>\n",
              "      <td>Illiterate</td>\n",
              "      <td>1</td>\n",
              "    </tr>\n",
              "    <tr>\n",
              "      <th>2</th>\n",
              "      <td>10000</td>\n",
              "      <td>4500</td>\n",
              "      <td>2</td>\n",
              "      <td>0</td>\n",
              "      <td>112800</td>\n",
              "      <td>Under-Graduate</td>\n",
              "      <td>1</td>\n",
              "    </tr>\n",
              "    <tr>\n",
              "      <th>3</th>\n",
              "      <td>10000</td>\n",
              "      <td>2000</td>\n",
              "      <td>1</td>\n",
              "      <td>0</td>\n",
              "      <td>97200</td>\n",
              "      <td>Illiterate</td>\n",
              "      <td>1</td>\n",
              "    </tr>\n",
              "    <tr>\n",
              "      <th>4</th>\n",
              "      <td>12500</td>\n",
              "      <td>12000</td>\n",
              "      <td>2</td>\n",
              "      <td>3000</td>\n",
              "      <td>147000</td>\n",
              "      <td>Graduate</td>\n",
              "      <td>1</td>\n",
              "    </tr>\n",
              "    <tr>\n",
              "      <th>5</th>\n",
              "      <td>14000</td>\n",
              "      <td>8000</td>\n",
              "      <td>2</td>\n",
              "      <td>0</td>\n",
              "      <td>196560</td>\n",
              "      <td>Graduate</td>\n",
              "      <td>1</td>\n",
              "    </tr>\n",
              "    <tr>\n",
              "      <th>6</th>\n",
              "      <td>15000</td>\n",
              "      <td>16000</td>\n",
              "      <td>3</td>\n",
              "      <td>35000</td>\n",
              "      <td>167400</td>\n",
              "      <td>Post-Graduate</td>\n",
              "      <td>1</td>\n",
              "    </tr>\n",
              "    <tr>\n",
              "      <th>7</th>\n",
              "      <td>18000</td>\n",
              "      <td>20000</td>\n",
              "      <td>5</td>\n",
              "      <td>8000</td>\n",
              "      <td>216000</td>\n",
              "      <td>Graduate</td>\n",
              "      <td>1</td>\n",
              "    </tr>\n",
              "    <tr>\n",
              "      <th>8</th>\n",
              "      <td>19000</td>\n",
              "      <td>9000</td>\n",
              "      <td>2</td>\n",
              "      <td>0</td>\n",
              "      <td>218880</td>\n",
              "      <td>Under-Graduate</td>\n",
              "      <td>1</td>\n",
              "    </tr>\n",
              "    <tr>\n",
              "      <th>9</th>\n",
              "      <td>20000</td>\n",
              "      <td>9000</td>\n",
              "      <td>4</td>\n",
              "      <td>0</td>\n",
              "      <td>220800</td>\n",
              "      <td>Under-Graduate</td>\n",
              "      <td>2</td>\n",
              "    </tr>\n",
              "    <tr>\n",
              "      <th>10</th>\n",
              "      <td>20000</td>\n",
              "      <td>18000</td>\n",
              "      <td>4</td>\n",
              "      <td>8000</td>\n",
              "      <td>278400</td>\n",
              "      <td>Under-Graduate</td>\n",
              "      <td>2</td>\n",
              "    </tr>\n",
              "    <tr>\n",
              "      <th>11</th>\n",
              "      <td>22000</td>\n",
              "      <td>25000</td>\n",
              "      <td>6</td>\n",
              "      <td>12000</td>\n",
              "      <td>279840</td>\n",
              "      <td>Illiterate</td>\n",
              "      <td>1</td>\n",
              "    </tr>\n",
              "    <tr>\n",
              "      <th>12</th>\n",
              "      <td>23400</td>\n",
              "      <td>5000</td>\n",
              "      <td>3</td>\n",
              "      <td>0</td>\n",
              "      <td>292032</td>\n",
              "      <td>Illiterate</td>\n",
              "      <td>1</td>\n",
              "    </tr>\n",
              "    <tr>\n",
              "      <th>13</th>\n",
              "      <td>24000</td>\n",
              "      <td>10500</td>\n",
              "      <td>6</td>\n",
              "      <td>0</td>\n",
              "      <td>316800</td>\n",
              "      <td>Graduate</td>\n",
              "      <td>2</td>\n",
              "    </tr>\n",
              "    <tr>\n",
              "      <th>14</th>\n",
              "      <td>24000</td>\n",
              "      <td>10000</td>\n",
              "      <td>4</td>\n",
              "      <td>0</td>\n",
              "      <td>244800</td>\n",
              "      <td>Graduate</td>\n",
              "      <td>2</td>\n",
              "    </tr>\n",
              "    <tr>\n",
              "      <th>15</th>\n",
              "      <td>25000</td>\n",
              "      <td>12300</td>\n",
              "      <td>3</td>\n",
              "      <td>0</td>\n",
              "      <td>246000</td>\n",
              "      <td>Graduate</td>\n",
              "      <td>1</td>\n",
              "    </tr>\n",
              "    <tr>\n",
              "      <th>16</th>\n",
              "      <td>25000</td>\n",
              "      <td>20000</td>\n",
              "      <td>3</td>\n",
              "      <td>3500</td>\n",
              "      <td>261000</td>\n",
              "      <td>Graduate</td>\n",
              "      <td>1</td>\n",
              "    </tr>\n",
              "    <tr>\n",
              "      <th>17</th>\n",
              "      <td>25000</td>\n",
              "      <td>10000</td>\n",
              "      <td>6</td>\n",
              "      <td>0</td>\n",
              "      <td>258000</td>\n",
              "      <td>Under-Graduate</td>\n",
              "      <td>3</td>\n",
              "    </tr>\n",
              "    <tr>\n",
              "      <th>18</th>\n",
              "      <td>29000</td>\n",
              "      <td>6600</td>\n",
              "      <td>2</td>\n",
              "      <td>2000</td>\n",
              "      <td>348000</td>\n",
              "      <td>Graduate</td>\n",
              "      <td>1</td>\n",
              "    </tr>\n",
              "    <tr>\n",
              "      <th>19</th>\n",
              "      <td>30000</td>\n",
              "      <td>13000</td>\n",
              "      <td>4</td>\n",
              "      <td>0</td>\n",
              "      <td>385200</td>\n",
              "      <td>Graduate</td>\n",
              "      <td>1</td>\n",
              "    </tr>\n",
              "    <tr>\n",
              "      <th>20</th>\n",
              "      <td>30500</td>\n",
              "      <td>25000</td>\n",
              "      <td>5</td>\n",
              "      <td>5000</td>\n",
              "      <td>351360</td>\n",
              "      <td>Under-Graduate</td>\n",
              "      <td>1</td>\n",
              "    </tr>\n",
              "    <tr>\n",
              "      <th>21</th>\n",
              "      <td>32000</td>\n",
              "      <td>15000</td>\n",
              "      <td>4</td>\n",
              "      <td>0</td>\n",
              "      <td>445440</td>\n",
              "      <td>Professional</td>\n",
              "      <td>1</td>\n",
              "    </tr>\n",
              "    <tr>\n",
              "      <th>22</th>\n",
              "      <td>34000</td>\n",
              "      <td>19000</td>\n",
              "      <td>6</td>\n",
              "      <td>0</td>\n",
              "      <td>330480</td>\n",
              "      <td>Professional</td>\n",
              "      <td>1</td>\n",
              "    </tr>\n",
              "    <tr>\n",
              "      <th>23</th>\n",
              "      <td>34000</td>\n",
              "      <td>25000</td>\n",
              "      <td>3</td>\n",
              "      <td>4000</td>\n",
              "      <td>469200</td>\n",
              "      <td>Professional</td>\n",
              "      <td>1</td>\n",
              "    </tr>\n",
              "    <tr>\n",
              "      <th>24</th>\n",
              "      <td>35000</td>\n",
              "      <td>12000</td>\n",
              "      <td>3</td>\n",
              "      <td>0</td>\n",
              "      <td>466200</td>\n",
              "      <td>Graduate</td>\n",
              "      <td>1</td>\n",
              "    </tr>\n",
              "    <tr>\n",
              "      <th>25</th>\n",
              "      <td>35000</td>\n",
              "      <td>25000</td>\n",
              "      <td>4</td>\n",
              "      <td>0</td>\n",
              "      <td>449400</td>\n",
              "      <td>Professional</td>\n",
              "      <td>2</td>\n",
              "    </tr>\n",
              "    <tr>\n",
              "      <th>26</th>\n",
              "      <td>39000</td>\n",
              "      <td>8000</td>\n",
              "      <td>4</td>\n",
              "      <td>0</td>\n",
              "      <td>556920</td>\n",
              "      <td>Under-Graduate</td>\n",
              "      <td>1</td>\n",
              "    </tr>\n",
              "    <tr>\n",
              "      <th>27</th>\n",
              "      <td>40000</td>\n",
              "      <td>10000</td>\n",
              "      <td>4</td>\n",
              "      <td>0</td>\n",
              "      <td>412800</td>\n",
              "      <td>Under-Graduate</td>\n",
              "      <td>1</td>\n",
              "    </tr>\n",
              "    <tr>\n",
              "      <th>28</th>\n",
              "      <td>42000</td>\n",
              "      <td>15000</td>\n",
              "      <td>4</td>\n",
              "      <td>0</td>\n",
              "      <td>488880</td>\n",
              "      <td>Graduate</td>\n",
              "      <td>1</td>\n",
              "    </tr>\n",
              "    <tr>\n",
              "      <th>29</th>\n",
              "      <td>43000</td>\n",
              "      <td>12000</td>\n",
              "      <td>4</td>\n",
              "      <td>0</td>\n",
              "      <td>619200</td>\n",
              "      <td>Graduate</td>\n",
              "      <td>1</td>\n",
              "    </tr>\n",
              "    <tr>\n",
              "      <th>30</th>\n",
              "      <td>45000</td>\n",
              "      <td>25000</td>\n",
              "      <td>6</td>\n",
              "      <td>0</td>\n",
              "      <td>523800</td>\n",
              "      <td>Graduate</td>\n",
              "      <td>3</td>\n",
              "    </tr>\n",
              "    <tr>\n",
              "      <th>31</th>\n",
              "      <td>45000</td>\n",
              "      <td>40000</td>\n",
              "      <td>6</td>\n",
              "      <td>3500</td>\n",
              "      <td>507600</td>\n",
              "      <td>Professional</td>\n",
              "      <td>2</td>\n",
              "    </tr>\n",
              "    <tr>\n",
              "      <th>32</th>\n",
              "      <td>45000</td>\n",
              "      <td>10000</td>\n",
              "      <td>2</td>\n",
              "      <td>1000</td>\n",
              "      <td>437400</td>\n",
              "      <td>Post-Graduate</td>\n",
              "      <td>1</td>\n",
              "    </tr>\n",
              "    <tr>\n",
              "      <th>33</th>\n",
              "      <td>45000</td>\n",
              "      <td>22000</td>\n",
              "      <td>4</td>\n",
              "      <td>2500</td>\n",
              "      <td>610200</td>\n",
              "      <td>Post-Graduate</td>\n",
              "      <td>1</td>\n",
              "    </tr>\n",
              "    <tr>\n",
              "      <th>34</th>\n",
              "      <td>46000</td>\n",
              "      <td>25000</td>\n",
              "      <td>5</td>\n",
              "      <td>3500</td>\n",
              "      <td>596160</td>\n",
              "      <td>Graduate</td>\n",
              "      <td>1</td>\n",
              "    </tr>\n",
              "    <tr>\n",
              "      <th>35</th>\n",
              "      <td>47000</td>\n",
              "      <td>15000</td>\n",
              "      <td>7</td>\n",
              "      <td>0</td>\n",
              "      <td>456840</td>\n",
              "      <td>Professional</td>\n",
              "      <td>4</td>\n",
              "    </tr>\n",
              "    <tr>\n",
              "      <th>36</th>\n",
              "      <td>50000</td>\n",
              "      <td>20000</td>\n",
              "      <td>4</td>\n",
              "      <td>0</td>\n",
              "      <td>570000</td>\n",
              "      <td>Professional</td>\n",
              "      <td>1</td>\n",
              "    </tr>\n",
              "    <tr>\n",
              "      <th>37</th>\n",
              "      <td>50500</td>\n",
              "      <td>20000</td>\n",
              "      <td>3</td>\n",
              "      <td>0</td>\n",
              "      <td>581760</td>\n",
              "      <td>Professional</td>\n",
              "      <td>2</td>\n",
              "    </tr>\n",
              "    <tr>\n",
              "      <th>38</th>\n",
              "      <td>55000</td>\n",
              "      <td>45000</td>\n",
              "      <td>6</td>\n",
              "      <td>12000</td>\n",
              "      <td>600600</td>\n",
              "      <td>Graduate</td>\n",
              "      <td>2</td>\n",
              "    </tr>\n",
              "    <tr>\n",
              "      <th>39</th>\n",
              "      <td>60000</td>\n",
              "      <td>10000</td>\n",
              "      <td>3</td>\n",
              "      <td>0</td>\n",
              "      <td>590400</td>\n",
              "      <td>Post-Graduate</td>\n",
              "      <td>1</td>\n",
              "    </tr>\n",
              "    <tr>\n",
              "      <th>40</th>\n",
              "      <td>60000</td>\n",
              "      <td>50000</td>\n",
              "      <td>6</td>\n",
              "      <td>10000</td>\n",
              "      <td>590400</td>\n",
              "      <td>Graduate</td>\n",
              "      <td>1</td>\n",
              "    </tr>\n",
              "    <tr>\n",
              "      <th>41</th>\n",
              "      <td>65000</td>\n",
              "      <td>20000</td>\n",
              "      <td>4</td>\n",
              "      <td>5000</td>\n",
              "      <td>647400</td>\n",
              "      <td>Illiterate</td>\n",
              "      <td>2</td>\n",
              "    </tr>\n",
              "    <tr>\n",
              "      <th>42</th>\n",
              "      <td>70000</td>\n",
              "      <td>9000</td>\n",
              "      <td>2</td>\n",
              "      <td>0</td>\n",
              "      <td>756000</td>\n",
              "      <td>Graduate</td>\n",
              "      <td>1</td>\n",
              "    </tr>\n",
              "    <tr>\n",
              "      <th>43</th>\n",
              "      <td>80000</td>\n",
              "      <td>20000</td>\n",
              "      <td>4</td>\n",
              "      <td>0</td>\n",
              "      <td>1075200</td>\n",
              "      <td>Graduate</td>\n",
              "      <td>1</td>\n",
              "    </tr>\n",
              "    <tr>\n",
              "      <th>44</th>\n",
              "      <td>85000</td>\n",
              "      <td>25000</td>\n",
              "      <td>5</td>\n",
              "      <td>0</td>\n",
              "      <td>1142400</td>\n",
              "      <td>Under-Graduate</td>\n",
              "      <td>2</td>\n",
              "    </tr>\n",
              "    <tr>\n",
              "      <th>45</th>\n",
              "      <td>90000</td>\n",
              "      <td>48000</td>\n",
              "      <td>7</td>\n",
              "      <td>0</td>\n",
              "      <td>885600</td>\n",
              "      <td>Post-Graduate</td>\n",
              "      <td>3</td>\n",
              "    </tr>\n",
              "    <tr>\n",
              "      <th>46</th>\n",
              "      <td>98000</td>\n",
              "      <td>25000</td>\n",
              "      <td>5</td>\n",
              "      <td>0</td>\n",
              "      <td>1152480</td>\n",
              "      <td>Professional</td>\n",
              "      <td>2</td>\n",
              "    </tr>\n",
              "    <tr>\n",
              "      <th>47</th>\n",
              "      <td>100000</td>\n",
              "      <td>30000</td>\n",
              "      <td>6</td>\n",
              "      <td>0</td>\n",
              "      <td>1404000</td>\n",
              "      <td>Graduate</td>\n",
              "      <td>3</td>\n",
              "    </tr>\n",
              "    <tr>\n",
              "      <th>48</th>\n",
              "      <td>100000</td>\n",
              "      <td>50000</td>\n",
              "      <td>4</td>\n",
              "      <td>20000</td>\n",
              "      <td>1032000</td>\n",
              "      <td>Professional</td>\n",
              "      <td>2</td>\n",
              "    </tr>\n",
              "    <tr>\n",
              "      <th>49</th>\n",
              "      <td>100000</td>\n",
              "      <td>40000</td>\n",
              "      <td>6</td>\n",
              "      <td>10000</td>\n",
              "      <td>1320000</td>\n",
              "      <td>Post-Graduate</td>\n",
              "      <td>1</td>\n",
              "    </tr>\n",
              "  </tbody>\n",
              "</table>\n",
              "</div>"
            ],
            "text/plain": [
              "    Thu nhập hàng tháng  Chi phí hằng tháng  ...  Học vị cao nhất  Số người kiếm tiền\n",
              "0                  5000                8000  ...   Under-Graduate                   1\n",
              "1                  6000                7000  ...       Illiterate                   1\n",
              "2                 10000                4500  ...   Under-Graduate                   1\n",
              "3                 10000                2000  ...       Illiterate                   1\n",
              "4                 12500               12000  ...         Graduate                   1\n",
              "5                 14000                8000  ...         Graduate                   1\n",
              "6                 15000               16000  ...    Post-Graduate                   1\n",
              "7                 18000               20000  ...         Graduate                   1\n",
              "8                 19000                9000  ...   Under-Graduate                   1\n",
              "9                 20000                9000  ...   Under-Graduate                   2\n",
              "10                20000               18000  ...   Under-Graduate                   2\n",
              "11                22000               25000  ...       Illiterate                   1\n",
              "12                23400                5000  ...       Illiterate                   1\n",
              "13                24000               10500  ...         Graduate                   2\n",
              "14                24000               10000  ...         Graduate                   2\n",
              "15                25000               12300  ...         Graduate                   1\n",
              "16                25000               20000  ...         Graduate                   1\n",
              "17                25000               10000  ...   Under-Graduate                   3\n",
              "18                29000                6600  ...         Graduate                   1\n",
              "19                30000               13000  ...         Graduate                   1\n",
              "20                30500               25000  ...   Under-Graduate                   1\n",
              "21                32000               15000  ...     Professional                   1\n",
              "22                34000               19000  ...     Professional                   1\n",
              "23                34000               25000  ...     Professional                   1\n",
              "24                35000               12000  ...         Graduate                   1\n",
              "25                35000               25000  ...     Professional                   2\n",
              "26                39000                8000  ...   Under-Graduate                   1\n",
              "27                40000               10000  ...   Under-Graduate                   1\n",
              "28                42000               15000  ...         Graduate                   1\n",
              "29                43000               12000  ...         Graduate                   1\n",
              "30                45000               25000  ...         Graduate                   3\n",
              "31                45000               40000  ...     Professional                   2\n",
              "32                45000               10000  ...    Post-Graduate                   1\n",
              "33                45000               22000  ...    Post-Graduate                   1\n",
              "34                46000               25000  ...         Graduate                   1\n",
              "35                47000               15000  ...     Professional                   4\n",
              "36                50000               20000  ...     Professional                   1\n",
              "37                50500               20000  ...     Professional                   2\n",
              "38                55000               45000  ...         Graduate                   2\n",
              "39                60000               10000  ...    Post-Graduate                   1\n",
              "40                60000               50000  ...         Graduate                   1\n",
              "41                65000               20000  ...       Illiterate                   2\n",
              "42                70000                9000  ...         Graduate                   1\n",
              "43                80000               20000  ...         Graduate                   1\n",
              "44                85000               25000  ...   Under-Graduate                   2\n",
              "45                90000               48000  ...    Post-Graduate                   3\n",
              "46                98000               25000  ...     Professional                   2\n",
              "47               100000               30000  ...         Graduate                   3\n",
              "48               100000               50000  ...     Professional                   2\n",
              "49               100000               40000  ...    Post-Graduate                   1\n",
              "\n",
              "[50 rows x 7 columns]"
            ]
          },
          "metadata": {
            "tags": []
          },
          "execution_count": 4
        }
      ]
    },
    {
      "cell_type": "markdown",
      "metadata": {
        "id": "qXex9rLMXO4o"
      },
      "source": [
        "Thông tin của Dataframe"
      ]
    },
    {
      "cell_type": "code",
      "metadata": {
        "colab": {
          "base_uri": "https://localhost:8080/"
        },
        "id": "A1T10pMW0-l9",
        "outputId": "6761ddda-4ff6-4e9d-b888-52e78a191892"
      },
      "source": [
        "df.info()"
      ],
      "execution_count": 5,
      "outputs": [
        {
          "output_type": "stream",
          "text": [
            "<class 'pandas.core.frame.DataFrame'>\n",
            "RangeIndex: 50 entries, 0 to 49\n",
            "Data columns (total 7 columns):\n",
            " #   Column                Non-Null Count  Dtype \n",
            "---  ------                --------------  ----- \n",
            " 0   Thu nhập hàng tháng   50 non-null     int64 \n",
            " 1   Chi phí hằng tháng    50 non-null     int64 \n",
            " 2   Số thành viên         50 non-null     int64 \n",
            " 3   Tiền thuê hằng tháng  50 non-null     int64 \n",
            " 4   Thu nhập hằng năm     50 non-null     int64 \n",
            " 5   Học vị cao nhất       50 non-null     object\n",
            " 6   Số người kiếm tiền    50 non-null     int64 \n",
            "dtypes: int64(6), object(1)\n",
            "memory usage: 2.9+ KB\n"
          ],
          "name": "stdout"
        }
      ]
    },
    {
      "cell_type": "markdown",
      "metadata": {
        "id": "IqJT7BIhXVr6"
      },
      "source": [
        "Các cột trong DF"
      ]
    },
    {
      "cell_type": "code",
      "metadata": {
        "colab": {
          "base_uri": "https://localhost:8080/"
        },
        "id": "cB3NM4G68QVS",
        "outputId": "e5381ab9-6a48-4407-edc4-9f18f09812af"
      },
      "source": [
        "print(df.columns)"
      ],
      "execution_count": 6,
      "outputs": [
        {
          "output_type": "stream",
          "text": [
            "Index(['Thu nhập hàng tháng', 'Chi phí hằng tháng', 'Số thành viên',\n",
            "       'Tiền thuê hằng tháng', 'Thu nhập hằng năm', 'Học vị cao nhất',\n",
            "       'Số người kiếm tiền'],\n",
            "      dtype='object')\n"
          ],
          "name": "stdout"
        }
      ]
    },
    {
      "cell_type": "markdown",
      "metadata": {
        "id": "JxuZ2E1CXfek"
      },
      "source": [
        "Khảo sát cột nào có chứa dữ liệu rỗng \n",
        "\n"
      ]
    },
    {
      "cell_type": "code",
      "metadata": {
        "colab": {
          "base_uri": "https://localhost:8080/"
        },
        "id": "DlPiRAsQ1Rlm",
        "outputId": "6f65bbde-791a-4a1d-d486-46202db054d4"
      },
      "source": [
        "df.isna().any()"
      ],
      "execution_count": 7,
      "outputs": [
        {
          "output_type": "execute_result",
          "data": {
            "text/plain": [
              "Thu nhập hàng tháng     False\n",
              "Chi phí hằng tháng      False\n",
              "Số thành viên           False\n",
              "Tiền thuê hằng tháng    False\n",
              "Thu nhập hằng năm       False\n",
              "Học vị cao nhất         False\n",
              "Số người kiếm tiền      False\n",
              "dtype: bool"
            ]
          },
          "metadata": {
            "tags": []
          },
          "execution_count": 7
        }
      ]
    },
    {
      "cell_type": "markdown",
      "metadata": {
        "id": "uPLgTy62YLts"
      },
      "source": [
        "Phân chia mức sống trong dữ liệu để tối ưu trong việc trực quan hóa dữ liệu\n"
      ]
    },
    {
      "cell_type": "code",
      "metadata": {
        "colab": {
          "base_uri": "https://localhost:8080/",
          "height": 1000
        },
        "id": "m6uWPWDAWd2f",
        "outputId": "c1a0e20b-437f-4cdc-aca9-a5652b19646a"
      },
      "source": [
        "df['Số tiền có được hàng tháng'] = df['Thu nhập hàng tháng'] - df['Chi phí hằng tháng'] - df['Tiền thuê hằng tháng']\n",
        "Types = []\n",
        "for x in df['Số tiền có được hàng tháng']:\n",
        "  if x < 0: Types.append(\"Không đủ chi tiêu\")\n",
        "  elif 0 < x <= 2000: Types.append(\"Mức dư ít\")\n",
        "  elif 2000 < x <= 5000:Types.append(\"Mức dư vừa\")\n",
        "  elif 5000 < x <= 10000: Types.append(\"Mức dư lớn\")\n",
        "  else : Types.append(\"Mức dư siêu lớn\")\n",
        "df.insert(8,\"Mức sống\",Types)\n",
        "df"
      ],
      "execution_count": 8,
      "outputs": [
        {
          "output_type": "execute_result",
          "data": {
            "text/html": [
              "<div>\n",
              "<style scoped>\n",
              "    .dataframe tbody tr th:only-of-type {\n",
              "        vertical-align: middle;\n",
              "    }\n",
              "\n",
              "    .dataframe tbody tr th {\n",
              "        vertical-align: top;\n",
              "    }\n",
              "\n",
              "    .dataframe thead th {\n",
              "        text-align: right;\n",
              "    }\n",
              "</style>\n",
              "<table border=\"1\" class=\"dataframe\">\n",
              "  <thead>\n",
              "    <tr style=\"text-align: right;\">\n",
              "      <th></th>\n",
              "      <th>Thu nhập hàng tháng</th>\n",
              "      <th>Chi phí hằng tháng</th>\n",
              "      <th>Số thành viên</th>\n",
              "      <th>Tiền thuê hằng tháng</th>\n",
              "      <th>Thu nhập hằng năm</th>\n",
              "      <th>Học vị cao nhất</th>\n",
              "      <th>Số người kiếm tiền</th>\n",
              "      <th>Số tiền có được hàng tháng</th>\n",
              "      <th>Mức sống</th>\n",
              "    </tr>\n",
              "  </thead>\n",
              "  <tbody>\n",
              "    <tr>\n",
              "      <th>0</th>\n",
              "      <td>5000</td>\n",
              "      <td>8000</td>\n",
              "      <td>3</td>\n",
              "      <td>2000</td>\n",
              "      <td>64200</td>\n",
              "      <td>Under-Graduate</td>\n",
              "      <td>1</td>\n",
              "      <td>-5000</td>\n",
              "      <td>Không đủ chi tiêu</td>\n",
              "    </tr>\n",
              "    <tr>\n",
              "      <th>1</th>\n",
              "      <td>6000</td>\n",
              "      <td>7000</td>\n",
              "      <td>2</td>\n",
              "      <td>3000</td>\n",
              "      <td>79920</td>\n",
              "      <td>Illiterate</td>\n",
              "      <td>1</td>\n",
              "      <td>-4000</td>\n",
              "      <td>Không đủ chi tiêu</td>\n",
              "    </tr>\n",
              "    <tr>\n",
              "      <th>2</th>\n",
              "      <td>10000</td>\n",
              "      <td>4500</td>\n",
              "      <td>2</td>\n",
              "      <td>0</td>\n",
              "      <td>112800</td>\n",
              "      <td>Under-Graduate</td>\n",
              "      <td>1</td>\n",
              "      <td>5500</td>\n",
              "      <td>Mức dư lớn</td>\n",
              "    </tr>\n",
              "    <tr>\n",
              "      <th>3</th>\n",
              "      <td>10000</td>\n",
              "      <td>2000</td>\n",
              "      <td>1</td>\n",
              "      <td>0</td>\n",
              "      <td>97200</td>\n",
              "      <td>Illiterate</td>\n",
              "      <td>1</td>\n",
              "      <td>8000</td>\n",
              "      <td>Mức dư lớn</td>\n",
              "    </tr>\n",
              "    <tr>\n",
              "      <th>4</th>\n",
              "      <td>12500</td>\n",
              "      <td>12000</td>\n",
              "      <td>2</td>\n",
              "      <td>3000</td>\n",
              "      <td>147000</td>\n",
              "      <td>Graduate</td>\n",
              "      <td>1</td>\n",
              "      <td>-2500</td>\n",
              "      <td>Không đủ chi tiêu</td>\n",
              "    </tr>\n",
              "    <tr>\n",
              "      <th>5</th>\n",
              "      <td>14000</td>\n",
              "      <td>8000</td>\n",
              "      <td>2</td>\n",
              "      <td>0</td>\n",
              "      <td>196560</td>\n",
              "      <td>Graduate</td>\n",
              "      <td>1</td>\n",
              "      <td>6000</td>\n",
              "      <td>Mức dư lớn</td>\n",
              "    </tr>\n",
              "    <tr>\n",
              "      <th>6</th>\n",
              "      <td>15000</td>\n",
              "      <td>16000</td>\n",
              "      <td>3</td>\n",
              "      <td>35000</td>\n",
              "      <td>167400</td>\n",
              "      <td>Post-Graduate</td>\n",
              "      <td>1</td>\n",
              "      <td>-36000</td>\n",
              "      <td>Không đủ chi tiêu</td>\n",
              "    </tr>\n",
              "    <tr>\n",
              "      <th>7</th>\n",
              "      <td>18000</td>\n",
              "      <td>20000</td>\n",
              "      <td>5</td>\n",
              "      <td>8000</td>\n",
              "      <td>216000</td>\n",
              "      <td>Graduate</td>\n",
              "      <td>1</td>\n",
              "      <td>-10000</td>\n",
              "      <td>Không đủ chi tiêu</td>\n",
              "    </tr>\n",
              "    <tr>\n",
              "      <th>8</th>\n",
              "      <td>19000</td>\n",
              "      <td>9000</td>\n",
              "      <td>2</td>\n",
              "      <td>0</td>\n",
              "      <td>218880</td>\n",
              "      <td>Under-Graduate</td>\n",
              "      <td>1</td>\n",
              "      <td>10000</td>\n",
              "      <td>Mức dư lớn</td>\n",
              "    </tr>\n",
              "    <tr>\n",
              "      <th>9</th>\n",
              "      <td>20000</td>\n",
              "      <td>9000</td>\n",
              "      <td>4</td>\n",
              "      <td>0</td>\n",
              "      <td>220800</td>\n",
              "      <td>Under-Graduate</td>\n",
              "      <td>2</td>\n",
              "      <td>11000</td>\n",
              "      <td>Mức dư siêu lớn</td>\n",
              "    </tr>\n",
              "    <tr>\n",
              "      <th>10</th>\n",
              "      <td>20000</td>\n",
              "      <td>18000</td>\n",
              "      <td>4</td>\n",
              "      <td>8000</td>\n",
              "      <td>278400</td>\n",
              "      <td>Under-Graduate</td>\n",
              "      <td>2</td>\n",
              "      <td>-6000</td>\n",
              "      <td>Không đủ chi tiêu</td>\n",
              "    </tr>\n",
              "    <tr>\n",
              "      <th>11</th>\n",
              "      <td>22000</td>\n",
              "      <td>25000</td>\n",
              "      <td>6</td>\n",
              "      <td>12000</td>\n",
              "      <td>279840</td>\n",
              "      <td>Illiterate</td>\n",
              "      <td>1</td>\n",
              "      <td>-15000</td>\n",
              "      <td>Không đủ chi tiêu</td>\n",
              "    </tr>\n",
              "    <tr>\n",
              "      <th>12</th>\n",
              "      <td>23400</td>\n",
              "      <td>5000</td>\n",
              "      <td>3</td>\n",
              "      <td>0</td>\n",
              "      <td>292032</td>\n",
              "      <td>Illiterate</td>\n",
              "      <td>1</td>\n",
              "      <td>18400</td>\n",
              "      <td>Mức dư siêu lớn</td>\n",
              "    </tr>\n",
              "    <tr>\n",
              "      <th>13</th>\n",
              "      <td>24000</td>\n",
              "      <td>10500</td>\n",
              "      <td>6</td>\n",
              "      <td>0</td>\n",
              "      <td>316800</td>\n",
              "      <td>Graduate</td>\n",
              "      <td>2</td>\n",
              "      <td>13500</td>\n",
              "      <td>Mức dư siêu lớn</td>\n",
              "    </tr>\n",
              "    <tr>\n",
              "      <th>14</th>\n",
              "      <td>24000</td>\n",
              "      <td>10000</td>\n",
              "      <td>4</td>\n",
              "      <td>0</td>\n",
              "      <td>244800</td>\n",
              "      <td>Graduate</td>\n",
              "      <td>2</td>\n",
              "      <td>14000</td>\n",
              "      <td>Mức dư siêu lớn</td>\n",
              "    </tr>\n",
              "    <tr>\n",
              "      <th>15</th>\n",
              "      <td>25000</td>\n",
              "      <td>12300</td>\n",
              "      <td>3</td>\n",
              "      <td>0</td>\n",
              "      <td>246000</td>\n",
              "      <td>Graduate</td>\n",
              "      <td>1</td>\n",
              "      <td>12700</td>\n",
              "      <td>Mức dư siêu lớn</td>\n",
              "    </tr>\n",
              "    <tr>\n",
              "      <th>16</th>\n",
              "      <td>25000</td>\n",
              "      <td>20000</td>\n",
              "      <td>3</td>\n",
              "      <td>3500</td>\n",
              "      <td>261000</td>\n",
              "      <td>Graduate</td>\n",
              "      <td>1</td>\n",
              "      <td>1500</td>\n",
              "      <td>Mức dư ít</td>\n",
              "    </tr>\n",
              "    <tr>\n",
              "      <th>17</th>\n",
              "      <td>25000</td>\n",
              "      <td>10000</td>\n",
              "      <td>6</td>\n",
              "      <td>0</td>\n",
              "      <td>258000</td>\n",
              "      <td>Under-Graduate</td>\n",
              "      <td>3</td>\n",
              "      <td>15000</td>\n",
              "      <td>Mức dư siêu lớn</td>\n",
              "    </tr>\n",
              "    <tr>\n",
              "      <th>18</th>\n",
              "      <td>29000</td>\n",
              "      <td>6600</td>\n",
              "      <td>2</td>\n",
              "      <td>2000</td>\n",
              "      <td>348000</td>\n",
              "      <td>Graduate</td>\n",
              "      <td>1</td>\n",
              "      <td>20400</td>\n",
              "      <td>Mức dư siêu lớn</td>\n",
              "    </tr>\n",
              "    <tr>\n",
              "      <th>19</th>\n",
              "      <td>30000</td>\n",
              "      <td>13000</td>\n",
              "      <td>4</td>\n",
              "      <td>0</td>\n",
              "      <td>385200</td>\n",
              "      <td>Graduate</td>\n",
              "      <td>1</td>\n",
              "      <td>17000</td>\n",
              "      <td>Mức dư siêu lớn</td>\n",
              "    </tr>\n",
              "    <tr>\n",
              "      <th>20</th>\n",
              "      <td>30500</td>\n",
              "      <td>25000</td>\n",
              "      <td>5</td>\n",
              "      <td>5000</td>\n",
              "      <td>351360</td>\n",
              "      <td>Under-Graduate</td>\n",
              "      <td>1</td>\n",
              "      <td>500</td>\n",
              "      <td>Mức dư ít</td>\n",
              "    </tr>\n",
              "    <tr>\n",
              "      <th>21</th>\n",
              "      <td>32000</td>\n",
              "      <td>15000</td>\n",
              "      <td>4</td>\n",
              "      <td>0</td>\n",
              "      <td>445440</td>\n",
              "      <td>Professional</td>\n",
              "      <td>1</td>\n",
              "      <td>17000</td>\n",
              "      <td>Mức dư siêu lớn</td>\n",
              "    </tr>\n",
              "    <tr>\n",
              "      <th>22</th>\n",
              "      <td>34000</td>\n",
              "      <td>19000</td>\n",
              "      <td>6</td>\n",
              "      <td>0</td>\n",
              "      <td>330480</td>\n",
              "      <td>Professional</td>\n",
              "      <td>1</td>\n",
              "      <td>15000</td>\n",
              "      <td>Mức dư siêu lớn</td>\n",
              "    </tr>\n",
              "    <tr>\n",
              "      <th>23</th>\n",
              "      <td>34000</td>\n",
              "      <td>25000</td>\n",
              "      <td>3</td>\n",
              "      <td>4000</td>\n",
              "      <td>469200</td>\n",
              "      <td>Professional</td>\n",
              "      <td>1</td>\n",
              "      <td>5000</td>\n",
              "      <td>Mức dư vừa</td>\n",
              "    </tr>\n",
              "    <tr>\n",
              "      <th>24</th>\n",
              "      <td>35000</td>\n",
              "      <td>12000</td>\n",
              "      <td>3</td>\n",
              "      <td>0</td>\n",
              "      <td>466200</td>\n",
              "      <td>Graduate</td>\n",
              "      <td>1</td>\n",
              "      <td>23000</td>\n",
              "      <td>Mức dư siêu lớn</td>\n",
              "    </tr>\n",
              "    <tr>\n",
              "      <th>25</th>\n",
              "      <td>35000</td>\n",
              "      <td>25000</td>\n",
              "      <td>4</td>\n",
              "      <td>0</td>\n",
              "      <td>449400</td>\n",
              "      <td>Professional</td>\n",
              "      <td>2</td>\n",
              "      <td>10000</td>\n",
              "      <td>Mức dư lớn</td>\n",
              "    </tr>\n",
              "    <tr>\n",
              "      <th>26</th>\n",
              "      <td>39000</td>\n",
              "      <td>8000</td>\n",
              "      <td>4</td>\n",
              "      <td>0</td>\n",
              "      <td>556920</td>\n",
              "      <td>Under-Graduate</td>\n",
              "      <td>1</td>\n",
              "      <td>31000</td>\n",
              "      <td>Mức dư siêu lớn</td>\n",
              "    </tr>\n",
              "    <tr>\n",
              "      <th>27</th>\n",
              "      <td>40000</td>\n",
              "      <td>10000</td>\n",
              "      <td>4</td>\n",
              "      <td>0</td>\n",
              "      <td>412800</td>\n",
              "      <td>Under-Graduate</td>\n",
              "      <td>1</td>\n",
              "      <td>30000</td>\n",
              "      <td>Mức dư siêu lớn</td>\n",
              "    </tr>\n",
              "    <tr>\n",
              "      <th>28</th>\n",
              "      <td>42000</td>\n",
              "      <td>15000</td>\n",
              "      <td>4</td>\n",
              "      <td>0</td>\n",
              "      <td>488880</td>\n",
              "      <td>Graduate</td>\n",
              "      <td>1</td>\n",
              "      <td>27000</td>\n",
              "      <td>Mức dư siêu lớn</td>\n",
              "    </tr>\n",
              "    <tr>\n",
              "      <th>29</th>\n",
              "      <td>43000</td>\n",
              "      <td>12000</td>\n",
              "      <td>4</td>\n",
              "      <td>0</td>\n",
              "      <td>619200</td>\n",
              "      <td>Graduate</td>\n",
              "      <td>1</td>\n",
              "      <td>31000</td>\n",
              "      <td>Mức dư siêu lớn</td>\n",
              "    </tr>\n",
              "    <tr>\n",
              "      <th>30</th>\n",
              "      <td>45000</td>\n",
              "      <td>25000</td>\n",
              "      <td>6</td>\n",
              "      <td>0</td>\n",
              "      <td>523800</td>\n",
              "      <td>Graduate</td>\n",
              "      <td>3</td>\n",
              "      <td>20000</td>\n",
              "      <td>Mức dư siêu lớn</td>\n",
              "    </tr>\n",
              "    <tr>\n",
              "      <th>31</th>\n",
              "      <td>45000</td>\n",
              "      <td>40000</td>\n",
              "      <td>6</td>\n",
              "      <td>3500</td>\n",
              "      <td>507600</td>\n",
              "      <td>Professional</td>\n",
              "      <td>2</td>\n",
              "      <td>1500</td>\n",
              "      <td>Mức dư ít</td>\n",
              "    </tr>\n",
              "    <tr>\n",
              "      <th>32</th>\n",
              "      <td>45000</td>\n",
              "      <td>10000</td>\n",
              "      <td>2</td>\n",
              "      <td>1000</td>\n",
              "      <td>437400</td>\n",
              "      <td>Post-Graduate</td>\n",
              "      <td>1</td>\n",
              "      <td>34000</td>\n",
              "      <td>Mức dư siêu lớn</td>\n",
              "    </tr>\n",
              "    <tr>\n",
              "      <th>33</th>\n",
              "      <td>45000</td>\n",
              "      <td>22000</td>\n",
              "      <td>4</td>\n",
              "      <td>2500</td>\n",
              "      <td>610200</td>\n",
              "      <td>Post-Graduate</td>\n",
              "      <td>1</td>\n",
              "      <td>20500</td>\n",
              "      <td>Mức dư siêu lớn</td>\n",
              "    </tr>\n",
              "    <tr>\n",
              "      <th>34</th>\n",
              "      <td>46000</td>\n",
              "      <td>25000</td>\n",
              "      <td>5</td>\n",
              "      <td>3500</td>\n",
              "      <td>596160</td>\n",
              "      <td>Graduate</td>\n",
              "      <td>1</td>\n",
              "      <td>17500</td>\n",
              "      <td>Mức dư siêu lớn</td>\n",
              "    </tr>\n",
              "    <tr>\n",
              "      <th>35</th>\n",
              "      <td>47000</td>\n",
              "      <td>15000</td>\n",
              "      <td>7</td>\n",
              "      <td>0</td>\n",
              "      <td>456840</td>\n",
              "      <td>Professional</td>\n",
              "      <td>4</td>\n",
              "      <td>32000</td>\n",
              "      <td>Mức dư siêu lớn</td>\n",
              "    </tr>\n",
              "    <tr>\n",
              "      <th>36</th>\n",
              "      <td>50000</td>\n",
              "      <td>20000</td>\n",
              "      <td>4</td>\n",
              "      <td>0</td>\n",
              "      <td>570000</td>\n",
              "      <td>Professional</td>\n",
              "      <td>1</td>\n",
              "      <td>30000</td>\n",
              "      <td>Mức dư siêu lớn</td>\n",
              "    </tr>\n",
              "    <tr>\n",
              "      <th>37</th>\n",
              "      <td>50500</td>\n",
              "      <td>20000</td>\n",
              "      <td>3</td>\n",
              "      <td>0</td>\n",
              "      <td>581760</td>\n",
              "      <td>Professional</td>\n",
              "      <td>2</td>\n",
              "      <td>30500</td>\n",
              "      <td>Mức dư siêu lớn</td>\n",
              "    </tr>\n",
              "    <tr>\n",
              "      <th>38</th>\n",
              "      <td>55000</td>\n",
              "      <td>45000</td>\n",
              "      <td>6</td>\n",
              "      <td>12000</td>\n",
              "      <td>600600</td>\n",
              "      <td>Graduate</td>\n",
              "      <td>2</td>\n",
              "      <td>-2000</td>\n",
              "      <td>Không đủ chi tiêu</td>\n",
              "    </tr>\n",
              "    <tr>\n",
              "      <th>39</th>\n",
              "      <td>60000</td>\n",
              "      <td>10000</td>\n",
              "      <td>3</td>\n",
              "      <td>0</td>\n",
              "      <td>590400</td>\n",
              "      <td>Post-Graduate</td>\n",
              "      <td>1</td>\n",
              "      <td>50000</td>\n",
              "      <td>Mức dư siêu lớn</td>\n",
              "    </tr>\n",
              "    <tr>\n",
              "      <th>40</th>\n",
              "      <td>60000</td>\n",
              "      <td>50000</td>\n",
              "      <td>6</td>\n",
              "      <td>10000</td>\n",
              "      <td>590400</td>\n",
              "      <td>Graduate</td>\n",
              "      <td>1</td>\n",
              "      <td>0</td>\n",
              "      <td>Mức dư siêu lớn</td>\n",
              "    </tr>\n",
              "    <tr>\n",
              "      <th>41</th>\n",
              "      <td>65000</td>\n",
              "      <td>20000</td>\n",
              "      <td>4</td>\n",
              "      <td>5000</td>\n",
              "      <td>647400</td>\n",
              "      <td>Illiterate</td>\n",
              "      <td>2</td>\n",
              "      <td>40000</td>\n",
              "      <td>Mức dư siêu lớn</td>\n",
              "    </tr>\n",
              "    <tr>\n",
              "      <th>42</th>\n",
              "      <td>70000</td>\n",
              "      <td>9000</td>\n",
              "      <td>2</td>\n",
              "      <td>0</td>\n",
              "      <td>756000</td>\n",
              "      <td>Graduate</td>\n",
              "      <td>1</td>\n",
              "      <td>61000</td>\n",
              "      <td>Mức dư siêu lớn</td>\n",
              "    </tr>\n",
              "    <tr>\n",
              "      <th>43</th>\n",
              "      <td>80000</td>\n",
              "      <td>20000</td>\n",
              "      <td>4</td>\n",
              "      <td>0</td>\n",
              "      <td>1075200</td>\n",
              "      <td>Graduate</td>\n",
              "      <td>1</td>\n",
              "      <td>60000</td>\n",
              "      <td>Mức dư siêu lớn</td>\n",
              "    </tr>\n",
              "    <tr>\n",
              "      <th>44</th>\n",
              "      <td>85000</td>\n",
              "      <td>25000</td>\n",
              "      <td>5</td>\n",
              "      <td>0</td>\n",
              "      <td>1142400</td>\n",
              "      <td>Under-Graduate</td>\n",
              "      <td>2</td>\n",
              "      <td>60000</td>\n",
              "      <td>Mức dư siêu lớn</td>\n",
              "    </tr>\n",
              "    <tr>\n",
              "      <th>45</th>\n",
              "      <td>90000</td>\n",
              "      <td>48000</td>\n",
              "      <td>7</td>\n",
              "      <td>0</td>\n",
              "      <td>885600</td>\n",
              "      <td>Post-Graduate</td>\n",
              "      <td>3</td>\n",
              "      <td>42000</td>\n",
              "      <td>Mức dư siêu lớn</td>\n",
              "    </tr>\n",
              "    <tr>\n",
              "      <th>46</th>\n",
              "      <td>98000</td>\n",
              "      <td>25000</td>\n",
              "      <td>5</td>\n",
              "      <td>0</td>\n",
              "      <td>1152480</td>\n",
              "      <td>Professional</td>\n",
              "      <td>2</td>\n",
              "      <td>73000</td>\n",
              "      <td>Mức dư siêu lớn</td>\n",
              "    </tr>\n",
              "    <tr>\n",
              "      <th>47</th>\n",
              "      <td>100000</td>\n",
              "      <td>30000</td>\n",
              "      <td>6</td>\n",
              "      <td>0</td>\n",
              "      <td>1404000</td>\n",
              "      <td>Graduate</td>\n",
              "      <td>3</td>\n",
              "      <td>70000</td>\n",
              "      <td>Mức dư siêu lớn</td>\n",
              "    </tr>\n",
              "    <tr>\n",
              "      <th>48</th>\n",
              "      <td>100000</td>\n",
              "      <td>50000</td>\n",
              "      <td>4</td>\n",
              "      <td>20000</td>\n",
              "      <td>1032000</td>\n",
              "      <td>Professional</td>\n",
              "      <td>2</td>\n",
              "      <td>30000</td>\n",
              "      <td>Mức dư siêu lớn</td>\n",
              "    </tr>\n",
              "    <tr>\n",
              "      <th>49</th>\n",
              "      <td>100000</td>\n",
              "      <td>40000</td>\n",
              "      <td>6</td>\n",
              "      <td>10000</td>\n",
              "      <td>1320000</td>\n",
              "      <td>Post-Graduate</td>\n",
              "      <td>1</td>\n",
              "      <td>50000</td>\n",
              "      <td>Mức dư siêu lớn</td>\n",
              "    </tr>\n",
              "  </tbody>\n",
              "</table>\n",
              "</div>"
            ],
            "text/plain": [
              "    Thu nhập hàng tháng  ...           Mức sống\n",
              "0                  5000  ...  Không đủ chi tiêu\n",
              "1                  6000  ...  Không đủ chi tiêu\n",
              "2                 10000  ...         Mức dư lớn\n",
              "3                 10000  ...         Mức dư lớn\n",
              "4                 12500  ...  Không đủ chi tiêu\n",
              "5                 14000  ...         Mức dư lớn\n",
              "6                 15000  ...  Không đủ chi tiêu\n",
              "7                 18000  ...  Không đủ chi tiêu\n",
              "8                 19000  ...         Mức dư lớn\n",
              "9                 20000  ...    Mức dư siêu lớn\n",
              "10                20000  ...  Không đủ chi tiêu\n",
              "11                22000  ...  Không đủ chi tiêu\n",
              "12                23400  ...    Mức dư siêu lớn\n",
              "13                24000  ...    Mức dư siêu lớn\n",
              "14                24000  ...    Mức dư siêu lớn\n",
              "15                25000  ...    Mức dư siêu lớn\n",
              "16                25000  ...          Mức dư ít\n",
              "17                25000  ...    Mức dư siêu lớn\n",
              "18                29000  ...    Mức dư siêu lớn\n",
              "19                30000  ...    Mức dư siêu lớn\n",
              "20                30500  ...          Mức dư ít\n",
              "21                32000  ...    Mức dư siêu lớn\n",
              "22                34000  ...    Mức dư siêu lớn\n",
              "23                34000  ...         Mức dư vừa\n",
              "24                35000  ...    Mức dư siêu lớn\n",
              "25                35000  ...         Mức dư lớn\n",
              "26                39000  ...    Mức dư siêu lớn\n",
              "27                40000  ...    Mức dư siêu lớn\n",
              "28                42000  ...    Mức dư siêu lớn\n",
              "29                43000  ...    Mức dư siêu lớn\n",
              "30                45000  ...    Mức dư siêu lớn\n",
              "31                45000  ...          Mức dư ít\n",
              "32                45000  ...    Mức dư siêu lớn\n",
              "33                45000  ...    Mức dư siêu lớn\n",
              "34                46000  ...    Mức dư siêu lớn\n",
              "35                47000  ...    Mức dư siêu lớn\n",
              "36                50000  ...    Mức dư siêu lớn\n",
              "37                50500  ...    Mức dư siêu lớn\n",
              "38                55000  ...  Không đủ chi tiêu\n",
              "39                60000  ...    Mức dư siêu lớn\n",
              "40                60000  ...    Mức dư siêu lớn\n",
              "41                65000  ...    Mức dư siêu lớn\n",
              "42                70000  ...    Mức dư siêu lớn\n",
              "43                80000  ...    Mức dư siêu lớn\n",
              "44                85000  ...    Mức dư siêu lớn\n",
              "45                90000  ...    Mức dư siêu lớn\n",
              "46                98000  ...    Mức dư siêu lớn\n",
              "47               100000  ...    Mức dư siêu lớn\n",
              "48               100000  ...    Mức dư siêu lớn\n",
              "49               100000  ...    Mức dư siêu lớn\n",
              "\n",
              "[50 rows x 9 columns]"
            ]
          },
          "metadata": {
            "tags": []
          },
          "execution_count": 8
        }
      ]
    },
    {
      "cell_type": "markdown",
      "metadata": {
        "id": "YJrLDW5pZftE"
      },
      "source": [
        "2: Biện pháp phân tích xu hướng tập trung của trung tâm dữ liệu\n"
      ]
    },
    {
      "cell_type": "markdown",
      "metadata": {
        "id": "xlgarfVmZgEK"
      },
      "source": [
        "Giá trị trung bình của tập dữ liệu (Mean): "
      ]
    },
    {
      "cell_type": "code",
      "metadata": {
        "colab": {
          "base_uri": "https://localhost:8080/",
          "height": 265
        },
        "id": "UGtYm5lREZi-",
        "outputId": "2e824fa4-6dca-4a29-a82e-0fca8e2de60a"
      },
      "source": [
        "pd.DataFrame(df.mean().T)"
      ],
      "execution_count": 9,
      "outputs": [
        {
          "output_type": "execute_result",
          "data": {
            "text/html": [
              "<div>\n",
              "<style scoped>\n",
              "    .dataframe tbody tr th:only-of-type {\n",
              "        vertical-align: middle;\n",
              "    }\n",
              "\n",
              "    .dataframe tbody tr th {\n",
              "        vertical-align: top;\n",
              "    }\n",
              "\n",
              "    .dataframe thead th {\n",
              "        text-align: right;\n",
              "    }\n",
              "</style>\n",
              "<table border=\"1\" class=\"dataframe\">\n",
              "  <thead>\n",
              "    <tr style=\"text-align: right;\">\n",
              "      <th></th>\n",
              "      <th>0</th>\n",
              "    </tr>\n",
              "  </thead>\n",
              "  <tbody>\n",
              "    <tr>\n",
              "      <th>Thu nhập hàng tháng</th>\n",
              "      <td>41558.00</td>\n",
              "    </tr>\n",
              "    <tr>\n",
              "      <th>Chi phí hằng tháng</th>\n",
              "      <td>18818.00</td>\n",
              "    </tr>\n",
              "    <tr>\n",
              "      <th>Số thành viên</th>\n",
              "      <td>4.06</td>\n",
              "    </tr>\n",
              "    <tr>\n",
              "      <th>Tiền thuê hằng tháng</th>\n",
              "      <td>3060.00</td>\n",
              "    </tr>\n",
              "    <tr>\n",
              "      <th>Thu nhập hằng năm</th>\n",
              "      <td>490019.04</td>\n",
              "    </tr>\n",
              "    <tr>\n",
              "      <th>Số người kiếm tiền</th>\n",
              "      <td>1.46</td>\n",
              "    </tr>\n",
              "    <tr>\n",
              "      <th>Số tiền có được hàng tháng</th>\n",
              "      <td>19680.00</td>\n",
              "    </tr>\n",
              "  </tbody>\n",
              "</table>\n",
              "</div>"
            ],
            "text/plain": [
              "                                    0\n",
              "Thu nhập hàng tháng          41558.00\n",
              "Chi phí hằng tháng           18818.00\n",
              "Số thành viên                    4.06\n",
              "Tiền thuê hằng tháng          3060.00\n",
              "Thu nhập hằng năm           490019.04\n",
              "Số người kiếm tiền               1.46\n",
              "Số tiền có được hàng tháng   19680.00"
            ]
          },
          "metadata": {
            "tags": []
          },
          "execution_count": 9
        }
      ]
    },
    {
      "cell_type": "markdown",
      "metadata": {
        "id": "cejJbNXRivRp"
      },
      "source": [
        "Harmonic mean của dữ liệu cột trong Data\n",
        "\n"
      ]
    },
    {
      "cell_type": "markdown",
      "metadata": {
        "id": "BTVGcIGQj4gW"
      },
      "source": [
        "Xóa dữ liệu học vị và mức sống để tối ưu tính toán \n"
      ]
    },
    {
      "cell_type": "code",
      "metadata": {
        "colab": {
          "base_uri": "https://localhost:8080/",
          "height": 1000
        },
        "id": "hytXxxZXtmc_",
        "outputId": "cab3ff88-1d7e-41ce-a768-5968662df7be"
      },
      "source": [
        "df1 = df.drop(df.columns[[5,8]], axis=1)\n",
        "df1"
      ],
      "execution_count": 10,
      "outputs": [
        {
          "output_type": "execute_result",
          "data": {
            "text/html": [
              "<div>\n",
              "<style scoped>\n",
              "    .dataframe tbody tr th:only-of-type {\n",
              "        vertical-align: middle;\n",
              "    }\n",
              "\n",
              "    .dataframe tbody tr th {\n",
              "        vertical-align: top;\n",
              "    }\n",
              "\n",
              "    .dataframe thead th {\n",
              "        text-align: right;\n",
              "    }\n",
              "</style>\n",
              "<table border=\"1\" class=\"dataframe\">\n",
              "  <thead>\n",
              "    <tr style=\"text-align: right;\">\n",
              "      <th></th>\n",
              "      <th>Thu nhập hàng tháng</th>\n",
              "      <th>Chi phí hằng tháng</th>\n",
              "      <th>Số thành viên</th>\n",
              "      <th>Tiền thuê hằng tháng</th>\n",
              "      <th>Thu nhập hằng năm</th>\n",
              "      <th>Số người kiếm tiền</th>\n",
              "      <th>Số tiền có được hàng tháng</th>\n",
              "    </tr>\n",
              "  </thead>\n",
              "  <tbody>\n",
              "    <tr>\n",
              "      <th>0</th>\n",
              "      <td>5000</td>\n",
              "      <td>8000</td>\n",
              "      <td>3</td>\n",
              "      <td>2000</td>\n",
              "      <td>64200</td>\n",
              "      <td>1</td>\n",
              "      <td>-5000</td>\n",
              "    </tr>\n",
              "    <tr>\n",
              "      <th>1</th>\n",
              "      <td>6000</td>\n",
              "      <td>7000</td>\n",
              "      <td>2</td>\n",
              "      <td>3000</td>\n",
              "      <td>79920</td>\n",
              "      <td>1</td>\n",
              "      <td>-4000</td>\n",
              "    </tr>\n",
              "    <tr>\n",
              "      <th>2</th>\n",
              "      <td>10000</td>\n",
              "      <td>4500</td>\n",
              "      <td>2</td>\n",
              "      <td>0</td>\n",
              "      <td>112800</td>\n",
              "      <td>1</td>\n",
              "      <td>5500</td>\n",
              "    </tr>\n",
              "    <tr>\n",
              "      <th>3</th>\n",
              "      <td>10000</td>\n",
              "      <td>2000</td>\n",
              "      <td>1</td>\n",
              "      <td>0</td>\n",
              "      <td>97200</td>\n",
              "      <td>1</td>\n",
              "      <td>8000</td>\n",
              "    </tr>\n",
              "    <tr>\n",
              "      <th>4</th>\n",
              "      <td>12500</td>\n",
              "      <td>12000</td>\n",
              "      <td>2</td>\n",
              "      <td>3000</td>\n",
              "      <td>147000</td>\n",
              "      <td>1</td>\n",
              "      <td>-2500</td>\n",
              "    </tr>\n",
              "    <tr>\n",
              "      <th>5</th>\n",
              "      <td>14000</td>\n",
              "      <td>8000</td>\n",
              "      <td>2</td>\n",
              "      <td>0</td>\n",
              "      <td>196560</td>\n",
              "      <td>1</td>\n",
              "      <td>6000</td>\n",
              "    </tr>\n",
              "    <tr>\n",
              "      <th>6</th>\n",
              "      <td>15000</td>\n",
              "      <td>16000</td>\n",
              "      <td>3</td>\n",
              "      <td>35000</td>\n",
              "      <td>167400</td>\n",
              "      <td>1</td>\n",
              "      <td>-36000</td>\n",
              "    </tr>\n",
              "    <tr>\n",
              "      <th>7</th>\n",
              "      <td>18000</td>\n",
              "      <td>20000</td>\n",
              "      <td>5</td>\n",
              "      <td>8000</td>\n",
              "      <td>216000</td>\n",
              "      <td>1</td>\n",
              "      <td>-10000</td>\n",
              "    </tr>\n",
              "    <tr>\n",
              "      <th>8</th>\n",
              "      <td>19000</td>\n",
              "      <td>9000</td>\n",
              "      <td>2</td>\n",
              "      <td>0</td>\n",
              "      <td>218880</td>\n",
              "      <td>1</td>\n",
              "      <td>10000</td>\n",
              "    </tr>\n",
              "    <tr>\n",
              "      <th>9</th>\n",
              "      <td>20000</td>\n",
              "      <td>9000</td>\n",
              "      <td>4</td>\n",
              "      <td>0</td>\n",
              "      <td>220800</td>\n",
              "      <td>2</td>\n",
              "      <td>11000</td>\n",
              "    </tr>\n",
              "    <tr>\n",
              "      <th>10</th>\n",
              "      <td>20000</td>\n",
              "      <td>18000</td>\n",
              "      <td>4</td>\n",
              "      <td>8000</td>\n",
              "      <td>278400</td>\n",
              "      <td>2</td>\n",
              "      <td>-6000</td>\n",
              "    </tr>\n",
              "    <tr>\n",
              "      <th>11</th>\n",
              "      <td>22000</td>\n",
              "      <td>25000</td>\n",
              "      <td>6</td>\n",
              "      <td>12000</td>\n",
              "      <td>279840</td>\n",
              "      <td>1</td>\n",
              "      <td>-15000</td>\n",
              "    </tr>\n",
              "    <tr>\n",
              "      <th>12</th>\n",
              "      <td>23400</td>\n",
              "      <td>5000</td>\n",
              "      <td>3</td>\n",
              "      <td>0</td>\n",
              "      <td>292032</td>\n",
              "      <td>1</td>\n",
              "      <td>18400</td>\n",
              "    </tr>\n",
              "    <tr>\n",
              "      <th>13</th>\n",
              "      <td>24000</td>\n",
              "      <td>10500</td>\n",
              "      <td>6</td>\n",
              "      <td>0</td>\n",
              "      <td>316800</td>\n",
              "      <td>2</td>\n",
              "      <td>13500</td>\n",
              "    </tr>\n",
              "    <tr>\n",
              "      <th>14</th>\n",
              "      <td>24000</td>\n",
              "      <td>10000</td>\n",
              "      <td>4</td>\n",
              "      <td>0</td>\n",
              "      <td>244800</td>\n",
              "      <td>2</td>\n",
              "      <td>14000</td>\n",
              "    </tr>\n",
              "    <tr>\n",
              "      <th>15</th>\n",
              "      <td>25000</td>\n",
              "      <td>12300</td>\n",
              "      <td>3</td>\n",
              "      <td>0</td>\n",
              "      <td>246000</td>\n",
              "      <td>1</td>\n",
              "      <td>12700</td>\n",
              "    </tr>\n",
              "    <tr>\n",
              "      <th>16</th>\n",
              "      <td>25000</td>\n",
              "      <td>20000</td>\n",
              "      <td>3</td>\n",
              "      <td>3500</td>\n",
              "      <td>261000</td>\n",
              "      <td>1</td>\n",
              "      <td>1500</td>\n",
              "    </tr>\n",
              "    <tr>\n",
              "      <th>17</th>\n",
              "      <td>25000</td>\n",
              "      <td>10000</td>\n",
              "      <td>6</td>\n",
              "      <td>0</td>\n",
              "      <td>258000</td>\n",
              "      <td>3</td>\n",
              "      <td>15000</td>\n",
              "    </tr>\n",
              "    <tr>\n",
              "      <th>18</th>\n",
              "      <td>29000</td>\n",
              "      <td>6600</td>\n",
              "      <td>2</td>\n",
              "      <td>2000</td>\n",
              "      <td>348000</td>\n",
              "      <td>1</td>\n",
              "      <td>20400</td>\n",
              "    </tr>\n",
              "    <tr>\n",
              "      <th>19</th>\n",
              "      <td>30000</td>\n",
              "      <td>13000</td>\n",
              "      <td>4</td>\n",
              "      <td>0</td>\n",
              "      <td>385200</td>\n",
              "      <td>1</td>\n",
              "      <td>17000</td>\n",
              "    </tr>\n",
              "    <tr>\n",
              "      <th>20</th>\n",
              "      <td>30500</td>\n",
              "      <td>25000</td>\n",
              "      <td>5</td>\n",
              "      <td>5000</td>\n",
              "      <td>351360</td>\n",
              "      <td>1</td>\n",
              "      <td>500</td>\n",
              "    </tr>\n",
              "    <tr>\n",
              "      <th>21</th>\n",
              "      <td>32000</td>\n",
              "      <td>15000</td>\n",
              "      <td>4</td>\n",
              "      <td>0</td>\n",
              "      <td>445440</td>\n",
              "      <td>1</td>\n",
              "      <td>17000</td>\n",
              "    </tr>\n",
              "    <tr>\n",
              "      <th>22</th>\n",
              "      <td>34000</td>\n",
              "      <td>19000</td>\n",
              "      <td>6</td>\n",
              "      <td>0</td>\n",
              "      <td>330480</td>\n",
              "      <td>1</td>\n",
              "      <td>15000</td>\n",
              "    </tr>\n",
              "    <tr>\n",
              "      <th>23</th>\n",
              "      <td>34000</td>\n",
              "      <td>25000</td>\n",
              "      <td>3</td>\n",
              "      <td>4000</td>\n",
              "      <td>469200</td>\n",
              "      <td>1</td>\n",
              "      <td>5000</td>\n",
              "    </tr>\n",
              "    <tr>\n",
              "      <th>24</th>\n",
              "      <td>35000</td>\n",
              "      <td>12000</td>\n",
              "      <td>3</td>\n",
              "      <td>0</td>\n",
              "      <td>466200</td>\n",
              "      <td>1</td>\n",
              "      <td>23000</td>\n",
              "    </tr>\n",
              "    <tr>\n",
              "      <th>25</th>\n",
              "      <td>35000</td>\n",
              "      <td>25000</td>\n",
              "      <td>4</td>\n",
              "      <td>0</td>\n",
              "      <td>449400</td>\n",
              "      <td>2</td>\n",
              "      <td>10000</td>\n",
              "    </tr>\n",
              "    <tr>\n",
              "      <th>26</th>\n",
              "      <td>39000</td>\n",
              "      <td>8000</td>\n",
              "      <td>4</td>\n",
              "      <td>0</td>\n",
              "      <td>556920</td>\n",
              "      <td>1</td>\n",
              "      <td>31000</td>\n",
              "    </tr>\n",
              "    <tr>\n",
              "      <th>27</th>\n",
              "      <td>40000</td>\n",
              "      <td>10000</td>\n",
              "      <td>4</td>\n",
              "      <td>0</td>\n",
              "      <td>412800</td>\n",
              "      <td>1</td>\n",
              "      <td>30000</td>\n",
              "    </tr>\n",
              "    <tr>\n",
              "      <th>28</th>\n",
              "      <td>42000</td>\n",
              "      <td>15000</td>\n",
              "      <td>4</td>\n",
              "      <td>0</td>\n",
              "      <td>488880</td>\n",
              "      <td>1</td>\n",
              "      <td>27000</td>\n",
              "    </tr>\n",
              "    <tr>\n",
              "      <th>29</th>\n",
              "      <td>43000</td>\n",
              "      <td>12000</td>\n",
              "      <td>4</td>\n",
              "      <td>0</td>\n",
              "      <td>619200</td>\n",
              "      <td>1</td>\n",
              "      <td>31000</td>\n",
              "    </tr>\n",
              "    <tr>\n",
              "      <th>30</th>\n",
              "      <td>45000</td>\n",
              "      <td>25000</td>\n",
              "      <td>6</td>\n",
              "      <td>0</td>\n",
              "      <td>523800</td>\n",
              "      <td>3</td>\n",
              "      <td>20000</td>\n",
              "    </tr>\n",
              "    <tr>\n",
              "      <th>31</th>\n",
              "      <td>45000</td>\n",
              "      <td>40000</td>\n",
              "      <td>6</td>\n",
              "      <td>3500</td>\n",
              "      <td>507600</td>\n",
              "      <td>2</td>\n",
              "      <td>1500</td>\n",
              "    </tr>\n",
              "    <tr>\n",
              "      <th>32</th>\n",
              "      <td>45000</td>\n",
              "      <td>10000</td>\n",
              "      <td>2</td>\n",
              "      <td>1000</td>\n",
              "      <td>437400</td>\n",
              "      <td>1</td>\n",
              "      <td>34000</td>\n",
              "    </tr>\n",
              "    <tr>\n",
              "      <th>33</th>\n",
              "      <td>45000</td>\n",
              "      <td>22000</td>\n",
              "      <td>4</td>\n",
              "      <td>2500</td>\n",
              "      <td>610200</td>\n",
              "      <td>1</td>\n",
              "      <td>20500</td>\n",
              "    </tr>\n",
              "    <tr>\n",
              "      <th>34</th>\n",
              "      <td>46000</td>\n",
              "      <td>25000</td>\n",
              "      <td>5</td>\n",
              "      <td>3500</td>\n",
              "      <td>596160</td>\n",
              "      <td>1</td>\n",
              "      <td>17500</td>\n",
              "    </tr>\n",
              "    <tr>\n",
              "      <th>35</th>\n",
              "      <td>47000</td>\n",
              "      <td>15000</td>\n",
              "      <td>7</td>\n",
              "      <td>0</td>\n",
              "      <td>456840</td>\n",
              "      <td>4</td>\n",
              "      <td>32000</td>\n",
              "    </tr>\n",
              "    <tr>\n",
              "      <th>36</th>\n",
              "      <td>50000</td>\n",
              "      <td>20000</td>\n",
              "      <td>4</td>\n",
              "      <td>0</td>\n",
              "      <td>570000</td>\n",
              "      <td>1</td>\n",
              "      <td>30000</td>\n",
              "    </tr>\n",
              "    <tr>\n",
              "      <th>37</th>\n",
              "      <td>50500</td>\n",
              "      <td>20000</td>\n",
              "      <td>3</td>\n",
              "      <td>0</td>\n",
              "      <td>581760</td>\n",
              "      <td>2</td>\n",
              "      <td>30500</td>\n",
              "    </tr>\n",
              "    <tr>\n",
              "      <th>38</th>\n",
              "      <td>55000</td>\n",
              "      <td>45000</td>\n",
              "      <td>6</td>\n",
              "      <td>12000</td>\n",
              "      <td>600600</td>\n",
              "      <td>2</td>\n",
              "      <td>-2000</td>\n",
              "    </tr>\n",
              "    <tr>\n",
              "      <th>39</th>\n",
              "      <td>60000</td>\n",
              "      <td>10000</td>\n",
              "      <td>3</td>\n",
              "      <td>0</td>\n",
              "      <td>590400</td>\n",
              "      <td>1</td>\n",
              "      <td>50000</td>\n",
              "    </tr>\n",
              "    <tr>\n",
              "      <th>40</th>\n",
              "      <td>60000</td>\n",
              "      <td>50000</td>\n",
              "      <td>6</td>\n",
              "      <td>10000</td>\n",
              "      <td>590400</td>\n",
              "      <td>1</td>\n",
              "      <td>0</td>\n",
              "    </tr>\n",
              "    <tr>\n",
              "      <th>41</th>\n",
              "      <td>65000</td>\n",
              "      <td>20000</td>\n",
              "      <td>4</td>\n",
              "      <td>5000</td>\n",
              "      <td>647400</td>\n",
              "      <td>2</td>\n",
              "      <td>40000</td>\n",
              "    </tr>\n",
              "    <tr>\n",
              "      <th>42</th>\n",
              "      <td>70000</td>\n",
              "      <td>9000</td>\n",
              "      <td>2</td>\n",
              "      <td>0</td>\n",
              "      <td>756000</td>\n",
              "      <td>1</td>\n",
              "      <td>61000</td>\n",
              "    </tr>\n",
              "    <tr>\n",
              "      <th>43</th>\n",
              "      <td>80000</td>\n",
              "      <td>20000</td>\n",
              "      <td>4</td>\n",
              "      <td>0</td>\n",
              "      <td>1075200</td>\n",
              "      <td>1</td>\n",
              "      <td>60000</td>\n",
              "    </tr>\n",
              "    <tr>\n",
              "      <th>44</th>\n",
              "      <td>85000</td>\n",
              "      <td>25000</td>\n",
              "      <td>5</td>\n",
              "      <td>0</td>\n",
              "      <td>1142400</td>\n",
              "      <td>2</td>\n",
              "      <td>60000</td>\n",
              "    </tr>\n",
              "    <tr>\n",
              "      <th>45</th>\n",
              "      <td>90000</td>\n",
              "      <td>48000</td>\n",
              "      <td>7</td>\n",
              "      <td>0</td>\n",
              "      <td>885600</td>\n",
              "      <td>3</td>\n",
              "      <td>42000</td>\n",
              "    </tr>\n",
              "    <tr>\n",
              "      <th>46</th>\n",
              "      <td>98000</td>\n",
              "      <td>25000</td>\n",
              "      <td>5</td>\n",
              "      <td>0</td>\n",
              "      <td>1152480</td>\n",
              "      <td>2</td>\n",
              "      <td>73000</td>\n",
              "    </tr>\n",
              "    <tr>\n",
              "      <th>47</th>\n",
              "      <td>100000</td>\n",
              "      <td>30000</td>\n",
              "      <td>6</td>\n",
              "      <td>0</td>\n",
              "      <td>1404000</td>\n",
              "      <td>3</td>\n",
              "      <td>70000</td>\n",
              "    </tr>\n",
              "    <tr>\n",
              "      <th>48</th>\n",
              "      <td>100000</td>\n",
              "      <td>50000</td>\n",
              "      <td>4</td>\n",
              "      <td>20000</td>\n",
              "      <td>1032000</td>\n",
              "      <td>2</td>\n",
              "      <td>30000</td>\n",
              "    </tr>\n",
              "    <tr>\n",
              "      <th>49</th>\n",
              "      <td>100000</td>\n",
              "      <td>40000</td>\n",
              "      <td>6</td>\n",
              "      <td>10000</td>\n",
              "      <td>1320000</td>\n",
              "      <td>1</td>\n",
              "      <td>50000</td>\n",
              "    </tr>\n",
              "  </tbody>\n",
              "</table>\n",
              "</div>"
            ],
            "text/plain": [
              "    Thu nhập hàng tháng  ...  Số tiền có được hàng tháng\n",
              "0                  5000  ...                       -5000\n",
              "1                  6000  ...                       -4000\n",
              "2                 10000  ...                        5500\n",
              "3                 10000  ...                        8000\n",
              "4                 12500  ...                       -2500\n",
              "5                 14000  ...                        6000\n",
              "6                 15000  ...                      -36000\n",
              "7                 18000  ...                      -10000\n",
              "8                 19000  ...                       10000\n",
              "9                 20000  ...                       11000\n",
              "10                20000  ...                       -6000\n",
              "11                22000  ...                      -15000\n",
              "12                23400  ...                       18400\n",
              "13                24000  ...                       13500\n",
              "14                24000  ...                       14000\n",
              "15                25000  ...                       12700\n",
              "16                25000  ...                        1500\n",
              "17                25000  ...                       15000\n",
              "18                29000  ...                       20400\n",
              "19                30000  ...                       17000\n",
              "20                30500  ...                         500\n",
              "21                32000  ...                       17000\n",
              "22                34000  ...                       15000\n",
              "23                34000  ...                        5000\n",
              "24                35000  ...                       23000\n",
              "25                35000  ...                       10000\n",
              "26                39000  ...                       31000\n",
              "27                40000  ...                       30000\n",
              "28                42000  ...                       27000\n",
              "29                43000  ...                       31000\n",
              "30                45000  ...                       20000\n",
              "31                45000  ...                        1500\n",
              "32                45000  ...                       34000\n",
              "33                45000  ...                       20500\n",
              "34                46000  ...                       17500\n",
              "35                47000  ...                       32000\n",
              "36                50000  ...                       30000\n",
              "37                50500  ...                       30500\n",
              "38                55000  ...                       -2000\n",
              "39                60000  ...                       50000\n",
              "40                60000  ...                           0\n",
              "41                65000  ...                       40000\n",
              "42                70000  ...                       61000\n",
              "43                80000  ...                       60000\n",
              "44                85000  ...                       60000\n",
              "45                90000  ...                       42000\n",
              "46                98000  ...                       73000\n",
              "47               100000  ...                       70000\n",
              "48               100000  ...                       30000\n",
              "49               100000  ...                       50000\n",
              "\n",
              "[50 rows x 7 columns]"
            ]
          },
          "metadata": {
            "tags": []
          },
          "execution_count": 10
        }
      ]
    },
    {
      "cell_type": "code",
      "metadata": {
        "colab": {
          "base_uri": "https://localhost:8080/",
          "height": 252
        },
        "id": "2OJiYCgCjhkW",
        "outputId": "4085f198-5d63-4843-9975-f1691c72aa8b"
      },
      "source": [
        "print(\"Giá trị Harmonic mean của cột tập dữ liệu\")\n",
        "pd.DataFrame(stats.hmean(df1.iloc[:,0:6],axis=0).T)"
      ],
      "execution_count": 11,
      "outputs": [
        {
          "output_type": "stream",
          "text": [
            "Giá trị Harmonic mean của cột tập dữ liệu\n"
          ],
          "name": "stdout"
        },
        {
          "output_type": "execute_result",
          "data": {
            "text/html": [
              "<div>\n",
              "<style scoped>\n",
              "    .dataframe tbody tr th:only-of-type {\n",
              "        vertical-align: middle;\n",
              "    }\n",
              "\n",
              "    .dataframe tbody tr th {\n",
              "        vertical-align: top;\n",
              "    }\n",
              "\n",
              "    .dataframe thead th {\n",
              "        text-align: right;\n",
              "    }\n",
              "</style>\n",
              "<table border=\"1\" class=\"dataframe\">\n",
              "  <thead>\n",
              "    <tr style=\"text-align: right;\">\n",
              "      <th></th>\n",
              "      <th>0</th>\n",
              "    </tr>\n",
              "  </thead>\n",
              "  <tbody>\n",
              "    <tr>\n",
              "      <th>0</th>\n",
              "      <td>25530.137609</td>\n",
              "    </tr>\n",
              "    <tr>\n",
              "      <th>1</th>\n",
              "      <td>12103.840091</td>\n",
              "    </tr>\n",
              "    <tr>\n",
              "      <th>2</th>\n",
              "      <td>3.400810</td>\n",
              "    </tr>\n",
              "    <tr>\n",
              "      <th>3</th>\n",
              "      <td>0.000000</td>\n",
              "    </tr>\n",
              "    <tr>\n",
              "      <th>4</th>\n",
              "      <td>301734.486730</td>\n",
              "    </tr>\n",
              "    <tr>\n",
              "      <th>5</th>\n",
              "      <td>1.232033</td>\n",
              "    </tr>\n",
              "  </tbody>\n",
              "</table>\n",
              "</div>"
            ],
            "text/plain": [
              "               0\n",
              "0   25530.137609\n",
              "1   12103.840091\n",
              "2       3.400810\n",
              "3       0.000000\n",
              "4  301734.486730\n",
              "5       1.232033"
            ]
          },
          "metadata": {
            "tags": []
          },
          "execution_count": 11
        }
      ]
    },
    {
      "cell_type": "markdown",
      "metadata": {
        "id": "ORXt9zqpk7sg"
      },
      "source": [
        "Giá trị trung bình hình học của cột tập dữ liệu \n"
      ]
    },
    {
      "cell_type": "code",
      "metadata": {
        "colab": {
          "base_uri": "https://localhost:8080/",
          "height": 270
        },
        "id": "aQgksjmlk8mS",
        "outputId": "7f533198-7f9c-4784-ff7c-cf9afc6670ca"
      },
      "source": [
        "pd.DataFrame(stats.gmean(df1.iloc[:,0:6],axis=0).T)"
      ],
      "execution_count": 12,
      "outputs": [
        {
          "output_type": "stream",
          "text": [
            "/usr/local/lib/python3.7/dist-packages/scipy/stats/stats.py:330: RuntimeWarning: divide by zero encountered in log\n",
            "  log_a = np.log(np.array(a, dtype=dtype))\n"
          ],
          "name": "stderr"
        },
        {
          "output_type": "execute_result",
          "data": {
            "text/html": [
              "<div>\n",
              "<style scoped>\n",
              "    .dataframe tbody tr th:only-of-type {\n",
              "        vertical-align: middle;\n",
              "    }\n",
              "\n",
              "    .dataframe tbody tr th {\n",
              "        vertical-align: top;\n",
              "    }\n",
              "\n",
              "    .dataframe thead th {\n",
              "        text-align: right;\n",
              "    }\n",
              "</style>\n",
              "<table border=\"1\" class=\"dataframe\">\n",
              "  <thead>\n",
              "    <tr style=\"text-align: right;\">\n",
              "      <th></th>\n",
              "      <th>0</th>\n",
              "    </tr>\n",
              "  </thead>\n",
              "  <tbody>\n",
              "    <tr>\n",
              "      <th>0</th>\n",
              "      <td>33590.377540</td>\n",
              "    </tr>\n",
              "    <tr>\n",
              "      <th>1</th>\n",
              "      <td>15391.899582</td>\n",
              "    </tr>\n",
              "    <tr>\n",
              "      <th>2</th>\n",
              "      <td>3.749694</td>\n",
              "    </tr>\n",
              "    <tr>\n",
              "      <th>3</th>\n",
              "      <td>0.000000</td>\n",
              "    </tr>\n",
              "    <tr>\n",
              "      <th>4</th>\n",
              "      <td>394319.828944</td>\n",
              "    </tr>\n",
              "    <tr>\n",
              "      <th>5</th>\n",
              "      <td>1.325739</td>\n",
              "    </tr>\n",
              "  </tbody>\n",
              "</table>\n",
              "</div>"
            ],
            "text/plain": [
              "               0\n",
              "0   33590.377540\n",
              "1   15391.899582\n",
              "2       3.749694\n",
              "3       0.000000\n",
              "4  394319.828944\n",
              "5       1.325739"
            ]
          },
          "metadata": {
            "tags": []
          },
          "execution_count": 12
        }
      ]
    },
    {
      "cell_type": "markdown",
      "metadata": {
        "id": "x3xjYs5Tl_Kj"
      },
      "source": [
        "Giá trị trung vị tập dữ liệu\n"
      ]
    },
    {
      "cell_type": "code",
      "metadata": {
        "colab": {
          "base_uri": "https://localhost:8080/",
          "height": 265
        },
        "id": "eVOPKA8ZFfqA",
        "outputId": "fdb94a57-ab41-44d1-dfef-ba81597df40b"
      },
      "source": [
        "pd.DataFrame(df.median().T)"
      ],
      "execution_count": 13,
      "outputs": [
        {
          "output_type": "execute_result",
          "data": {
            "text/html": [
              "<div>\n",
              "<style scoped>\n",
              "    .dataframe tbody tr th:only-of-type {\n",
              "        vertical-align: middle;\n",
              "    }\n",
              "\n",
              "    .dataframe tbody tr th {\n",
              "        vertical-align: top;\n",
              "    }\n",
              "\n",
              "    .dataframe thead th {\n",
              "        text-align: right;\n",
              "    }\n",
              "</style>\n",
              "<table border=\"1\" class=\"dataframe\">\n",
              "  <thead>\n",
              "    <tr style=\"text-align: right;\">\n",
              "      <th></th>\n",
              "      <th>0</th>\n",
              "    </tr>\n",
              "  </thead>\n",
              "  <tbody>\n",
              "    <tr>\n",
              "      <th>Thu nhập hàng tháng</th>\n",
              "      <td>35000.0</td>\n",
              "    </tr>\n",
              "    <tr>\n",
              "      <th>Chi phí hằng tháng</th>\n",
              "      <td>15500.0</td>\n",
              "    </tr>\n",
              "    <tr>\n",
              "      <th>Số thành viên</th>\n",
              "      <td>4.0</td>\n",
              "    </tr>\n",
              "    <tr>\n",
              "      <th>Tiền thuê hằng tháng</th>\n",
              "      <td>0.0</td>\n",
              "    </tr>\n",
              "    <tr>\n",
              "      <th>Thu nhập hằng năm</th>\n",
              "      <td>447420.0</td>\n",
              "    </tr>\n",
              "    <tr>\n",
              "      <th>Số người kiếm tiền</th>\n",
              "      <td>1.0</td>\n",
              "    </tr>\n",
              "    <tr>\n",
              "      <th>Số tiền có được hàng tháng</th>\n",
              "      <td>17000.0</td>\n",
              "    </tr>\n",
              "  </tbody>\n",
              "</table>\n",
              "</div>"
            ],
            "text/plain": [
              "                                   0\n",
              "Thu nhập hàng tháng          35000.0\n",
              "Chi phí hằng tháng           15500.0\n",
              "Số thành viên                    4.0\n",
              "Tiền thuê hằng tháng             0.0\n",
              "Thu nhập hằng năm           447420.0\n",
              "Số người kiếm tiền               1.0\n",
              "Số tiền có được hàng tháng   17000.0"
            ]
          },
          "metadata": {
            "tags": []
          },
          "execution_count": 13
        }
      ]
    },
    {
      "cell_type": "markdown",
      "metadata": {
        "id": "tYcENU5SmEB9"
      },
      "source": [
        "Giá trị yếu vị tập dữ liệu\n"
      ]
    },
    {
      "cell_type": "code",
      "metadata": {
        "id": "spHSbs33GC4X",
        "colab": {
          "base_uri": "https://localhost:8080/",
          "height": 327
        },
        "outputId": "b796f085-1122-48f7-8a2d-d0b3290b73cd"
      },
      "source": [
        "pd.DataFrame(df.mode().T)"
      ],
      "execution_count": 14,
      "outputs": [
        {
          "output_type": "execute_result",
          "data": {
            "text/html": [
              "<div>\n",
              "<style scoped>\n",
              "    .dataframe tbody tr th:only-of-type {\n",
              "        vertical-align: middle;\n",
              "    }\n",
              "\n",
              "    .dataframe tbody tr th {\n",
              "        vertical-align: top;\n",
              "    }\n",
              "\n",
              "    .dataframe thead th {\n",
              "        text-align: right;\n",
              "    }\n",
              "</style>\n",
              "<table border=\"1\" class=\"dataframe\">\n",
              "  <thead>\n",
              "    <tr style=\"text-align: right;\">\n",
              "      <th></th>\n",
              "      <th>0</th>\n",
              "    </tr>\n",
              "  </thead>\n",
              "  <tbody>\n",
              "    <tr>\n",
              "      <th>Thu nhập hàng tháng</th>\n",
              "      <td>45000</td>\n",
              "    </tr>\n",
              "    <tr>\n",
              "      <th>Chi phí hằng tháng</th>\n",
              "      <td>25000</td>\n",
              "    </tr>\n",
              "    <tr>\n",
              "      <th>Số thành viên</th>\n",
              "      <td>4</td>\n",
              "    </tr>\n",
              "    <tr>\n",
              "      <th>Tiền thuê hằng tháng</th>\n",
              "      <td>0</td>\n",
              "    </tr>\n",
              "    <tr>\n",
              "      <th>Thu nhập hằng năm</th>\n",
              "      <td>590400</td>\n",
              "    </tr>\n",
              "    <tr>\n",
              "      <th>Học vị cao nhất</th>\n",
              "      <td>Graduate</td>\n",
              "    </tr>\n",
              "    <tr>\n",
              "      <th>Số người kiếm tiền</th>\n",
              "      <td>1</td>\n",
              "    </tr>\n",
              "    <tr>\n",
              "      <th>Số tiền có được hàng tháng</th>\n",
              "      <td>30000</td>\n",
              "    </tr>\n",
              "    <tr>\n",
              "      <th>Mức sống</th>\n",
              "      <td>Mức dư siêu lớn</td>\n",
              "    </tr>\n",
              "  </tbody>\n",
              "</table>\n",
              "</div>"
            ],
            "text/plain": [
              "                                          0\n",
              "Thu nhập hàng tháng                   45000\n",
              "Chi phí hằng tháng                    25000\n",
              "Số thành viên                             4\n",
              "Tiền thuê hằng tháng                      0\n",
              "Thu nhập hằng năm                    590400\n",
              "Học vị cao nhất                    Graduate\n",
              "Số người kiếm tiền                        1\n",
              "Số tiền có được hàng tháng            30000\n",
              "Mức sống                    Mức dư siêu lớn"
            ]
          },
          "metadata": {
            "tags": []
          },
          "execution_count": 14
        }
      ]
    },
    {
      "cell_type": "markdown",
      "metadata": {
        "id": "fUBFXjYHnlaM"
      },
      "source": [
        "3: Biện pháp phân tích sự thay đổi, phân tán của tập dữ liệu "
      ]
    },
    {
      "cell_type": "markdown",
      "metadata": {
        "id": "1Vfduk8inlhZ"
      },
      "source": [
        "Phạm vi (Độ biến thiên) của dữ liệu\n"
      ]
    },
    {
      "cell_type": "code",
      "metadata": {
        "colab": {
          "base_uri": "https://localhost:8080/",
          "height": 265
        },
        "id": "vEfbDXeQfl2Z",
        "outputId": "2fff9825-f212-4bc2-911c-e3fb23b7c28d"
      },
      "source": [
        "min = df.min (numeric_only= True)\n",
        "max = df.max (numeric_only= True) \n",
        "f = pd.DataFrame(max - min)\n",
        "f"
      ],
      "execution_count": 15,
      "outputs": [
        {
          "output_type": "execute_result",
          "data": {
            "text/html": [
              "<div>\n",
              "<style scoped>\n",
              "    .dataframe tbody tr th:only-of-type {\n",
              "        vertical-align: middle;\n",
              "    }\n",
              "\n",
              "    .dataframe tbody tr th {\n",
              "        vertical-align: top;\n",
              "    }\n",
              "\n",
              "    .dataframe thead th {\n",
              "        text-align: right;\n",
              "    }\n",
              "</style>\n",
              "<table border=\"1\" class=\"dataframe\">\n",
              "  <thead>\n",
              "    <tr style=\"text-align: right;\">\n",
              "      <th></th>\n",
              "      <th>0</th>\n",
              "    </tr>\n",
              "  </thead>\n",
              "  <tbody>\n",
              "    <tr>\n",
              "      <th>Thu nhập hàng tháng</th>\n",
              "      <td>95000</td>\n",
              "    </tr>\n",
              "    <tr>\n",
              "      <th>Chi phí hằng tháng</th>\n",
              "      <td>48000</td>\n",
              "    </tr>\n",
              "    <tr>\n",
              "      <th>Số thành viên</th>\n",
              "      <td>6</td>\n",
              "    </tr>\n",
              "    <tr>\n",
              "      <th>Tiền thuê hằng tháng</th>\n",
              "      <td>35000</td>\n",
              "    </tr>\n",
              "    <tr>\n",
              "      <th>Thu nhập hằng năm</th>\n",
              "      <td>1339800</td>\n",
              "    </tr>\n",
              "    <tr>\n",
              "      <th>Số người kiếm tiền</th>\n",
              "      <td>3</td>\n",
              "    </tr>\n",
              "    <tr>\n",
              "      <th>Số tiền có được hàng tháng</th>\n",
              "      <td>109000</td>\n",
              "    </tr>\n",
              "  </tbody>\n",
              "</table>\n",
              "</div>"
            ],
            "text/plain": [
              "                                  0\n",
              "Thu nhập hàng tháng           95000\n",
              "Chi phí hằng tháng            48000\n",
              "Số thành viên                     6\n",
              "Tiền thuê hằng tháng          35000\n",
              "Thu nhập hằng năm           1339800\n",
              "Số người kiếm tiền                3\n",
              "Số tiền có được hàng tháng   109000"
            ]
          },
          "metadata": {
            "tags": []
          },
          "execution_count": 15
        }
      ]
    },
    {
      "cell_type": "markdown",
      "metadata": {
        "id": "vVR5cDOqpmqf"
      },
      "source": [
        "Phương sai của dữ liệu "
      ]
    },
    {
      "cell_type": "code",
      "metadata": {
        "colab": {
          "base_uri": "https://localhost:8080/",
          "height": 265
        },
        "id": "GFBG4gBMj7uU",
        "outputId": "320b2e6c-4c33-4ceb-a4bb-a9fc5d885700"
      },
      "source": [
        "a = pd.DataFrame(df.var(skipna= True).T)\n",
        "a"
      ],
      "execution_count": 16,
      "outputs": [
        {
          "output_type": "execute_result",
          "data": {
            "text/html": [
              "<div>\n",
              "<style scoped>\n",
              "    .dataframe tbody tr th:only-of-type {\n",
              "        vertical-align: middle;\n",
              "    }\n",
              "\n",
              "    .dataframe tbody tr th {\n",
              "        vertical-align: top;\n",
              "    }\n",
              "\n",
              "    .dataframe thead th {\n",
              "        text-align: right;\n",
              "    }\n",
              "</style>\n",
              "<table border=\"1\" class=\"dataframe\">\n",
              "  <thead>\n",
              "    <tr style=\"text-align: right;\">\n",
              "      <th></th>\n",
              "      <th>0</th>\n",
              "    </tr>\n",
              "  </thead>\n",
              "  <tbody>\n",
              "    <tr>\n",
              "      <th>Thu nhập hàng tháng</th>\n",
              "      <td>6.811009e+08</td>\n",
              "    </tr>\n",
              "    <tr>\n",
              "      <th>Chi phí hằng tháng</th>\n",
              "      <td>1.461733e+08</td>\n",
              "    </tr>\n",
              "    <tr>\n",
              "      <th>Số thành viên</th>\n",
              "      <td>2.302449e+00</td>\n",
              "    </tr>\n",
              "    <tr>\n",
              "      <th>Tiền thuê hằng tháng</th>\n",
              "      <td>3.895551e+07</td>\n",
              "    </tr>\n",
              "    <tr>\n",
              "      <th>Thu nhập hằng năm</th>\n",
              "      <td>1.024869e+11</td>\n",
              "    </tr>\n",
              "    <tr>\n",
              "      <th>Số người kiếm tiền</th>\n",
              "      <td>5.391837e-01</td>\n",
              "    </tr>\n",
              "    <tr>\n",
              "      <th>Số tiền có được hàng tháng</th>\n",
              "      <td>5.056559e+08</td>\n",
              "    </tr>\n",
              "  </tbody>\n",
              "</table>\n",
              "</div>"
            ],
            "text/plain": [
              "                                       0\n",
              "Thu nhập hàng tháng         6.811009e+08\n",
              "Chi phí hằng tháng          1.461733e+08\n",
              "Số thành viên               2.302449e+00\n",
              "Tiền thuê hằng tháng        3.895551e+07\n",
              "Thu nhập hằng năm           1.024869e+11\n",
              "Số người kiếm tiền          5.391837e-01\n",
              "Số tiền có được hàng tháng  5.056559e+08"
            ]
          },
          "metadata": {
            "tags": []
          },
          "execution_count": 16
        }
      ]
    },
    {
      "cell_type": "markdown",
      "metadata": {
        "id": "xHylQvMjq8RA"
      },
      "source": [
        "Độ lệch chuẩn dữ liệu "
      ]
    },
    {
      "cell_type": "code",
      "metadata": {
        "colab": {
          "base_uri": "https://localhost:8080/",
          "height": 265
        },
        "id": "jW8CkQLck7W2",
        "outputId": "3b630359-8fde-48fc-c0b8-ed5f2a2001dd"
      },
      "source": [
        "b = pd.DataFrame(df.std(skipna= True).T)\n",
        "b"
      ],
      "execution_count": 17,
      "outputs": [
        {
          "output_type": "execute_result",
          "data": {
            "text/html": [
              "<div>\n",
              "<style scoped>\n",
              "    .dataframe tbody tr th:only-of-type {\n",
              "        vertical-align: middle;\n",
              "    }\n",
              "\n",
              "    .dataframe tbody tr th {\n",
              "        vertical-align: top;\n",
              "    }\n",
              "\n",
              "    .dataframe thead th {\n",
              "        text-align: right;\n",
              "    }\n",
              "</style>\n",
              "<table border=\"1\" class=\"dataframe\">\n",
              "  <thead>\n",
              "    <tr style=\"text-align: right;\">\n",
              "      <th></th>\n",
              "      <th>0</th>\n",
              "    </tr>\n",
              "  </thead>\n",
              "  <tbody>\n",
              "    <tr>\n",
              "      <th>Thu nhập hàng tháng</th>\n",
              "      <td>26097.908979</td>\n",
              "    </tr>\n",
              "    <tr>\n",
              "      <th>Chi phí hằng tháng</th>\n",
              "      <td>12090.216824</td>\n",
              "    </tr>\n",
              "    <tr>\n",
              "      <th>Số thành viên</th>\n",
              "      <td>1.517382</td>\n",
              "    </tr>\n",
              "    <tr>\n",
              "      <th>Tiền thuê hằng tháng</th>\n",
              "      <td>6241.434948</td>\n",
              "    </tr>\n",
              "    <tr>\n",
              "      <th>Thu nhập hằng năm</th>\n",
              "      <td>320135.792123</td>\n",
              "    </tr>\n",
              "    <tr>\n",
              "      <th>Số người kiếm tiền</th>\n",
              "      <td>0.734291</td>\n",
              "    </tr>\n",
              "    <tr>\n",
              "      <th>Số tiền có được hàng tháng</th>\n",
              "      <td>22486.794311</td>\n",
              "    </tr>\n",
              "  </tbody>\n",
              "</table>\n",
              "</div>"
            ],
            "text/plain": [
              "                                        0\n",
              "Thu nhập hàng tháng          26097.908979\n",
              "Chi phí hằng tháng           12090.216824\n",
              "Số thành viên                    1.517382\n",
              "Tiền thuê hằng tháng          6241.434948\n",
              "Thu nhập hằng năm           320135.792123\n",
              "Số người kiếm tiền               0.734291\n",
              "Số tiền có được hàng tháng   22486.794311"
            ]
          },
          "metadata": {
            "tags": []
          },
          "execution_count": 17
        }
      ]
    },
    {
      "cell_type": "markdown",
      "metadata": {
        "id": "cPZs0qfasGkD"
      },
      "source": [
        "Hệ số biến động của dữ liệu \n"
      ]
    },
    {
      "cell_type": "code",
      "metadata": {
        "colab": {
          "base_uri": "https://localhost:8080/",
          "height": 265
        },
        "id": "b5w6r-CtnOAT",
        "outputId": "5df81a5a-2431-4f9b-adbc-ea65faecc0c4"
      },
      "source": [
        "cv = lambda df: np.std(df, ddof=1) / np.mean(df) * 100\n",
        "pd.DataFrame(cv(df))"
      ],
      "execution_count": 18,
      "outputs": [
        {
          "output_type": "execute_result",
          "data": {
            "text/html": [
              "<div>\n",
              "<style scoped>\n",
              "    .dataframe tbody tr th:only-of-type {\n",
              "        vertical-align: middle;\n",
              "    }\n",
              "\n",
              "    .dataframe tbody tr th {\n",
              "        vertical-align: top;\n",
              "    }\n",
              "\n",
              "    .dataframe thead th {\n",
              "        text-align: right;\n",
              "    }\n",
              "</style>\n",
              "<table border=\"1\" class=\"dataframe\">\n",
              "  <thead>\n",
              "    <tr style=\"text-align: right;\">\n",
              "      <th></th>\n",
              "      <th>0</th>\n",
              "    </tr>\n",
              "  </thead>\n",
              "  <tbody>\n",
              "    <tr>\n",
              "      <th>Thu nhập hàng tháng</th>\n",
              "      <td>62.798761</td>\n",
              "    </tr>\n",
              "    <tr>\n",
              "      <th>Chi phí hằng tháng</th>\n",
              "      <td>64.248150</td>\n",
              "    </tr>\n",
              "    <tr>\n",
              "      <th>Số thành viên</th>\n",
              "      <td>37.373948</td>\n",
              "    </tr>\n",
              "    <tr>\n",
              "      <th>Tiền thuê hằng tháng</th>\n",
              "      <td>203.968462</td>\n",
              "    </tr>\n",
              "    <tr>\n",
              "      <th>Thu nhập hằng năm</th>\n",
              "      <td>65.331297</td>\n",
              "    </tr>\n",
              "    <tr>\n",
              "      <th>Số người kiếm tiền</th>\n",
              "      <td>50.293923</td>\n",
              "    </tr>\n",
              "    <tr>\n",
              "      <th>Số tiền có được hàng tháng</th>\n",
              "      <td>114.262166</td>\n",
              "    </tr>\n",
              "  </tbody>\n",
              "</table>\n",
              "</div>"
            ],
            "text/plain": [
              "                                     0\n",
              "Thu nhập hàng tháng          62.798761\n",
              "Chi phí hằng tháng           64.248150\n",
              "Số thành viên                37.373948\n",
              "Tiền thuê hằng tháng        203.968462\n",
              "Thu nhập hằng năm            65.331297\n",
              "Số người kiếm tiền           50.293923\n",
              "Số tiền có được hàng tháng  114.262166"
            ]
          },
          "metadata": {
            "tags": []
          },
          "execution_count": 18
        }
      ]
    },
    {
      "cell_type": "markdown",
      "metadata": {
        "id": "qXEQ73c6s8f8"
      },
      "source": [
        "Độ lệch mẫu đo độ không đối xứng của dữ liệu "
      ]
    },
    {
      "cell_type": "code",
      "metadata": {
        "colab": {
          "base_uri": "https://localhost:8080/",
          "height": 265
        },
        "id": "oHaPwBh8tELI",
        "outputId": "6dec6a06-4a96-4e62-c6f3-f588ab54a83d"
      },
      "source": [
        "pd.DataFrame(stats.skew(df1,bias=False))"
      ],
      "execution_count": 19,
      "outputs": [
        {
          "output_type": "execute_result",
          "data": {
            "text/html": [
              "<div>\n",
              "<style scoped>\n",
              "    .dataframe tbody tr th:only-of-type {\n",
              "        vertical-align: middle;\n",
              "    }\n",
              "\n",
              "    .dataframe tbody tr th {\n",
              "        vertical-align: top;\n",
              "    }\n",
              "\n",
              "    .dataframe thead th {\n",
              "        text-align: right;\n",
              "    }\n",
              "</style>\n",
              "<table border=\"1\" class=\"dataframe\">\n",
              "  <thead>\n",
              "    <tr style=\"text-align: right;\">\n",
              "      <th></th>\n",
              "      <th>0</th>\n",
              "    </tr>\n",
              "  </thead>\n",
              "  <tbody>\n",
              "    <tr>\n",
              "      <th>0</th>\n",
              "      <td>0.924615</td>\n",
              "    </tr>\n",
              "    <tr>\n",
              "      <th>1</th>\n",
              "      <td>1.199461</td>\n",
              "    </tr>\n",
              "    <tr>\n",
              "      <th>2</th>\n",
              "      <td>0.113674</td>\n",
              "    </tr>\n",
              "    <tr>\n",
              "      <th>3</th>\n",
              "      <td>3.403680</td>\n",
              "    </tr>\n",
              "    <tr>\n",
              "      <th>4</th>\n",
              "      <td>1.192949</td>\n",
              "    </tr>\n",
              "    <tr>\n",
              "      <th>5</th>\n",
              "      <td>1.593301</td>\n",
              "    </tr>\n",
              "    <tr>\n",
              "      <th>6</th>\n",
              "      <td>0.413996</td>\n",
              "    </tr>\n",
              "  </tbody>\n",
              "</table>\n",
              "</div>"
            ],
            "text/plain": [
              "          0\n",
              "0  0.924615\n",
              "1  1.199461\n",
              "2  0.113674\n",
              "3  3.403680\n",
              "4  1.192949\n",
              "5  1.593301\n",
              "6  0.413996"
            ]
          },
          "metadata": {
            "tags": []
          },
          "execution_count": 19
        }
      ]
    },
    {
      "cell_type": "markdown",
      "metadata": {
        "id": "WgqIxXEmvNjm"
      },
      "source": [
        "Phần trăm (Phân vị mẫu) của dữ liệu "
      ]
    },
    {
      "cell_type": "code",
      "metadata": {
        "colab": {
          "base_uri": "https://localhost:8080/",
          "height": 265
        },
        "id": "x0AR3uxEy3N2",
        "outputId": "020a28cc-49ba-42e7-dbc4-be733b7316a0"
      },
      "source": [
        "ql = pd.DataFrame(df.quantile([0.25,0.50,0.75]).T)\n",
        "ql"
      ],
      "execution_count": 20,
      "outputs": [
        {
          "output_type": "execute_result",
          "data": {
            "text/html": [
              "<div>\n",
              "<style scoped>\n",
              "    .dataframe tbody tr th:only-of-type {\n",
              "        vertical-align: middle;\n",
              "    }\n",
              "\n",
              "    .dataframe tbody tr th {\n",
              "        vertical-align: top;\n",
              "    }\n",
              "\n",
              "    .dataframe thead th {\n",
              "        text-align: right;\n",
              "    }\n",
              "</style>\n",
              "<table border=\"1\" class=\"dataframe\">\n",
              "  <thead>\n",
              "    <tr style=\"text-align: right;\">\n",
              "      <th></th>\n",
              "      <th>0.25</th>\n",
              "      <th>0.50</th>\n",
              "      <th>0.75</th>\n",
              "    </tr>\n",
              "  </thead>\n",
              "  <tbody>\n",
              "    <tr>\n",
              "      <th>Thu nhập hàng tháng</th>\n",
              "      <td>23550.0</td>\n",
              "      <td>35000.0</td>\n",
              "      <td>50375.0</td>\n",
              "    </tr>\n",
              "    <tr>\n",
              "      <th>Chi phí hằng tháng</th>\n",
              "      <td>10000.0</td>\n",
              "      <td>15500.0</td>\n",
              "      <td>25000.0</td>\n",
              "    </tr>\n",
              "    <tr>\n",
              "      <th>Số thành viên</th>\n",
              "      <td>3.0</td>\n",
              "      <td>4.0</td>\n",
              "      <td>5.0</td>\n",
              "    </tr>\n",
              "    <tr>\n",
              "      <th>Tiền thuê hằng tháng</th>\n",
              "      <td>0.0</td>\n",
              "      <td>0.0</td>\n",
              "      <td>3500.0</td>\n",
              "    </tr>\n",
              "    <tr>\n",
              "      <th>Thu nhập hằng năm</th>\n",
              "      <td>258750.0</td>\n",
              "      <td>447420.0</td>\n",
              "      <td>594720.0</td>\n",
              "    </tr>\n",
              "    <tr>\n",
              "      <th>Số người kiếm tiền</th>\n",
              "      <td>1.0</td>\n",
              "      <td>1.0</td>\n",
              "      <td>2.0</td>\n",
              "    </tr>\n",
              "    <tr>\n",
              "      <th>Số tiền có được hàng tháng</th>\n",
              "      <td>5125.0</td>\n",
              "      <td>17000.0</td>\n",
              "      <td>30875.0</td>\n",
              "    </tr>\n",
              "  </tbody>\n",
              "</table>\n",
              "</div>"
            ],
            "text/plain": [
              "                                0.25      0.50      0.75\n",
              "Thu nhập hàng tháng          23550.0   35000.0   50375.0\n",
              "Chi phí hằng tháng           10000.0   15500.0   25000.0\n",
              "Số thành viên                    3.0       4.0       5.0\n",
              "Tiền thuê hằng tháng             0.0       0.0    3500.0\n",
              "Thu nhập hằng năm           258750.0  447420.0  594720.0\n",
              "Số người kiếm tiền               1.0       1.0       2.0\n",
              "Số tiền có được hàng tháng    5125.0   17000.0   30875.0"
            ]
          },
          "metadata": {
            "tags": []
          },
          "execution_count": 20
        }
      ]
    },
    {
      "cell_type": "markdown",
      "metadata": {
        "id": "gdWTW9ON3RYD"
      },
      "source": [
        "Thước đo về mối tương quan giữa các cặp dữ liệu\n",
        "Bảng thống kê mức độ phụ thuộc của từng tập dữ liệu trong data"
      ]
    },
    {
      "cell_type": "code",
      "metadata": {
        "colab": {
          "base_uri": "https://localhost:8080/",
          "height": 265
        },
        "id": "1732me5foQDi",
        "outputId": "abe3e387-80b7-4c4d-9101-3bf7cd7cc965"
      },
      "source": [
        "corr = df.corr()\n",
        "corr"
      ],
      "execution_count": 21,
      "outputs": [
        {
          "output_type": "execute_result",
          "data": {
            "text/html": [
              "<div>\n",
              "<style scoped>\n",
              "    .dataframe tbody tr th:only-of-type {\n",
              "        vertical-align: middle;\n",
              "    }\n",
              "\n",
              "    .dataframe tbody tr th {\n",
              "        vertical-align: top;\n",
              "    }\n",
              "\n",
              "    .dataframe thead th {\n",
              "        text-align: right;\n",
              "    }\n",
              "</style>\n",
              "<table border=\"1\" class=\"dataframe\">\n",
              "  <thead>\n",
              "    <tr style=\"text-align: right;\">\n",
              "      <th></th>\n",
              "      <th>Thu nhập hàng tháng</th>\n",
              "      <th>Chi phí hằng tháng</th>\n",
              "      <th>Số thành viên</th>\n",
              "      <th>Tiền thuê hằng tháng</th>\n",
              "      <th>Thu nhập hằng năm</th>\n",
              "      <th>Số người kiếm tiền</th>\n",
              "      <th>Số tiền có được hàng tháng</th>\n",
              "    </tr>\n",
              "  </thead>\n",
              "  <tbody>\n",
              "    <tr>\n",
              "      <th>Thu nhập hàng tháng</th>\n",
              "      <td>1.000000</td>\n",
              "      <td>0.649215</td>\n",
              "      <td>0.448317</td>\n",
              "      <td>0.036976</td>\n",
              "      <td>0.970315</td>\n",
              "      <td>0.347883</td>\n",
              "      <td>0.801269</td>\n",
              "    </tr>\n",
              "    <tr>\n",
              "      <th>Chi phí hằng tháng</th>\n",
              "      <td>0.649215</td>\n",
              "      <td>1.000000</td>\n",
              "      <td>0.639702</td>\n",
              "      <td>0.405280</td>\n",
              "      <td>0.591222</td>\n",
              "      <td>0.311915</td>\n",
              "      <td>0.103323</td>\n",
              "    </tr>\n",
              "    <tr>\n",
              "      <th>Số thành viên</th>\n",
              "      <td>0.448317</td>\n",
              "      <td>0.639702</td>\n",
              "      <td>1.000000</td>\n",
              "      <td>0.085808</td>\n",
              "      <td>0.430868</td>\n",
              "      <td>0.597482</td>\n",
              "      <td>0.152554</td>\n",
              "    </tr>\n",
              "    <tr>\n",
              "      <th>Tiền thuê hằng tháng</th>\n",
              "      <td>0.036976</td>\n",
              "      <td>0.405280</td>\n",
              "      <td>0.085808</td>\n",
              "      <td>1.000000</td>\n",
              "      <td>0.002716</td>\n",
              "      <td>-0.097431</td>\n",
              "      <td>-0.452548</td>\n",
              "    </tr>\n",
              "    <tr>\n",
              "      <th>Thu nhập hằng năm</th>\n",
              "      <td>0.970315</td>\n",
              "      <td>0.591222</td>\n",
              "      <td>0.430868</td>\n",
              "      <td>0.002716</td>\n",
              "      <td>1.000000</td>\n",
              "      <td>0.296679</td>\n",
              "      <td>0.807508</td>\n",
              "    </tr>\n",
              "    <tr>\n",
              "      <th>Số người kiếm tiền</th>\n",
              "      <td>0.347883</td>\n",
              "      <td>0.311915</td>\n",
              "      <td>0.597482</td>\n",
              "      <td>-0.097431</td>\n",
              "      <td>0.296679</td>\n",
              "      <td>1.000000</td>\n",
              "      <td>0.263089</td>\n",
              "    </tr>\n",
              "    <tr>\n",
              "      <th>Số tiền có được hàng tháng</th>\n",
              "      <td>0.801269</td>\n",
              "      <td>0.103323</td>\n",
              "      <td>0.152554</td>\n",
              "      <td>-0.452548</td>\n",
              "      <td>0.807508</td>\n",
              "      <td>0.263089</td>\n",
              "      <td>1.000000</td>\n",
              "    </tr>\n",
              "  </tbody>\n",
              "</table>\n",
              "</div>"
            ],
            "text/plain": [
              "                            Thu nhập hàng tháng  ...  Số tiền có được hàng tháng\n",
              "Thu nhập hàng tháng                    1.000000  ...                    0.801269\n",
              "Chi phí hằng tháng                     0.649215  ...                    0.103323\n",
              "Số thành viên                          0.448317  ...                    0.152554\n",
              "Tiền thuê hằng tháng                   0.036976  ...                   -0.452548\n",
              "Thu nhập hằng năm                      0.970315  ...                    0.807508\n",
              "Số người kiếm tiền                     0.347883  ...                    0.263089\n",
              "Số tiền có được hàng tháng             0.801269  ...                    1.000000\n",
              "\n",
              "[7 rows x 7 columns]"
            ]
          },
          "metadata": {
            "tags": []
          },
          "execution_count": 21
        }
      ]
    },
    {
      "cell_type": "markdown",
      "metadata": {
        "id": "MYdT6vCK4agT"
      },
      "source": [
        "Biểu đồ thống kê mức độ phụ thuộc của từng tập dữ liệu trong data"
      ]
    },
    {
      "cell_type": "code",
      "metadata": {
        "colab": {
          "base_uri": "https://localhost:8080/",
          "height": 615
        },
        "id": "MfdEj7juojcE",
        "outputId": "f2e0700b-7bc4-4626-880c-2fc9e12c71e0"
      },
      "source": [
        "plt.subplots(figsize=(20,10))\n",
        "sns.heatmap(corr, annot=True)"
      ],
      "execution_count": 22,
      "outputs": [
        {
          "output_type": "execute_result",
          "data": {
            "text/plain": [
              "<matplotlib.axes._subplots.AxesSubplot at 0x7fe56c1e12d0>"
            ]
          },
          "metadata": {
            "tags": []
          },
          "execution_count": 22
        },
        {
          "output_type": "display_data",
          "data": {
            "image/png": "[encoded data removed]",
            "text/plain": [
              "<Figure size 1440x720 with 2 Axes>"
            ]
          },
          "metadata": {
            "tags": [],
            "needs_background": "light"
          }
        }
      ]
    },
    {
      "cell_type": "markdown",
      "metadata": {
        "id": "4pQa2DPh4vJD"
      },
      "source": [
        "Thiết lập mô hình hồi quy tuyến tính "
      ]
    },
    {
      "cell_type": "code",
      "metadata": {
        "colab": {
          "base_uri": "https://localhost:8080/"
        },
        "id": "_MDvAxS5pgej",
        "outputId": "212a12d3-9497-49f9-aa77-176f6adb7ebd"
      },
      "source": [
        "regr = linear_model.LinearRegression()\n",
        "y = df['Thu nhập hàng tháng']\n",
        "x = df[['Chi phí hằng tháng','Số thành viên']]\n",
        "regr.fit(x,y)"
      ],
      "execution_count": 23,
      "outputs": [
        {
          "output_type": "execute_result",
          "data": {
            "text/plain": [
              "LinearRegression(copy_X=True, fit_intercept=True, n_jobs=None, normalize=False)"
            ]
          },
          "metadata": {
            "tags": []
          },
          "execution_count": 23
        }
      ]
    },
    {
      "cell_type": "code",
      "metadata": {
        "colab": {
          "base_uri": "https://localhost:8080/"
        },
        "id": "-EK07HsXp1SP",
        "outputId": "e532e46a-af18-4c84-88ef-fda03c98efda"
      },
      "source": [
        "print('Hệ số hồi quy')\n",
        "regr.coef_"
      ],
      "execution_count": 24,
      "outputs": [
        {
          "output_type": "stream",
          "text": [
            "Hệ số hồi quy\n"
          ],
          "name": "stdout"
        },
        {
          "output_type": "execute_result",
          "data": {
            "text/plain": [
              "array([  1.32423097, 961.10864254])"
            ]
          },
          "metadata": {
            "tags": []
          },
          "execution_count": 24
        }
      ]
    },
    {
      "cell_type": "code",
      "metadata": {
        "colab": {
          "base_uri": "https://localhost:8080/"
        },
        "id": "p8Pn12a9qZFg",
        "outputId": "4b4f7949-36fd-4cc1-9b3a-45d1ef7066ec"
      },
      "source": [
        "print('Hệ số chặn y ')\n",
        "regr.intercept_"
      ],
      "execution_count": 25,
      "outputs": [
        {
          "output_type": "stream",
          "text": [
            "Hệ số chặn y \n"
          ],
          "name": "stdout"
        },
        {
          "output_type": "execute_result",
          "data": {
            "text/plain": [
              "12736.520499042934"
            ]
          },
          "metadata": {
            "tags": []
          },
          "execution_count": 25
        }
      ]
    },
    {
      "cell_type": "markdown",
      "metadata": {
        "id": "pfyR0AfX43y5"
      },
      "source": [
        "4: Tóm tắt thống kê mô tả \n",
        "\n",
        "Bảng tóm tắt thống kê mô tả"
      ]
    },
    {
      "cell_type": "code",
      "metadata": {
        "colab": {
          "base_uri": "https://localhost:8080/",
          "height": 296
        },
        "id": "GxBO_0k95eAM",
        "outputId": "2fa45334-d884-4ac9-b01b-010829c68040"
      },
      "source": [
        "df.describe()"
      ],
      "execution_count": 26,
      "outputs": [
        {
          "output_type": "execute_result",
          "data": {
            "text/html": [
              "<div>\n",
              "<style scoped>\n",
              "    .dataframe tbody tr th:only-of-type {\n",
              "        vertical-align: middle;\n",
              "    }\n",
              "\n",
              "    .dataframe tbody tr th {\n",
              "        vertical-align: top;\n",
              "    }\n",
              "\n",
              "    .dataframe thead th {\n",
              "        text-align: right;\n",
              "    }\n",
              "</style>\n",
              "<table border=\"1\" class=\"dataframe\">\n",
              "  <thead>\n",
              "    <tr style=\"text-align: right;\">\n",
              "      <th></th>\n",
              "      <th>Thu nhập hàng tháng</th>\n",
              "      <th>Chi phí hằng tháng</th>\n",
              "      <th>Số thành viên</th>\n",
              "      <th>Tiền thuê hằng tháng</th>\n",
              "      <th>Thu nhập hằng năm</th>\n",
              "      <th>Số người kiếm tiền</th>\n",
              "      <th>Số tiền có được hàng tháng</th>\n",
              "    </tr>\n",
              "  </thead>\n",
              "  <tbody>\n",
              "    <tr>\n",
              "      <th>count</th>\n",
              "      <td>50.000000</td>\n",
              "      <td>50.000000</td>\n",
              "      <td>50.000000</td>\n",
              "      <td>50.000000</td>\n",
              "      <td>5.000000e+01</td>\n",
              "      <td>50.000000</td>\n",
              "      <td>50.000000</td>\n",
              "    </tr>\n",
              "    <tr>\n",
              "      <th>mean</th>\n",
              "      <td>41558.000000</td>\n",
              "      <td>18818.000000</td>\n",
              "      <td>4.060000</td>\n",
              "      <td>3060.000000</td>\n",
              "      <td>4.900190e+05</td>\n",
              "      <td>1.460000</td>\n",
              "      <td>19680.000000</td>\n",
              "    </tr>\n",
              "    <tr>\n",
              "      <th>std</th>\n",
              "      <td>26097.908979</td>\n",
              "      <td>12090.216824</td>\n",
              "      <td>1.517382</td>\n",
              "      <td>6241.434948</td>\n",
              "      <td>3.201358e+05</td>\n",
              "      <td>0.734291</td>\n",
              "      <td>22486.794311</td>\n",
              "    </tr>\n",
              "    <tr>\n",
              "      <th>min</th>\n",
              "      <td>5000.000000</td>\n",
              "      <td>2000.000000</td>\n",
              "      <td>1.000000</td>\n",
              "      <td>0.000000</td>\n",
              "      <td>6.420000e+04</td>\n",
              "      <td>1.000000</td>\n",
              "      <td>-36000.000000</td>\n",
              "    </tr>\n",
              "    <tr>\n",
              "      <th>25%</th>\n",
              "      <td>23550.000000</td>\n",
              "      <td>10000.000000</td>\n",
              "      <td>3.000000</td>\n",
              "      <td>0.000000</td>\n",
              "      <td>2.587500e+05</td>\n",
              "      <td>1.000000</td>\n",
              "      <td>5125.000000</td>\n",
              "    </tr>\n",
              "    <tr>\n",
              "      <th>50%</th>\n",
              "      <td>35000.000000</td>\n",
              "      <td>15500.000000</td>\n",
              "      <td>4.000000</td>\n",
              "      <td>0.000000</td>\n",
              "      <td>4.474200e+05</td>\n",
              "      <td>1.000000</td>\n",
              "      <td>17000.000000</td>\n",
              "    </tr>\n",
              "    <tr>\n",
              "      <th>75%</th>\n",
              "      <td>50375.000000</td>\n",
              "      <td>25000.000000</td>\n",
              "      <td>5.000000</td>\n",
              "      <td>3500.000000</td>\n",
              "      <td>5.947200e+05</td>\n",
              "      <td>2.000000</td>\n",
              "      <td>30875.000000</td>\n",
              "    </tr>\n",
              "    <tr>\n",
              "      <th>max</th>\n",
              "      <td>100000.000000</td>\n",
              "      <td>50000.000000</td>\n",
              "      <td>7.000000</td>\n",
              "      <td>35000.000000</td>\n",
              "      <td>1.404000e+06</td>\n",
              "      <td>4.000000</td>\n",
              "      <td>73000.000000</td>\n",
              "    </tr>\n",
              "  </tbody>\n",
              "</table>\n",
              "</div>"
            ],
            "text/plain": [
              "       Thu nhập hàng tháng  ...  Số tiền có được hàng tháng\n",
              "count            50.000000  ...                   50.000000\n",
              "mean          41558.000000  ...                19680.000000\n",
              "std           26097.908979  ...                22486.794311\n",
              "min            5000.000000  ...               -36000.000000\n",
              "25%           23550.000000  ...                 5125.000000\n",
              "50%           35000.000000  ...                17000.000000\n",
              "75%           50375.000000  ...                30875.000000\n",
              "max          100000.000000  ...                73000.000000\n",
              "\n",
              "[8 rows x 7 columns]"
            ]
          },
          "metadata": {
            "tags": []
          },
          "execution_count": 26
        }
      ]
    },
    {
      "cell_type": "markdown",
      "metadata": {
        "id": "5Y4PMbJt5vhK"
      },
      "source": [
        "5: Trực quan hóa dữ liệu \n",
        "\n",
        "Biểu đồ cột thể hiện số tiền có được hàng tháng của tập dữ liệu "
      ]
    },
    {
      "cell_type": "code",
      "metadata": {
        "colab": {
          "base_uri": "https://localhost:8080/",
          "height": 364
        },
        "id": "1rw9tkFrmUwm",
        "outputId": "b95ccf40-d331-43f5-93b1-728d5112de3d"
      },
      "source": [
        "sns.distplot(df[\"Số tiền có được hàng tháng\"])"
      ],
      "execution_count": 27,
      "outputs": [
        {
          "output_type": "stream",
          "text": [
            "/usr/local/lib/python3.7/dist-packages/seaborn/distributions.py:2557: FutureWarning: `distplot` is a deprecated function and will be removed in a future version. Please adapt your code to use either `displot` (a figure-level function with similar flexibility) or `histplot` (an axes-level function for histograms).\n",
            "  warnings.warn(msg, FutureWarning)\n"
          ],
          "name": "stderr"
        },
        {
          "output_type": "execute_result",
          "data": {
            "text/plain": [
              "<matplotlib.axes._subplots.AxesSubplot at 0x7fe5637eda10>"
            ]
          },
          "metadata": {
            "tags": []
          },
          "execution_count": 27
        },
        {
          "output_type": "display_data",
          "data": {
            "image/png": "[encoded data removed]",
            "text/plain": [
              "<Figure size 432x288 with 1 Axes>"
            ]
          },
          "metadata": {
            "tags": [],
            "needs_background": "light"
          }
        }
      ]
    },
    {
      "cell_type": "markdown",
      "metadata": {
        "id": "BfVAff1ciojJ"
      },
      "source": [
        "Biểu đồ hộp  trình bày trực quan về thống kê mô tả của tập dữ liệu "
      ]
    },
    {
      "cell_type": "code",
      "metadata": {
        "colab": {
          "base_uri": "https://localhost:8080/",
          "height": 875
        },
        "id": "E9nevHiLmVQZ",
        "outputId": "1bc657a5-4dce-4ce5-8e70-2823d379377a"
      },
      "source": [
        "boxplot = df.boxplot(column=['Thu nhập hàng tháng', 'Chi phí hằng tháng', 'Số tiền có được hàng tháng'],fontsize= 20 ,figsize=(15,15))"
      ],
      "execution_count": 28,
      "outputs": [
        {
          "output_type": "display_data",
          "data": {
            "image/png": "[encoded data removed]",
            "text/plain": [
              "<Figure size 1080x1080 with 1 Axes>"
            ]
          },
          "metadata": {
            "tags": [],
            "needs_background": "light"
          }
        }
      ]
    },
    {
      "cell_type": "markdown",
      "metadata": {
        "id": "q3qNhGCJjHye"
      },
      "source": [
        "Tính tỉ lệ mức sống trong tập dữ liệu\n",
        "\n",
        "\n",
        "\n",
        "\n"
      ]
    },
    {
      "cell_type": "code",
      "metadata": {
        "colab": {
          "base_uri": "https://localhost:8080/",
          "height": 235
        },
        "id": "i0EtqF2vmq46",
        "outputId": "61c504ab-e431-408e-c791-04bed61d61ec"
      },
      "source": [
        "z = df.groupby('Mức sống')['Mức sống'].count()\n",
        "z = pd.DataFrame(z)\n",
        "z.columns = ['Số lượng']\n",
        "z"
      ],
      "execution_count": 51,
      "outputs": [
        {
          "output_type": "execute_result",
          "data": {
            "text/html": [
              "<div>\n",
              "<style scoped>\n",
              "    .dataframe tbody tr th:only-of-type {\n",
              "        vertical-align: middle;\n",
              "    }\n",
              "\n",
              "    .dataframe tbody tr th {\n",
              "        vertical-align: top;\n",
              "    }\n",
              "\n",
              "    .dataframe thead th {\n",
              "        text-align: right;\n",
              "    }\n",
              "</style>\n",
              "<table border=\"1\" class=\"dataframe\">\n",
              "  <thead>\n",
              "    <tr style=\"text-align: right;\">\n",
              "      <th></th>\n",
              "      <th>Số lượng</th>\n",
              "    </tr>\n",
              "    <tr>\n",
              "      <th>Mức sống</th>\n",
              "      <th></th>\n",
              "    </tr>\n",
              "  </thead>\n",
              "  <tbody>\n",
              "    <tr>\n",
              "      <th>Không đủ chi tiêu</th>\n",
              "      <td>8</td>\n",
              "    </tr>\n",
              "    <tr>\n",
              "      <th>Mức dư lớn</th>\n",
              "      <td>5</td>\n",
              "    </tr>\n",
              "    <tr>\n",
              "      <th>Mức dư siêu lớn</th>\n",
              "      <td>33</td>\n",
              "    </tr>\n",
              "    <tr>\n",
              "      <th>Mức dư vừa</th>\n",
              "      <td>1</td>\n",
              "    </tr>\n",
              "    <tr>\n",
              "      <th>Mức dư ít</th>\n",
              "      <td>3</td>\n",
              "    </tr>\n",
              "  </tbody>\n",
              "</table>\n",
              "</div>"
            ],
            "text/plain": [
              "                   Số lượng\n",
              "Mức sống                   \n",
              "Không đủ chi tiêu         8\n",
              "Mức dư lớn                5\n",
              "Mức dư siêu lớn          33\n",
              "Mức dư vừa                1\n",
              "Mức dư ít                 3"
            ]
          },
          "metadata": {
            "tags": []
          },
          "execution_count": 51
        }
      ]
    },
    {
      "cell_type": "code",
      "metadata": {
        "colab": {
          "base_uri": "https://localhost:8080/",
          "height": 716
        },
        "id": "thIf3LM3KzpH",
        "outputId": "e34e0d11-e093-447f-9013-91746d6f1289"
      },
      "source": [
        "fig = plt.figure()\n",
        "ax = fig.add_axes([0,0,1.5,2])\n",
        "ax.set_title('Biểu đồ thể hiện mức sống')\n",
        "td = ['Không đủ chi tiêu',\"Mức dư lớn\",'Mức dư siêu lớn','Mức dư vừa','Mức dư ít']\n",
        "sl = [8,5,33,1,3]\n",
        "ax.bar(langs,sl)\n",
        "plt.show()"
      ],
      "execution_count": 84,
      "outputs": [
        {
          "output_type": "stream",
          "text": [
            "/usr/local/lib/python3.7/dist-packages/matplotlib/backends/backend_agg.py:214: RuntimeWarning: Glyph 9 missing from current font.\n",
            "  font.set_text(s, 0.0, flags=flags)\n",
            "/usr/local/lib/python3.7/dist-packages/matplotlib/backends/backend_agg.py:183: RuntimeWarning: Glyph 9 missing from current font.\n",
            "  font.set_text(s, 0, flags=flags)\n"
          ],
          "name": "stderr"
        },
        {
          "output_type": "display_data",
          "data": {
            "image/png": "[encoded data removed]",
            "text/plain": [
              "<Figure size 432x288 with 1 Axes>"
            ]
          },
          "metadata": {
            "tags": []
          }
        }
      ]
    },
    {
      "cell_type": "code",
      "metadata": {
        "colab": {
          "base_uri": "https://localhost:8080/",
          "height": 235
        },
        "id": "LE7gm80qKPit",
        "outputId": "910b417e-0c47-479e-c949-cb822e2762e6"
      },
      "source": [
        "z.columns = ['Percent']\n",
        "type_live = z/sum(z['Percent'])*100\n",
        "type_live"
      ],
      "execution_count": 54,
      "outputs": [
        {
          "output_type": "execute_result",
          "data": {
            "text/html": [
              "<div>\n",
              "<style scoped>\n",
              "    .dataframe tbody tr th:only-of-type {\n",
              "        vertical-align: middle;\n",
              "    }\n",
              "\n",
              "    .dataframe tbody tr th {\n",
              "        vertical-align: top;\n",
              "    }\n",
              "\n",
              "    .dataframe thead th {\n",
              "        text-align: right;\n",
              "    }\n",
              "</style>\n",
              "<table border=\"1\" class=\"dataframe\">\n",
              "  <thead>\n",
              "    <tr style=\"text-align: right;\">\n",
              "      <th></th>\n",
              "      <th>Percent</th>\n",
              "    </tr>\n",
              "    <tr>\n",
              "      <th>Mức sống</th>\n",
              "      <th></th>\n",
              "    </tr>\n",
              "  </thead>\n",
              "  <tbody>\n",
              "    <tr>\n",
              "      <th>Không đủ chi tiêu</th>\n",
              "      <td>16.0</td>\n",
              "    </tr>\n",
              "    <tr>\n",
              "      <th>Mức dư lớn</th>\n",
              "      <td>10.0</td>\n",
              "    </tr>\n",
              "    <tr>\n",
              "      <th>Mức dư siêu lớn</th>\n",
              "      <td>66.0</td>\n",
              "    </tr>\n",
              "    <tr>\n",
              "      <th>Mức dư vừa</th>\n",
              "      <td>2.0</td>\n",
              "    </tr>\n",
              "    <tr>\n",
              "      <th>Mức dư ít</th>\n",
              "      <td>6.0</td>\n",
              "    </tr>\n",
              "  </tbody>\n",
              "</table>\n",
              "</div>"
            ],
            "text/plain": [
              "                   Percent\n",
              "Mức sống                  \n",
              "Không đủ chi tiêu     16.0\n",
              "Mức dư lớn            10.0\n",
              "Mức dư siêu lớn       66.0\n",
              "Mức dư vừa             2.0\n",
              "Mức dư ít              6.0"
            ]
          },
          "metadata": {
            "tags": []
          },
          "execution_count": 54
        }
      ]
    },
    {
      "cell_type": "markdown",
      "metadata": {
        "id": "YgJ6Ja_sjWzB"
      },
      "source": [
        "Biểu đồ tròn thể hiện tỉ lệ mức sống trong tập dữ liệu "
      ]
    },
    {
      "cell_type": "code",
      "metadata": {
        "colab": {
          "base_uri": "https://localhost:8080/",
          "height": 631
        },
        "id": "B69KTonVmq8I",
        "outputId": "7e5d405f-b471-4f44-926f-4cefccffb6e0"
      },
      "source": [
        "g = type_live.values.tolist()\n",
        "mylabelss = [\"Không đủ chi tiêu\", \"Mức dư lớn\", \"Mức dư siêu lớn\", \"Mức dư vừa\",\"Mức dư ít\"]\n",
        "myexplodes = [0, 0, 0.1, 0, 0]\n",
        "mycolorss = [\"r\", \"g\", \"m\", \"y\", \"c\"]\n",
        "plt.figure(figsize=(15,10))\n",
        "plt.pie(g, labels = mylabelss, startangle = 0, explode = myexplodes,shadow = True, autopct='%1.1f%%')\n",
        "plt.legend(title = \"Types:\", fontsize = 13, loc =2)\n",
        "plt.show() "
      ],
      "execution_count": 59,
      "outputs": [
        {
          "output_type": "stream",
          "text": [
            "/usr/local/lib/python3.7/dist-packages/ipykernel_launcher.py:6: MatplotlibDeprecationWarning: Non-1D inputs to pie() are currently squeeze()d, but this behavior is deprecated since 3.1 and will be removed in 3.3; pass a 1D array instead.\n",
            "  \n"
          ],
          "name": "stderr"
        },
        {
          "output_type": "display_data",
          "data": {
            "image/png": "[encoded data removed]",
            "text/plain": [
              "<Figure size 1080x720 with 1 Axes>"
            ]
          },
          "metadata": {
            "tags": []
          }
        }
      ]
    },
    {
      "cell_type": "markdown",
      "metadata": {
        "id": "4Ts7rpq7jemh"
      },
      "source": [
        "Biểu đồ thể hiện sự phân tán giữa thu nhập và chi phí "
      ]
    },
    {
      "cell_type": "code",
      "metadata": {
        "colab": {
          "base_uri": "https://localhost:8080/",
          "height": 511
        },
        "id": "mGjCrMIDmrAl",
        "outputId": "8608598d-62c5-446f-b260-26adee27a19c"
      },
      "source": [
        "sns.FacetGrid(df, hue=\"Học vị cao nhất\", size=6) \\\n",
        "   .map(plt.scatter, \"Thu nhập hàng tháng\", \"Chi phí hằng tháng\") \\\n",
        "   .add_legend()\n",
        "plt.title(\"Mối quan hệ phân tán giữa thu nhập và chi phí hằng tháng của mỗi học vị\")"
      ],
      "execution_count": 32,
      "outputs": [
        {
          "output_type": "stream",
          "text": [
            "/usr/local/lib/python3.7/dist-packages/seaborn/axisgrid.py:316: UserWarning: The `size` parameter has been renamed to `height`; please update your code.\n",
            "  warnings.warn(msg, UserWarning)\n"
          ],
          "name": "stderr"
        },
        {
          "output_type": "execute_result",
          "data": {
            "text/plain": [
              "Text(0.5, 1.0, 'Mối quan hệ phân tán giữa thu nhập và chi phí hằng tháng của mỗi học vị')"
            ]
          },
          "metadata": {
            "tags": []
          },
          "execution_count": 32
        },
        {
          "output_type": "display_data",
          "data": {
            "image/png": "[encoded data removed]",
            "text/plain": [
              "<Figure size 548.625x432 with 1 Axes>"
            ]
          },
          "metadata": {
            "tags": [],
            "needs_background": "light"
          }
        }
      ]
    },
    {
      "cell_type": "markdown",
      "metadata": {
        "id": "g3saOufNjoSM"
      },
      "source": [
        "Biểu đồ đường thể hiện thu nhập và chi phí hàng tháng"
      ]
    },
    {
      "cell_type": "code",
      "metadata": {
        "id": "7AeHYZdMmrHW",
        "colab": {
          "base_uri": "https://localhost:8080/",
          "height": 283
        },
        "outputId": "79f53d19-7580-4d9b-ceff-a6a598526551"
      },
      "source": [
        "df[[\"Thu nhập hàng tháng\", \"Chi phí hằng tháng\"]].plot()"
      ],
      "execution_count": 33,
      "outputs": [
        {
          "output_type": "execute_result",
          "data": {
            "text/plain": [
              "<matplotlib.axes._subplots.AxesSubplot at 0x7fe56107f290>"
            ]
          },
          "metadata": {
            "tags": []
          },
          "execution_count": 33
        },
        {
          "output_type": "display_data",
          "data": {
            "image/png": "[encoded data removed]",
            "text/plain": [
              "<Figure size 432x288 with 1 Axes>"
            ]
          },
          "metadata": {
            "tags": [],
            "needs_background": "light"
          }
        }
      ]
    }
  ]
}